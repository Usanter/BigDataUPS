{
 "cells": [
  {
   "cell_type": "code",
   "execution_count": 1,
   "metadata": {
    "collapsed": true
   },
   "outputs": [],
   "source": [
    "import json\n",
    "import os"
   ]
  },
  {
   "cell_type": "code",
   "execution_count": 2,
   "metadata": {
    "collapsed": true
   },
   "outputs": [],
   "source": [
    "features_label = []\n",
    "\n",
    "path_save = \"../json/features_labelise/\"\n",
    "dirs = os.listdir(path_save)\n",
    "\n",
    "for f in dirs:\n",
    "    #print (\"computing data in : \" + path_save + f)\n",
    "    with open(path_save + f, 'r') as file:\n",
    "        feature = json.load(file)\n",
    "    features_label.append(feature[\"Label\"])\n",
    "    file.close()"
   ]
  },
  {
   "cell_type": "code",
   "execution_count": 3,
   "metadata": {
    "collapsed": true
   },
   "outputs": [],
   "source": [
    "from collections import Counter, defaultdict\n",
    "counts = defaultdict(int)\n",
    "for l in features_label:\n",
    "    counts[l] += 1"
   ]
  },
  {
   "cell_type": "code",
   "execution_count": 4,
   "metadata": {},
   "outputs": [
    {
     "data": {
      "text/html": [
       "<script>requirejs.config({paths: { 'plotly': ['https://cdn.plot.ly/plotly-latest.min']},});if(!window.Plotly) {{require(['plotly'],function(plotly) {window.Plotly=plotly;});}}</script>"
      ],
      "text/vnd.plotly.v1+html": [
       "<script>requirejs.config({paths: { 'plotly': ['https://cdn.plot.ly/plotly-latest.min']},});if(!window.Plotly) {{require(['plotly'],function(plotly) {window.Plotly=plotly;});}}</script>"
      ]
     },
     "metadata": {},
     "output_type": "display_data"
    },
    {
     "data": {
      "application/vnd.plotly.v1+json": {
       "data": [
        {
         "type": "bar",
         "x": [
          14,
          7,
          9,
          10,
          8,
          4,
          1,
          2,
          16,
          0,
          11,
          5,
          12,
          13,
          3,
          15,
          6
         ],
         "y": [
          11915,
          16539,
          17826,
          24961,
          10552,
          674,
          3283,
          4477,
          20982,
          12243,
          1460,
          9068,
          15434,
          938,
          115,
          30,
          13
         ]
        }
       ],
       "layout": {}
      },
      "text/html": [
       "<div id=\"9d748f8b-0613-4c6b-8847-2bdf3edc5eda\" style=\"height: 525px; width: 100%;\" class=\"plotly-graph-div\"></div><script type=\"text/javascript\">require([\"plotly\"], function(Plotly) { window.PLOTLYENV=window.PLOTLYENV || {};window.PLOTLYENV.BASE_URL=\"https://plot.ly\";Plotly.newPlot(\"9d748f8b-0613-4c6b-8847-2bdf3edc5eda\", [{\"type\": \"bar\", \"x\": [14, 7, 9, 10, 8, 4, 1, 2, 16, 0, 11, 5, 12, 13, 3, 15, 6], \"y\": [11915, 16539, 17826, 24961, 10552, 674, 3283, 4477, 20982, 12243, 1460, 9068, 15434, 938, 115, 30, 13]}], {}, {\"showLink\": true, \"linkText\": \"Export to plot.ly\"})});</script>"
      ],
      "text/vnd.plotly.v1+html": [
       "<div id=\"9d748f8b-0613-4c6b-8847-2bdf3edc5eda\" style=\"height: 525px; width: 100%;\" class=\"plotly-graph-div\"></div><script type=\"text/javascript\">require([\"plotly\"], function(Plotly) { window.PLOTLYENV=window.PLOTLYENV || {};window.PLOTLYENV.BASE_URL=\"https://plot.ly\";Plotly.newPlot(\"9d748f8b-0613-4c6b-8847-2bdf3edc5eda\", [{\"type\": \"bar\", \"x\": [14, 7, 9, 10, 8, 4, 1, 2, 16, 0, 11, 5, 12, 13, 3, 15, 6], \"y\": [11915, 16539, 17826, 24961, 10552, 674, 3283, 4477, 20982, 12243, 1460, 9068, 15434, 938, 115, 30, 13]}], {}, {\"showLink\": true, \"linkText\": \"Export to plot.ly\"})});</script>"
      ]
     },
     "metadata": {},
     "output_type": "display_data"
    }
   ],
   "source": [
    "import plotly.offline as py\n",
    "py.init_notebook_mode(connected=True)\n",
    "import plotly.graph_objs as go\n",
    "\n",
    "\n",
    "data=[go.Bar(x=list(counts.keys()), y=list(counts.values()))]\n",
    "py.iplot(data, filename='train-label-dist')"
   ]
  },
  {
   "cell_type": "code",
   "execution_count": null,
   "metadata": {
    "collapsed": true
   },
   "outputs": [],
   "source": []
  },
  {
   "cell_type": "code",
   "execution_count": null,
   "metadata": {
    "collapsed": true
   },
   "outputs": [],
   "source": []
  },
  {
   "cell_type": "code",
   "execution_count": null,
   "metadata": {
    "collapsed": true
   },
   "outputs": [],
   "source": []
  }
 ],
 "metadata": {
  "kernelspec": {
   "display_name": "Python 3",
   "language": "python",
   "name": "python3"
  },
  "language_info": {
   "codemirror_mode": {
    "name": "ipython",
    "version": 3
   },
   "file_extension": ".py",
   "mimetype": "text/x-python",
   "name": "python",
   "nbconvert_exporter": "python",
   "pygments_lexer": "ipython3",
   "version": "3.6.3"
  }
 },
 "nbformat": 4,
 "nbformat_minor": 2
}
