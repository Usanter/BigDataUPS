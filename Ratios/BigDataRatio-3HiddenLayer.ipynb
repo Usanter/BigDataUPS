{
 "cells": [
  {
   "cell_type": "code",
   "execution_count": 1,
   "metadata": {},
   "outputs": [
    {
     "name": "stderr",
     "output_type": "stream",
     "text": [
      "/usr/local/lib/python3.6/site-packages/h5py/__init__.py:36: FutureWarning: Conversion of the second argument of issubdtype from `float` to `np.floating` is deprecated. In future, it will be treated as `np.float64 == np.dtype(float).type`.\n",
      "  from ._conv import register_converters as _register_converters\n",
      "Using TensorFlow backend.\n"
     ]
    }
   ],
   "source": [
    "import json\n",
    "import os\n",
    "import numpy as np\n",
    "from sklearn.model_selection import train_test_split\n",
    "from keras.models import Sequential\n",
    "from keras.layers import Dense\n",
    "from keras.utils import to_categorical\n",
    "import h5py"
   ]
  },
  {
   "cell_type": "code",
   "execution_count": 2,
   "metadata": {},
   "outputs": [],
   "source": [
    "features = []\n",
    "features_label = []\n",
    "\n",
    "path_save = \"../json/features_labelise/\"\n",
    "dirs = os.listdir(path_save)\n",
    "\n",
    "for f in dirs:\n",
    "    #print (\"computing data in : \" + path_save + f)\n",
    "    with open(path_save + f, 'r') as file:\n",
    "        feature = json.load(file)\n",
    "    temp = []\n",
    "    temp.append(feature[\"Ratio_band1_0_band2_1_scale_1\"])\n",
    "    temp.append(feature[\"Ratio_band1_0_band2_1_scale_2\"])\n",
    "    temp.append(feature[\"Ratio_band1_0_band2_2_scale_4\"])\n",
    "    temp.append(feature[\"Ratio_band1_0_band2_1_scale_4\"])\n",
    "    temp.append(feature[\"Ratio_band1_0_band2_2_scale_2\"])\n",
    "    temp.append(feature[\"Ratio_band1_0_band2_2_scale_1\"])\n",
    "    temp.append(feature[\"Ratio_band1_1_band2_3_scale_2\"])\n",
    "    temp.append(feature[\"Ratio_band1_1_band2_3_scale_1\"])\n",
    "    temp.append(feature[\"Ratio_band1_1_band2_3_scale_4\"])\n",
    "    temp.append(feature[\"Ratio_band1_0_band2_3_scale_4\"])\n",
    "    temp.append(feature[\"Ratio_band1_0_band2_3_scale_2\"])\n",
    "    temp.append(feature[\"Ratio_band1_2_band2_3_scale_4\"])\n",
    "    temp.append(feature[\"Ratio_band1_0_band2_3_scale_1\"])\n",
    "    temp.append(feature[\"Ratio_band1_1_band2_2_scale_4\"])\n",
    "    temp.append(feature[\"Ratio_band1_1_band2_2_scale_2\"])\n",
    "    temp.append(feature[\"Ratio_band1_1_band2_2_scale_1\"])\n",
    "    temp.append(feature[\"Ratio_band1_2_band2_3_scale_1\"])\n",
    "    temp.append(feature[\"Ratio_band1_2_band2_3_scale_2\"])\n",
    "    features.append(temp)\n",
    "    features_label.append(feature[\"Label\"])\n",
    "    file.close()\n",
    "    \n",
    "\n"
   ]
  },
  {
   "cell_type": "code",
   "execution_count": 3,
   "metadata": {},
   "outputs": [
    {
     "name": "stdout",
     "output_type": "stream",
     "text": [
      "Taille dataset test  (30102, 18)\n",
      "Taille dataset train , (96326, 18)\n",
      "Taille dataset validation , (24082, 18)\n"
     ]
    }
   ],
   "source": [
    "features = np.array(features)\n",
    "features_label = np.array(features_label)\n",
    "\n",
    "x_train, x_test, y_train, y_test = train_test_split(features, features_label, test_size=0.20)\n",
    "\n",
    "print(\"Taille dataset test \", x_test.shape)\n",
    "\n",
    "x_train, x_valid, y_train, y_valid = train_test_split(x_train, y_train, test_size=0.20)\n",
    "\n",
    "print(\"Taille dataset train ,\", x_train.shape)\n",
    "print(\"Taille dataset validation ,\", x_valid.shape)\n",
    "\n",
    "y_train = to_categorical(y_train, 17)\n",
    "y_valid = to_categorical(y_valid, 17)\n",
    "y_test = to_categorical(y_test, 17)"
   ]
  },
  {
   "cell_type": "code",
   "execution_count": 5,
   "metadata": {},
   "outputs": [
    {
     "name": "stdout",
     "output_type": "stream",
     "text": [
      "_________________________________________________________________\n",
      "Layer (type)                 Output Shape              Param #   \n",
      "=================================================================\n",
      "dense_6 (Dense)              (None, 18)                342       \n",
      "_________________________________________________________________\n",
      "dense_7 (Dense)              (None, 29)                551       \n",
      "_________________________________________________________________\n",
      "dense_8 (Dense)              (None, 29)                870       \n",
      "_________________________________________________________________\n",
      "dense_9 (Dense)              (None, 29)                870       \n",
      "_________________________________________________________________\n",
      "dense_10 (Dense)             (None, 17)                510       \n",
      "=================================================================\n",
      "Total params: 3,143\n",
      "Trainable params: 3,143\n",
      "Non-trainable params: 0\n",
      "_________________________________________________________________\n"
     ]
    }
   ],
   "source": [
    "model = Sequential()\n",
    "model.add(Dense(18, input_shape=(18,), activation='relu'))\n",
    "model.add(Dense(29, activation='relu'))\n",
    "model.add(Dense(29, activation='relu'))\n",
    "model.add(Dense(29, activation='relu'))\n",
    "model.add(Dense(17, activation='softmax'))\n",
    "\n",
    "model.compile(loss='binary_crossentropy', optimizer='adam', metrics=['accuracy'])\n",
    "model.save_weights('model.h5')\n",
    "model.summary()"
   ]
  },
  {
   "cell_type": "code",
   "execution_count": 6,
   "metadata": {},
   "outputs": [
    {
     "name": "stdout",
     "output_type": "stream",
     "text": [
      "Train on 96326 samples, validate on 24082 samples\n",
      "Epoch 1/10\n",
      "96326/96326 [==============================] - 7s 72us/step - loss: 0.1462 - acc: 0.9479 - val_loss: 0.1341 - val_acc: 0.9499\n",
      "Epoch 2/10\n",
      "96326/96326 [==============================] - 6s 60us/step - loss: 0.1313 - acc: 0.9506 - val_loss: 0.1289 - val_acc: 0.9513\n",
      "Epoch 3/10\n",
      "96326/96326 [==============================] - 6s 62us/step - loss: 0.1279 - acc: 0.9515 - val_loss: 0.1280 - val_acc: 0.9515\n",
      "Epoch 4/10\n",
      "96326/96326 [==============================] - 6s 57us/step - loss: 0.1257 - acc: 0.9519 - val_loss: 0.1250 - val_acc: 0.9519\n",
      "Epoch 5/10\n",
      "96326/96326 [==============================] - 6s 57us/step - loss: 0.1241 - acc: 0.9524 - val_loss: 0.1240 - val_acc: 0.9524\n",
      "Epoch 6/10\n",
      "96326/96326 [==============================] - 5s 54us/step - loss: 0.1225 - acc: 0.9526 - val_loss: 0.1218 - val_acc: 0.9531\n",
      "Epoch 7/10\n",
      "96326/96326 [==============================] - 5s 51us/step - loss: 0.1213 - acc: 0.9531 - val_loss: 0.1217 - val_acc: 0.9529\n",
      "Epoch 8/10\n",
      "96326/96326 [==============================] - 5s 55us/step - loss: 0.1206 - acc: 0.9531 - val_loss: 0.1215 - val_acc: 0.9530\n",
      "Epoch 9/10\n",
      "96326/96326 [==============================] - 6s 59us/step - loss: 0.1196 - acc: 0.9535 - val_loss: 0.1195 - val_acc: 0.9535\n",
      "Epoch 10/10\n",
      "96326/96326 [==============================] - 6s 59us/step - loss: 0.1187 - acc: 0.9539 - val_loss: 0.1184 - val_acc: 0.9545\n"
     ]
    },
    {
     "data": {
      "text/plain": [
       "<keras.callbacks.History at 0x12bfcf748>"
      ]
     },
     "execution_count": 6,
     "metadata": {},
     "output_type": "execute_result"
    }
   ],
   "source": [
    "model.fit(x_train,y_train, epochs=10, batch_size=64,  validation_data=(x_valid, y_valid))"
   ]
  },
  {
   "cell_type": "code",
   "execution_count": 7,
   "metadata": {},
   "outputs": [
    {
     "name": "stdout",
     "output_type": "stream",
     "text": [
      "30102/30102 [==============================] - 1s 40us/step\n",
      "Test loss: 0.1174976895596409\n",
      "Test accuracy: 0.9545681661731357\n"
     ]
    }
   ],
   "source": [
    "score = model.evaluate(x=x_test, y=y_test)\n",
    "print('Test loss:', score[0])\n",
    "print('Test accuracy:', score[1])"
   ]
  },
  {
   "cell_type": "code",
   "execution_count": 8,
   "metadata": {},
   "outputs": [
    {
     "name": "stdout",
     "output_type": "stream",
     "text": [
      "Train on 96326 samples, validate on 24082 samples\n",
      "Epoch 1/10\n",
      "96326/96326 [==============================] - 10s 106us/step - loss: 0.1445 - acc: 0.9482 - val_loss: 0.1342 - val_acc: 0.9496\n",
      "Epoch 2/10\n",
      "96326/96326 [==============================] - 10s 109us/step - loss: 0.1313 - acc: 0.9510 - val_loss: 0.1286 - val_acc: 0.9522\n",
      "Epoch 3/10\n",
      "96326/96326 [==============================] - 9s 93us/step - loss: 0.1267 - acc: 0.9519 - val_loss: 0.1248 - val_acc: 0.9523\n",
      "Epoch 4/10\n",
      "96326/96326 [==============================] - 9s 98us/step - loss: 0.1238 - acc: 0.9524 - val_loss: 0.1219 - val_acc: 0.9536\n",
      "Epoch 5/10\n",
      "96326/96326 [==============================] - 9s 97us/step - loss: 0.1218 - acc: 0.9528 - val_loss: 0.1216 - val_acc: 0.9529\n",
      "Epoch 6/10\n",
      "96326/96326 [==============================] - 9s 95us/step - loss: 0.1204 - acc: 0.9531 - val_loss: 0.1206 - val_acc: 0.9534\n",
      "Epoch 7/10\n",
      "96326/96326 [==============================] - 9s 95us/step - loss: 0.1190 - acc: 0.9537 - val_loss: 0.1197 - val_acc: 0.9537\n",
      "Epoch 8/10\n",
      "96326/96326 [==============================] - 9s 96us/step - loss: 0.1180 - acc: 0.9542 - val_loss: 0.1165 - val_acc: 0.9549\n",
      "Epoch 9/10\n",
      "96326/96326 [==============================] - 9s 94us/step - loss: 0.1166 - acc: 0.9546 - val_loss: 0.1214 - val_acc: 0.9527\n",
      "Epoch 10/10\n",
      "96326/96326 [==============================] - 9s 94us/step - loss: 0.1154 - acc: 0.9553 - val_loss: 0.1189 - val_acc: 0.9536\n"
     ]
    },
    {
     "data": {
      "text/plain": [
       "<keras.callbacks.History at 0x1172cfa20>"
      ]
     },
     "execution_count": 8,
     "metadata": {},
     "output_type": "execute_result"
    }
   ],
   "source": [
    "model.load_weights('model.h5')\n",
    "model.fit(x_train,y_train, epochs=10, batch_size=28,  validation_data=(x_valid, y_valid))"
   ]
  },
  {
   "cell_type": "code",
   "execution_count": 9,
   "metadata": {},
   "outputs": [
    {
     "name": "stdout",
     "output_type": "stream",
     "text": [
      "30102/30102 [==============================] - 1s 44us/step\n",
      "Test loss: 0.11812494842851766\n",
      "Test accuracy: 0.9538255927689597\n"
     ]
    }
   ],
   "source": [
    "score = model.evaluate(x=x_test, y=y_test)\n",
    "print('Test loss:', score[0])\n",
    "print('Test accuracy:', score[1])"
   ]
  },
  {
   "cell_type": "code",
   "execution_count": null,
   "metadata": {},
   "outputs": [],
   "source": []
  }
 ],
 "metadata": {
  "kernelspec": {
   "display_name": "Python 3",
   "language": "python",
   "name": "python3"
  },
  "language_info": {
   "codemirror_mode": {
    "name": "ipython",
    "version": 3
   },
   "file_extension": ".py",
   "mimetype": "text/x-python",
   "name": "python",
   "nbconvert_exporter": "python",
   "pygments_lexer": "ipython3",
   "version": "3.6.4"
  }
 },
 "nbformat": 4,
 "nbformat_minor": 2
}
