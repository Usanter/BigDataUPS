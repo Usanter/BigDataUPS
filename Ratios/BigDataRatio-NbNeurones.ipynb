{
 "cells": [
  {
   "cell_type": "markdown",
   "metadata": {},
   "source": [
    "# Ici nous faisons varier le nombre de neurones dans la couche caché avec differentes formules"
   ]
  },
  {
   "cell_type": "code",
   "execution_count": 1,
   "metadata": {},
   "outputs": [
    {
     "name": "stderr",
     "output_type": "stream",
     "text": [
      "/usr/local/lib/python3.6/site-packages/h5py/__init__.py:36: FutureWarning: Conversion of the second argument of issubdtype from `float` to `np.floating` is deprecated. In future, it will be treated as `np.float64 == np.dtype(float).type`.\n",
      "  from ._conv import register_converters as _register_converters\n",
      "Using TensorFlow backend.\n"
     ]
    }
   ],
   "source": [
    "import json\n",
    "import os\n",
    "import numpy as np\n",
    "from sklearn.model_selection import train_test_split\n",
    "from keras.models import Sequential\n",
    "from keras.layers import Dense\n",
    "from keras.utils import to_categorical\n",
    "import h5py\n"
   ]
  },
  {
   "cell_type": "code",
   "execution_count": 2,
   "metadata": {},
   "outputs": [],
   "source": [
    "features = []\n",
    "features_label = []\n",
    "\n",
    "path_save = \"../json/features_labelise/\"\n",
    "dirs = os.listdir(path_save)\n",
    "\n",
    "for f in dirs:\n",
    "    #print (\"computing data in : \" + path_save + f)\n",
    "    with open(path_save + f, 'r') as file:\n",
    "        feature = json.load(file)\n",
    "    temp = []\n",
    "    temp.append(feature[\"Ratio_band1_0_band2_1_scale_1\"])\n",
    "    temp.append(feature[\"Ratio_band1_0_band2_1_scale_2\"])\n",
    "    temp.append(feature[\"Ratio_band1_0_band2_2_scale_4\"])\n",
    "    temp.append(feature[\"Ratio_band1_0_band2_1_scale_4\"])\n",
    "    temp.append(feature[\"Ratio_band1_0_band2_2_scale_2\"])\n",
    "    temp.append(feature[\"Ratio_band1_0_band2_2_scale_1\"])\n",
    "    temp.append(feature[\"Ratio_band1_1_band2_3_scale_2\"])\n",
    "    temp.append(feature[\"Ratio_band1_1_band2_3_scale_1\"])\n",
    "    temp.append(feature[\"Ratio_band1_1_band2_3_scale_4\"])\n",
    "    temp.append(feature[\"Ratio_band1_0_band2_3_scale_4\"])\n",
    "    temp.append(feature[\"Ratio_band1_0_band2_3_scale_2\"])\n",
    "    temp.append(feature[\"Ratio_band1_2_band2_3_scale_4\"])\n",
    "    temp.append(feature[\"Ratio_band1_0_band2_3_scale_1\"])\n",
    "    temp.append(feature[\"Ratio_band1_1_band2_2_scale_4\"])\n",
    "    temp.append(feature[\"Ratio_band1_1_band2_2_scale_2\"])\n",
    "    temp.append(feature[\"Ratio_band1_1_band2_2_scale_1\"])\n",
    "    temp.append(feature[\"Ratio_band1_2_band2_3_scale_1\"])\n",
    "    temp.append(feature[\"Ratio_band1_2_band2_3_scale_2\"])\n",
    "    features.append(temp)\n",
    "    features_label.append(feature[\"Label\"])\n",
    "    file.close()\n",
    "    \n",
    "\n"
   ]
  },
  {
   "cell_type": "code",
   "execution_count": 3,
   "metadata": {},
   "outputs": [
    {
     "name": "stdout",
     "output_type": "stream",
     "text": [
      "Taille dataset test  (30102, 18)\n",
      "Taille dataset train , (96326, 18)\n",
      "Taille dataset validation , (24082, 18)\n"
     ]
    }
   ],
   "source": [
    "features = np.array(features)\n",
    "features_label = np.array(features_label)\n",
    "\n",
    "x_train, x_test, y_train, y_test = train_test_split(features, features_label, test_size=0.20)\n",
    "\n",
    "print(\"Taille dataset test \", x_test.shape)\n",
    "\n",
    "x_train, x_valid, y_train, y_valid = train_test_split(x_train, y_train, test_size=0.20)\n",
    "\n",
    "print(\"Taille dataset train ,\", x_train.shape)\n",
    "print(\"Taille dataset validation ,\", x_valid.shape)\n",
    "\n",
    "y_train = to_categorical(y_train, 17)\n",
    "y_valid = to_categorical(y_valid, 17)\n",
    "y_test = to_categorical(y_test, 17)"
   ]
  },
  {
   "cell_type": "markdown",
   "metadata": {},
   "source": [
    "# 6 neurones"
   ]
  },
  {
   "cell_type": "code",
   "execution_count": 5,
   "metadata": {},
   "outputs": [
    {
     "data": {
      "text/plain": [
       "6"
      ]
     },
     "execution_count": 5,
     "metadata": {},
     "output_type": "execute_result"
    }
   ],
   "source": [
    "import math\n",
    "\n",
    "n = math.sqrt( 18 + 17 )\n",
    "n = math.ceil (n)\n",
    "n"
   ]
  },
  {
   "cell_type": "code",
   "execution_count": 6,
   "metadata": {},
   "outputs": [
    {
     "name": "stdout",
     "output_type": "stream",
     "text": [
      "_________________________________________________________________\n",
      "Layer (type)                 Output Shape              Param #   \n",
      "=================================================================\n",
      "dense_2 (Dense)              (None, 18)                342       \n",
      "_________________________________________________________________\n",
      "dense_3 (Dense)              (None, 6)                 114       \n",
      "_________________________________________________________________\n",
      "dense_4 (Dense)              (None, 17)                119       \n",
      "=================================================================\n",
      "Total params: 575\n",
      "Trainable params: 575\n",
      "Non-trainable params: 0\n",
      "_________________________________________________________________\n"
     ]
    }
   ],
   "source": [
    "model = Sequential()\n",
    "model.add(Dense(18, input_shape=(18,), activation='relu'))\n",
    "model.add(Dense(int(n), activation='relu'))\n",
    "model.add(Dense(17, activation='softmax'))\n",
    "\n",
    "model.compile(loss='binary_crossentropy', optimizer='adam', metrics=['accuracy'])\n",
    "model.summary()\n",
    "model.save_weights('model.h5')\n"
   ]
  },
  {
   "cell_type": "code",
   "execution_count": 7,
   "metadata": {},
   "outputs": [
    {
     "name": "stdout",
     "output_type": "stream",
     "text": [
      "Train on 96326 samples, validate on 24082 samples\n",
      "Epoch 1/10\n",
      "96326/96326 [==============================] - 6s 57us/step - loss: 0.1586 - acc: 0.9467 - val_loss: 0.1412 - val_acc: 0.9485\n",
      "Epoch 2/10\n",
      "96326/96326 [==============================] - 5s 55us/step - loss: 0.1399 - acc: 0.9485 - val_loss: 0.1384 - val_acc: 0.9487\n",
      "Epoch 3/10\n",
      "96326/96326 [==============================] - 5s 54us/step - loss: 0.1377 - acc: 0.9490 - val_loss: 0.1363 - val_acc: 0.9491\n",
      "Epoch 4/10\n",
      "96326/96326 [==============================] - 5s 55us/step - loss: 0.1356 - acc: 0.9495 - val_loss: 0.1344 - val_acc: 0.9499\n",
      "Epoch 5/10\n",
      "96326/96326 [==============================] - 5s 55us/step - loss: 0.1338 - acc: 0.9500 - val_loss: 0.1339 - val_acc: 0.9498\n",
      "Epoch 6/10\n",
      "96326/96326 [==============================] - 5s 53us/step - loss: 0.1327 - acc: 0.9503 - val_loss: 0.1319 - val_acc: 0.9505\n",
      "Epoch 7/10\n",
      "96326/96326 [==============================] - 5s 52us/step - loss: 0.1317 - acc: 0.9507 - val_loss: 0.1306 - val_acc: 0.9511\n",
      "Epoch 8/10\n",
      "96326/96326 [==============================] - 5s 48us/step - loss: 0.1309 - acc: 0.9510 - val_loss: 0.1302 - val_acc: 0.9513\n",
      "Epoch 9/10\n",
      "96326/96326 [==============================] - 5s 56us/step - loss: 0.1303 - acc: 0.9512 - val_loss: 0.1305 - val_acc: 0.9509\n",
      "Epoch 10/10\n",
      "96326/96326 [==============================] - 5s 55us/step - loss: 0.1296 - acc: 0.9514 - val_loss: 0.1286 - val_acc: 0.9516\n"
     ]
    }
   ],
   "source": [
    "model.fit(x_train,y_train, epochs=10, batch_size=64,  validation_data=(x_valid, y_valid))\n",
    "model.save_weights('64batch.h5')"
   ]
  },
  {
   "cell_type": "code",
   "execution_count": 8,
   "metadata": {},
   "outputs": [
    {
     "name": "stdout",
     "output_type": "stream",
     "text": [
      "30102/30102 [==============================] - 1s 44us/step\n",
      "Test loss: 0.1294253999677364\n",
      "Test accuracy: 0.9514689053675557\n"
     ]
    }
   ],
   "source": [
    "score = model.evaluate(x=x_test, y=y_test)\n",
    "print('Test loss:', score[0])\n",
    "print('Test accuracy:', score[1])"
   ]
  },
  {
   "cell_type": "code",
   "execution_count": 9,
   "metadata": {},
   "outputs": [
    {
     "name": "stdout",
     "output_type": "stream",
     "text": [
      "Train on 96326 samples, validate on 24082 samples\n",
      "Epoch 1/10\n",
      "96326/96326 [==============================] - 9s 98us/step - loss: 0.1579 - acc: 0.9465 - val_loss: 0.1409 - val_acc: 0.9489\n",
      "Epoch 2/10\n",
      "96326/96326 [==============================] - 9s 95us/step - loss: 0.1389 - acc: 0.9490 - val_loss: 0.1362 - val_acc: 0.9497\n",
      "Epoch 3/10\n",
      "96326/96326 [==============================] - 9s 95us/step - loss: 0.1353 - acc: 0.9498 - val_loss: 0.1335 - val_acc: 0.9500\n",
      "Epoch 4/10\n",
      "96326/96326 [==============================] - 8s 88us/step - loss: 0.1331 - acc: 0.9503 - val_loss: 0.1321 - val_acc: 0.9505\n",
      "Epoch 5/10\n",
      "96326/96326 [==============================] - 9s 90us/step - loss: 0.1317 - acc: 0.9506 - val_loss: 0.1309 - val_acc: 0.9506\n",
      "Epoch 6/10\n",
      "96326/96326 [==============================] - 9s 91us/step - loss: 0.1307 - acc: 0.9510 - val_loss: 0.1305 - val_acc: 0.9503\n",
      "Epoch 7/10\n",
      "96326/96326 [==============================] - 9s 91us/step - loss: 0.1301 - acc: 0.9512 - val_loss: 0.1300 - val_acc: 0.9507\n",
      "Epoch 8/10\n",
      "96326/96326 [==============================] - 9s 92us/step - loss: 0.1294 - acc: 0.9514 - val_loss: 0.1290 - val_acc: 0.9511\n",
      "Epoch 9/10\n",
      "96326/96326 [==============================] - 9s 96us/step - loss: 0.1290 - acc: 0.9515 - val_loss: 0.1283 - val_acc: 0.9513\n",
      "Epoch 10/10\n",
      "96326/96326 [==============================] - 9s 96us/step - loss: 0.1286 - acc: 0.9517 - val_loss: 0.1280 - val_acc: 0.9516\n"
     ]
    },
    {
     "data": {
      "text/plain": [
       "<keras.callbacks.History at 0x12b05efd0>"
      ]
     },
     "execution_count": 9,
     "metadata": {},
     "output_type": "execute_result"
    }
   ],
   "source": [
    "model.load_weights('model.h5')\n",
    "model.fit(x_train,y_train, epochs=10, batch_size=28,  validation_data=(x_valid, y_valid))"
   ]
  },
  {
   "cell_type": "code",
   "execution_count": 10,
   "metadata": {},
   "outputs": [
    {
     "name": "stdout",
     "output_type": "stream",
     "text": [
      "30102/30102 [==============================] - 1s 40us/step\n",
      "Test loss: 0.12887829572603907\n",
      "Test accuracy: 0.9515060331566247\n"
     ]
    }
   ],
   "source": [
    "score = model.evaluate(x=x_test, y=y_test)\n",
    "print('Test loss:', score[0])\n",
    "print('Test accuracy:', score[1])"
   ]
  },
  {
   "cell_type": "code",
   "execution_count": 11,
   "metadata": {},
   "outputs": [
    {
     "name": "stdout",
     "output_type": "stream",
     "text": [
      "Train on 96326 samples, validate on 24082 samples\n",
      "Epoch 1/10\n",
      "96326/96326 [==============================] - 34s 351us/step - loss: 0.1454 - acc: 0.9483 - val_loss: 0.1357 - val_acc: 0.9495\n",
      "Epoch 2/10\n",
      "96326/96326 [==============================] - 33s 346us/step - loss: 0.1351 - acc: 0.9499 - val_loss: 0.1328 - val_acc: 0.9503\n",
      "Epoch 3/10\n",
      "96326/96326 [==============================] - 33s 347us/step - loss: 0.1323 - acc: 0.9505 - val_loss: 0.1301 - val_acc: 0.9508\n",
      "Epoch 4/10\n",
      "96326/96326 [==============================] - 36s 371us/step - loss: 0.1307 - acc: 0.9509 - val_loss: 0.1309 - val_acc: 0.9505\n",
      "Epoch 5/10\n",
      "96326/96326 [==============================] - 32s 333us/step - loss: 0.1295 - acc: 0.9512 - val_loss: 0.1287 - val_acc: 0.9513\n",
      "Epoch 6/10\n",
      "96326/96326 [==============================] - 31s 319us/step - loss: 0.1288 - acc: 0.9514 - val_loss: 0.1288 - val_acc: 0.9510\n",
      "Epoch 7/10\n",
      "96326/96326 [==============================] - 32s 329us/step - loss: 0.1282 - acc: 0.9515 - val_loss: 0.1271 - val_acc: 0.9518\n",
      "Epoch 8/10\n",
      "96326/96326 [==============================] - 32s 327us/step - loss: 0.1279 - acc: 0.9515 - val_loss: 0.1273 - val_acc: 0.9515\n",
      "Epoch 9/10\n",
      "96326/96326 [==============================] - 31s 325us/step - loss: 0.1275 - acc: 0.9516 - val_loss: 0.1265 - val_acc: 0.9518\n",
      "Epoch 10/10\n",
      "96326/96326 [==============================] - 31s 317us/step - loss: 0.1272 - acc: 0.9516 - val_loss: 0.1255 - val_acc: 0.9521\n"
     ]
    },
    {
     "data": {
      "text/plain": [
       "<keras.callbacks.History at 0x12b05ec18>"
      ]
     },
     "execution_count": 11,
     "metadata": {},
     "output_type": "execute_result"
    }
   ],
   "source": [
    "model.load_weights('model.h5')\n",
    "model.fit(x_train,y_train, epochs=10, batch_size=6,  validation_data=(x_valid, y_valid))"
   ]
  },
  {
   "cell_type": "code",
   "execution_count": 12,
   "metadata": {},
   "outputs": [
    {
     "name": "stdout",
     "output_type": "stream",
     "text": [
      "30102/30102 [==============================] - 1s 41us/step\n",
      "Test loss: 0.12660006830337223\n",
      "Test accuracy: 0.9518011060396894\n"
     ]
    }
   ],
   "source": [
    "score = model.evaluate(x=x_test, y=y_test)\n",
    "print('Test loss:', score[0])\n",
    "print('Test accuracy:', score[1])"
   ]
  },
  {
   "cell_type": "markdown",
   "metadata": {},
   "source": [
    "# The number of hidden neurons should be between the size of the input layer and the size of the output layer. Fait dans le jupyter BigDataRatio-1HiddenLayer\n"
   ]
  },
  {
   "cell_type": "markdown",
   "metadata": {},
   "source": [
    "# The number of hidden neurons should be 2/3 the size of the input layer, plus the size of the output layer. \n"
   ]
  },
  {
   "cell_type": "code",
   "execution_count": 13,
   "metadata": {},
   "outputs": [
    {
     "data": {
      "text/plain": [
       "29.0"
      ]
     },
     "execution_count": 13,
     "metadata": {},
     "output_type": "execute_result"
    }
   ],
   "source": [
    "n = ((18*2)/3) + 17\n",
    "n"
   ]
  },
  {
   "cell_type": "code",
   "execution_count": 14,
   "metadata": {},
   "outputs": [
    {
     "name": "stdout",
     "output_type": "stream",
     "text": [
      "_________________________________________________________________\n",
      "Layer (type)                 Output Shape              Param #   \n",
      "=================================================================\n",
      "dense_5 (Dense)              (None, 18)                342       \n",
      "_________________________________________________________________\n",
      "dense_6 (Dense)              (None, 29)                551       \n",
      "_________________________________________________________________\n",
      "dense_7 (Dense)              (None, 17)                510       \n",
      "=================================================================\n",
      "Total params: 1,403\n",
      "Trainable params: 1,403\n",
      "Non-trainable params: 0\n",
      "_________________________________________________________________\n"
     ]
    }
   ],
   "source": [
    "model2 = Sequential()\n",
    "model2.add(Dense(18, input_shape=(18,), activation='relu'))\n",
    "model2.add(Dense(int(n), activation='relu'))\n",
    "model2.add(Dense(17, activation='softmax'))\n",
    "\n",
    "model2.compile(loss='binary_crossentropy', optimizer='adam', metrics=['accuracy'])\n",
    "model2.summary()\n",
    "model2.save_weights('model2.h5')"
   ]
  },
  {
   "cell_type": "code",
   "execution_count": 15,
   "metadata": {},
   "outputs": [
    {
     "name": "stdout",
     "output_type": "stream",
     "text": [
      "Train on 96326 samples, validate on 24082 samples\n",
      "Epoch 1/10\n",
      "96326/96326 [==============================] - 5s 54us/step - loss: 0.1500 - acc: 0.9474 - val_loss: 0.1369 - val_acc: 0.9496\n",
      "Epoch 2/10\n",
      "96326/96326 [==============================] - 5s 52us/step - loss: 0.1349 - acc: 0.9499 - val_loss: 0.1323 - val_acc: 0.9508\n",
      "Epoch 3/10\n",
      "96326/96326 [==============================] - 5s 51us/step - loss: 0.1309 - acc: 0.9507 - val_loss: 0.1290 - val_acc: 0.9509\n",
      "Epoch 4/10\n",
      "96326/96326 [==============================] - 5s 51us/step - loss: 0.1285 - acc: 0.9511 - val_loss: 0.1266 - val_acc: 0.9516\n",
      "Epoch 5/10\n",
      "96326/96326 [==============================] - 5s 51us/step - loss: 0.1266 - acc: 0.9517 - val_loss: 0.1252 - val_acc: 0.9519\n",
      "Epoch 6/10\n",
      "96326/96326 [==============================] - 5s 51us/step - loss: 0.1253 - acc: 0.9523 - val_loss: 0.1244 - val_acc: 0.9524\n",
      "Epoch 7/10\n",
      "96326/96326 [==============================] - 5s 51us/step - loss: 0.1242 - acc: 0.9527 - val_loss: 0.1230 - val_acc: 0.9533\n",
      "Epoch 8/10\n",
      "96326/96326 [==============================] - 5s 52us/step - loss: 0.1232 - acc: 0.9529 - val_loss: 0.1241 - val_acc: 0.9528\n",
      "Epoch 9/10\n",
      "96326/96326 [==============================] - 5s 52us/step - loss: 0.1226 - acc: 0.9532 - val_loss: 0.1220 - val_acc: 0.9533\n",
      "Epoch 10/10\n",
      "96326/96326 [==============================] - 5s 53us/step - loss: 0.1220 - acc: 0.9535 - val_loss: 0.1209 - val_acc: 0.9537\n"
     ]
    },
    {
     "data": {
      "text/plain": [
       "<keras.callbacks.History at 0x12b05e278>"
      ]
     },
     "execution_count": 15,
     "metadata": {},
     "output_type": "execute_result"
    }
   ],
   "source": [
    "model2.load_weights('model2.h5')\n",
    "model2.fit(x_train,y_train, epochs=10, batch_size=64,  validation_data=(x_valid, y_valid))"
   ]
  },
  {
   "cell_type": "code",
   "execution_count": 16,
   "metadata": {},
   "outputs": [
    {
     "name": "stdout",
     "output_type": "stream",
     "text": [
      "30102/30102 [==============================] - 1s 40us/step\n",
      "Test loss: 0.12189573414426223\n",
      "Test accuracy: 0.9532940666720396\n"
     ]
    }
   ],
   "source": [
    "score = model2.evaluate(x=x_test, y=y_test)\n",
    "print('Test loss:', score[0])\n",
    "print('Test accuracy:', score[1])"
   ]
  },
  {
   "cell_type": "code",
   "execution_count": 17,
   "metadata": {},
   "outputs": [
    {
     "name": "stdout",
     "output_type": "stream",
     "text": [
      "Train on 96326 samples, validate on 24082 samples\n",
      "Epoch 1/10\n",
      "96326/96326 [==============================] - 9s 89us/step - loss: 0.1513 - acc: 0.9471 - val_loss: 0.1387 - val_acc: 0.9486\n",
      "Epoch 2/10\n",
      "96326/96326 [==============================] - 8s 87us/step - loss: 0.1365 - acc: 0.9494 - val_loss: 0.1339 - val_acc: 0.9503\n",
      "Epoch 3/10\n",
      "96326/96326 [==============================] - 8s 88us/step - loss: 0.1317 - acc: 0.9505 - val_loss: 0.1300 - val_acc: 0.9512\n",
      "Epoch 4/10\n",
      "96326/96326 [==============================] - 8s 88us/step - loss: 0.1287 - acc: 0.9512 - val_loss: 0.1269 - val_acc: 0.9517\n",
      "Epoch 5/10\n",
      "96326/96326 [==============================] - 9s 89us/step - loss: 0.1268 - acc: 0.9518 - val_loss: 0.1257 - val_acc: 0.9522\n",
      "Epoch 6/10\n",
      "96326/96326 [==============================] - 9s 89us/step - loss: 0.1254 - acc: 0.9522 - val_loss: 0.1242 - val_acc: 0.9523\n",
      "Epoch 7/10\n",
      "96326/96326 [==============================] - 9s 91us/step - loss: 0.1242 - acc: 0.9526 - val_loss: 0.1227 - val_acc: 0.9531\n",
      "Epoch 8/10\n",
      "96326/96326 [==============================] - 9s 89us/step - loss: 0.1231 - acc: 0.9529 - val_loss: 0.1218 - val_acc: 0.9533\n",
      "Epoch 9/10\n",
      "96326/96326 [==============================] - 9s 90us/step - loss: 0.1223 - acc: 0.9530 - val_loss: 0.1222 - val_acc: 0.9534\n",
      "Epoch 10/10\n",
      "96326/96326 [==============================] - 9s 90us/step - loss: 0.1215 - acc: 0.9532 - val_loss: 0.1210 - val_acc: 0.9538\n"
     ]
    },
    {
     "data": {
      "text/plain": [
       "<keras.callbacks.History at 0x12b05e320>"
      ]
     },
     "execution_count": 17,
     "metadata": {},
     "output_type": "execute_result"
    }
   ],
   "source": [
    "model2.load_weights('model2.h5')\n",
    "model2.fit(x_train,y_train, epochs=10, batch_size=28,  validation_data=(x_valid, y_valid))"
   ]
  },
  {
   "cell_type": "code",
   "execution_count": 18,
   "metadata": {},
   "outputs": [
    {
     "name": "stdout",
     "output_type": "stream",
     "text": [
      "30102/30102 [==============================] - 1s 40us/step\n",
      "Test loss: 0.12198894674582272\n",
      "Test accuracy: 0.9533839582779123\n"
     ]
    }
   ],
   "source": [
    "score = model2.evaluate(x=x_test, y=y_test)\n",
    "print('Test loss:', score[0])\n",
    "print('Test accuracy:', score[1])"
   ]
  },
  {
   "cell_type": "code",
   "execution_count": 19,
   "metadata": {},
   "outputs": [
    {
     "name": "stdout",
     "output_type": "stream",
     "text": [
      "Train on 96326 samples, validate on 24082 samples\n",
      "Epoch 1/10\n",
      "96326/96326 [==============================] - 35s 367us/step - loss: 0.1412 - acc: 0.9488 - val_loss: 0.1311 - val_acc: 0.9506\n",
      "Epoch 2/10\n",
      "96326/96326 [==============================] - 32s 336us/step - loss: 0.1291 - acc: 0.9512 - val_loss: 0.1262 - val_acc: 0.9517\n",
      "Epoch 3/10\n",
      "96326/96326 [==============================] - 34s 351us/step - loss: 0.1250 - acc: 0.9521 - val_loss: 0.1249 - val_acc: 0.9521\n",
      "Epoch 4/10\n",
      "96326/96326 [==============================] - 32s 330us/step - loss: 0.1229 - acc: 0.9526 - val_loss: 0.1209 - val_acc: 0.9534\n",
      "Epoch 5/10\n",
      "96326/96326 [==============================] - 33s 342us/step - loss: 0.1214 - acc: 0.9531 - val_loss: 0.1214 - val_acc: 0.9529\n",
      "Epoch 6/10\n",
      "96326/96326 [==============================] - 33s 344us/step - loss: 0.1203 - acc: 0.9534 - val_loss: 0.1205 - val_acc: 0.9536\n",
      "Epoch 7/10\n",
      "96326/96326 [==============================] - 31s 326us/step - loss: 0.1196 - acc: 0.9538 - val_loss: 0.1187 - val_acc: 0.9538\n",
      "Epoch 8/10\n",
      "96326/96326 [==============================] - 30s 311us/step - loss: 0.1188 - acc: 0.9540 - val_loss: 0.1183 - val_acc: 0.9543\n",
      "Epoch 9/10\n",
      "96326/96326 [==============================] - 32s 332us/step - loss: 0.1182 - acc: 0.9544 - val_loss: 0.1171 - val_acc: 0.9547\n",
      "Epoch 10/10\n",
      "96326/96326 [==============================] - 33s 339us/step - loss: 0.1175 - acc: 0.9546 - val_loss: 0.1183 - val_acc: 0.9539\n"
     ]
    },
    {
     "data": {
      "text/plain": [
       "<keras.callbacks.History at 0x117a78160>"
      ]
     },
     "execution_count": 19,
     "metadata": {},
     "output_type": "execute_result"
    }
   ],
   "source": [
    "model2.load_weights('model2.h5')\n",
    "model2.fit(x_train,y_train, epochs=10, batch_size=6,  validation_data=(x_valid, y_valid))"
   ]
  },
  {
   "cell_type": "code",
   "execution_count": 20,
   "metadata": {},
   "outputs": [
    {
     "name": "stdout",
     "output_type": "stream",
     "text": [
      "30102/30102 [==============================] - 1s 48us/step\n",
      "Test loss: 0.1190815545926933\n",
      "Test accuracy: 0.9536438575615306\n"
     ]
    }
   ],
   "source": [
    "score = model2.evaluate(x=x_test, y=y_test)\n",
    "print('Test loss:', score[0])\n",
    "print('Test accuracy:', score[1])"
   ]
  },
  {
   "cell_type": "code",
   "execution_count": null,
   "metadata": {},
   "outputs": [],
   "source": []
  }
 ],
 "metadata": {
  "kernelspec": {
   "display_name": "Python 3",
   "language": "python",
   "name": "python3"
  },
  "language_info": {
   "codemirror_mode": {
    "name": "ipython",
    "version": 3
   },
   "file_extension": ".py",
   "mimetype": "text/x-python",
   "name": "python",
   "nbconvert_exporter": "python",
   "pygments_lexer": "ipython3",
   "version": "3.6.4"
  }
 },
 "nbformat": 4,
 "nbformat_minor": 2
}
