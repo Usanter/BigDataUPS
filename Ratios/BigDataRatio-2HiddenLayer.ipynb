{
 "cells": [
  {
   "cell_type": "markdown",
   "metadata": {},
   "source": [
    "# 2 couches caché neurone 29"
   ]
  },
  {
   "cell_type": "code",
   "execution_count": 1,
   "metadata": {},
   "outputs": [
    {
     "name": "stderr",
     "output_type": "stream",
     "text": [
      "/usr/local/lib/python3.6/site-packages/h5py/__init__.py:36: FutureWarning: Conversion of the second argument of issubdtype from `float` to `np.floating` is deprecated. In future, it will be treated as `np.float64 == np.dtype(float).type`.\n",
      "  from ._conv import register_converters as _register_converters\n",
      "Using TensorFlow backend.\n"
     ]
    }
   ],
   "source": [
    "import json\n",
    "import os\n",
    "import numpy as np\n",
    "from sklearn.model_selection import train_test_split\n",
    "from keras.models import Sequential\n",
    "from keras.layers import Dense\n",
    "from keras.utils import to_categorical\n",
    "import h5py"
   ]
  },
  {
   "cell_type": "code",
   "execution_count": 2,
   "metadata": {},
   "outputs": [],
   "source": [
    "features = []\n",
    "features_label = []\n",
    "\n",
    "path_save = \"../json/features_labelise/\"\n",
    "dirs = os.listdir(path_save)\n",
    "\n",
    "for f in dirs:\n",
    "    #print (\"computing data in : \" + path_save + f)\n",
    "    with open(path_save + f, 'r') as file:\n",
    "        feature = json.load(file)\n",
    "    temp = []\n",
    "    temp.append(feature[\"Ratio_band1_0_band2_1_scale_1\"])\n",
    "    temp.append(feature[\"Ratio_band1_0_band2_1_scale_2\"])\n",
    "    temp.append(feature[\"Ratio_band1_0_band2_2_scale_4\"])\n",
    "    temp.append(feature[\"Ratio_band1_0_band2_1_scale_4\"])\n",
    "    temp.append(feature[\"Ratio_band1_0_band2_2_scale_2\"])\n",
    "    temp.append(feature[\"Ratio_band1_0_band2_2_scale_1\"])\n",
    "    temp.append(feature[\"Ratio_band1_1_band2_3_scale_2\"])\n",
    "    temp.append(feature[\"Ratio_band1_1_band2_3_scale_1\"])\n",
    "    temp.append(feature[\"Ratio_band1_1_band2_3_scale_4\"])\n",
    "    temp.append(feature[\"Ratio_band1_0_band2_3_scale_4\"])\n",
    "    temp.append(feature[\"Ratio_band1_0_band2_3_scale_2\"])\n",
    "    temp.append(feature[\"Ratio_band1_2_band2_3_scale_4\"])\n",
    "    temp.append(feature[\"Ratio_band1_0_band2_3_scale_1\"])\n",
    "    temp.append(feature[\"Ratio_band1_1_band2_2_scale_4\"])\n",
    "    temp.append(feature[\"Ratio_band1_1_band2_2_scale_2\"])\n",
    "    temp.append(feature[\"Ratio_band1_1_band2_2_scale_1\"])\n",
    "    temp.append(feature[\"Ratio_band1_2_band2_3_scale_1\"])\n",
    "    temp.append(feature[\"Ratio_band1_2_band2_3_scale_2\"])\n",
    "    features.append(temp)\n",
    "    features_label.append(feature[\"Label\"])\n",
    "    file.close()\n",
    "    \n",
    "\n"
   ]
  },
  {
   "cell_type": "code",
   "execution_count": 3,
   "metadata": {},
   "outputs": [
    {
     "name": "stdout",
     "output_type": "stream",
     "text": [
      "Taille dataset test  (30102, 18)\n",
      "Taille dataset train , (96326, 18)\n",
      "Taille dataset validation , (24082, 18)\n"
     ]
    }
   ],
   "source": [
    "features = np.array(features)\n",
    "features_label = np.array(features_label)\n",
    "\n",
    "x_train, x_test, y_train, y_test = train_test_split(features, features_label, test_size=0.20)\n",
    "\n",
    "print(\"Taille dataset test \", x_test.shape)\n",
    "\n",
    "x_train, x_valid, y_train, y_valid = train_test_split(x_train, y_train, test_size=0.20)\n",
    "\n",
    "print(\"Taille dataset train ,\", x_train.shape)\n",
    "print(\"Taille dataset validation ,\", x_valid.shape)\n",
    "\n",
    "y_train = to_categorical(y_train, 17)\n",
    "y_valid = to_categorical(y_valid, 17)\n",
    "y_test = to_categorical(y_test, 17)"
   ]
  },
  {
   "cell_type": "code",
   "execution_count": 4,
   "metadata": {},
   "outputs": [
    {
     "name": "stdout",
     "output_type": "stream",
     "text": [
      "_________________________________________________________________\n",
      "Layer (type)                 Output Shape              Param #   \n",
      "=================================================================\n",
      "dense_1 (Dense)              (None, 18)                342       \n",
      "_________________________________________________________________\n",
      "dense_2 (Dense)              (None, 29)                551       \n",
      "_________________________________________________________________\n",
      "dense_3 (Dense)              (None, 29)                870       \n",
      "_________________________________________________________________\n",
      "dense_4 (Dense)              (None, 17)                510       \n",
      "=================================================================\n",
      "Total params: 2,273\n",
      "Trainable params: 2,273\n",
      "Non-trainable params: 0\n",
      "_________________________________________________________________\n"
     ]
    }
   ],
   "source": [
    "model = Sequential()\n",
    "model.add(Dense(18, input_shape=(18,), activation='relu'))\n",
    "model.add(Dense(29, activation='relu'))\n",
    "model.add(Dense(29, activation='relu'))\n",
    "model.add(Dense(17, activation='softmax'))\n",
    "\n",
    "model.compile(loss='binary_crossentropy', optimizer='adam', metrics=['accuracy'])\n",
    "model.save_weights('model.h5')\n",
    "\n",
    "model.summary()\n"
   ]
  },
  {
   "cell_type": "code",
   "execution_count": 5,
   "metadata": {},
   "outputs": [
    {
     "name": "stdout",
     "output_type": "stream",
     "text": [
      "Train on 96326 samples, validate on 24082 samples\n",
      "Epoch 1/10\n",
      "96326/96326 [==============================] - 5s 54us/step - loss: 0.1470 - acc: 0.9478 - val_loss: 0.1369 - val_acc: 0.9490\n",
      "Epoch 2/10\n",
      "96326/96326 [==============================] - 5s 51us/step - loss: 0.1336 - acc: 0.9497 - val_loss: 0.1321 - val_acc: 0.9497\n",
      "Epoch 3/10\n",
      "96326/96326 [==============================] - 5s 51us/step - loss: 0.1304 - acc: 0.9508 - val_loss: 0.1296 - val_acc: 0.9511\n",
      "Epoch 4/10\n",
      "96326/96326 [==============================] - 5s 51us/step - loss: 0.1288 - acc: 0.9513 - val_loss: 0.1281 - val_acc: 0.9514\n",
      "Epoch 5/10\n",
      "96326/96326 [==============================] - 5s 51us/step - loss: 0.1273 - acc: 0.9517 - val_loss: 0.1273 - val_acc: 0.9519\n",
      "Epoch 6/10\n",
      "96326/96326 [==============================] - 5s 52us/step - loss: 0.1263 - acc: 0.9519 - val_loss: 0.1284 - val_acc: 0.9515\n",
      "Epoch 7/10\n",
      "96326/96326 [==============================] - 5s 52us/step - loss: 0.1252 - acc: 0.9522 - val_loss: 0.1241 - val_acc: 0.9524\n",
      "Epoch 8/10\n",
      "96326/96326 [==============================] - 5s 53us/step - loss: 0.1242 - acc: 0.9524 - val_loss: 0.1237 - val_acc: 0.9523\n",
      "Epoch 9/10\n",
      "96326/96326 [==============================] - 5s 53us/step - loss: 0.1233 - acc: 0.9526 - val_loss: 0.1243 - val_acc: 0.9523\n",
      "Epoch 10/10\n",
      "96326/96326 [==============================] - 5s 54us/step - loss: 0.1226 - acc: 0.9529 - val_loss: 0.1216 - val_acc: 0.9528\n"
     ]
    },
    {
     "data": {
      "text/plain": [
       "<keras.callbacks.History at 0x11b837208>"
      ]
     },
     "execution_count": 5,
     "metadata": {},
     "output_type": "execute_result"
    }
   ],
   "source": [
    "model.fit(x_train,y_train, epochs=10, batch_size=64,  validation_data=(x_valid, y_valid))"
   ]
  },
  {
   "cell_type": "code",
   "execution_count": 6,
   "metadata": {},
   "outputs": [
    {
     "name": "stdout",
     "output_type": "stream",
     "text": [
      "30102/30102 [==============================] - 1s 40us/step\n",
      "Test loss: 0.12152949018382478\n",
      "Test accuracy: 0.9527625431729966\n"
     ]
    }
   ],
   "source": [
    "score = model.evaluate(x=x_test, y=y_test)\n",
    "print('Test loss:', score[0])\n",
    "print('Test accuracy:', score[1])"
   ]
  },
  {
   "cell_type": "code",
   "execution_count": 7,
   "metadata": {},
   "outputs": [
    {
     "name": "stdout",
     "output_type": "stream",
     "text": [
      "Train on 96326 samples, validate on 24082 samples\n",
      "Epoch 1/10\n",
      "96326/96326 [==============================] - 9s 89us/step - loss: 0.1431 - acc: 0.9488 - val_loss: 0.1328 - val_acc: 0.9508\n",
      "Epoch 2/10\n",
      "96326/96326 [==============================] - 9s 89us/step - loss: 0.1296 - acc: 0.9513 - val_loss: 0.1274 - val_acc: 0.9518\n",
      "Epoch 3/10\n",
      "96326/96326 [==============================] - 10s 100us/step - loss: 0.1261 - acc: 0.9522 - val_loss: 0.1277 - val_acc: 0.9517\n",
      "Epoch 4/10\n",
      "96326/96326 [==============================] - 9s 96us/step - loss: 0.1239 - acc: 0.9529 - val_loss: 0.1220 - val_acc: 0.9536\n",
      "Epoch 5/10\n",
      "96326/96326 [==============================] - 10s 99us/step - loss: 0.1220 - acc: 0.9533 - val_loss: 0.1203 - val_acc: 0.9536\n",
      "Epoch 6/10\n",
      "96326/96326 [==============================] - 9s 93us/step - loss: 0.1203 - acc: 0.9539 - val_loss: 0.1192 - val_acc: 0.9546\n",
      "Epoch 7/10\n",
      "96326/96326 [==============================] - 9s 93us/step - loss: 0.1188 - acc: 0.9542 - val_loss: 0.1178 - val_acc: 0.9541\n",
      "Epoch 8/10\n",
      "96326/96326 [==============================] - 9s 95us/step - loss: 0.1175 - acc: 0.9546 - val_loss: 0.1172 - val_acc: 0.9546\n",
      "Epoch 9/10\n",
      "96326/96326 [==============================] - 9s 92us/step - loss: 0.1167 - acc: 0.9548 - val_loss: 0.1167 - val_acc: 0.9545\n",
      "Epoch 10/10\n",
      "96326/96326 [==============================] - 9s 94us/step - loss: 0.1156 - acc: 0.9552 - val_loss: 0.1171 - val_acc: 0.9549\n"
     ]
    },
    {
     "data": {
      "text/plain": [
       "<keras.callbacks.History at 0x122790cf8>"
      ]
     },
     "execution_count": 7,
     "metadata": {},
     "output_type": "execute_result"
    }
   ],
   "source": [
    "model.load_weights('model.h5')\n",
    "model.fit(x_train,y_train, epochs=10, batch_size=28,  validation_data=(x_valid, y_valid))"
   ]
  },
  {
   "cell_type": "code",
   "execution_count": 8,
   "metadata": {},
   "outputs": [
    {
     "name": "stdout",
     "output_type": "stream",
     "text": [
      "30102/30102 [==============================] - 1s 47us/step\n",
      "Test loss: 0.11716306803838476\n",
      "Test accuracy: 0.9549199112918509\n"
     ]
    }
   ],
   "source": [
    "score = model.evaluate(x=x_test, y=y_test)\n",
    "print('Test loss:', score[0])\n",
    "print('Test accuracy:', score[1])"
   ]
  },
  {
   "cell_type": "code",
   "execution_count": null,
   "metadata": {},
   "outputs": [],
   "source": []
  }
 ],
 "metadata": {
  "kernelspec": {
   "display_name": "Python 3",
   "language": "python",
   "name": "python3"
  },
  "language_info": {
   "codemirror_mode": {
    "name": "ipython",
    "version": 3
   },
   "file_extension": ".py",
   "mimetype": "text/x-python",
   "name": "python",
   "nbconvert_exporter": "python",
   "pygments_lexer": "ipython3",
   "version": "3.6.4"
  }
 },
 "nbformat": 4,
 "nbformat_minor": 2
}
