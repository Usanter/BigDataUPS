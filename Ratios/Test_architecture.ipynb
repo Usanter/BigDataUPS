{
 "cells": [
  {
   "cell_type": "code",
   "execution_count": 28,
   "metadata": {},
   "outputs": [],
   "source": [
    "import matplotlib.pyplot as plt\n",
    "import numpy as np\n",
    "import matplotlib.patches as mpatches\n"
   ]
  },
  {
   "cell_type": "markdown",
   "metadata": {},
   "source": [
    "# dense_1 (Dense)              (None, 18)               \n",
    "# dense_2 (Dense)              (None, 9)                 \n",
    "# dense_3 (Dense)              (None, 17)                   \n"
   ]
  },
  {
   "cell_type": "code",
   "execution_count": 40,
   "metadata": {},
   "outputs": [
    {
     "data": {
      "text/html": [
       "<script>requirejs.config({paths: { 'plotly': ['https://cdn.plot.ly/plotly-latest.min']},});if(!window.Plotly) {{require(['plotly'],function(plotly) {window.Plotly=plotly;});}}</script>"
      ],
      "text/vnd.plotly.v1+html": [
       "<script>requirejs.config({paths: { 'plotly': ['https://cdn.plot.ly/plotly-latest.min']},});if(!window.Plotly) {{require(['plotly'],function(plotly) {window.Plotly=plotly;});}}</script>"
      ]
     },
     "metadata": {},
     "output_type": "display_data"
    },
    {
     "data": {
      "application/vnd.plotly.v1+json": {
       "data": [
        {
         "name": "Batch Size 64 neurone 9",
         "type": "scatter",
         "x": [
          0,
          1,
          2,
          3,
          4,
          5,
          6,
          7,
          8,
          9,
          10
         ],
         "y": [
          0.1442,
          0.1399,
          0.1369,
          0.1336,
          0.1315,
          0.1305,
          0.1299,
          0.1299,
          0.1288,
          0.1291
         ]
        },
        {
         "name": "Batch Size 28 neurone 9",
         "type": "scatter",
         "x": [
          0,
          1,
          2,
          3,
          4,
          5,
          6,
          7,
          8,
          9,
          10
         ],
         "y": [
          0.1409,
          0.1374,
          0.1345,
          0.1319,
          0.1307,
          0.1298,
          0.1283,
          0.1275,
          0.1267,
          0.1267
         ]
        },
        {
         "name": "Batch Size 6 neurone 9",
         "type": "scatter",
         "x": [
          0,
          1,
          2,
          3,
          4,
          5,
          6,
          7,
          8,
          9,
          10
         ],
         "y": [
          0.137,
          0.1336,
          0.1306,
          0.1288,
          0.1269,
          0.1268,
          0.1263,
          0.1258,
          0.1254,
          0.1243
         ]
        }
       ],
       "layout": {}
      },
      "text/html": [
       "<div id=\"89a0b3f3-6928-4101-b601-af19fca8f93b\" style=\"height: 525px; width: 100%;\" class=\"plotly-graph-div\"></div><script type=\"text/javascript\">require([\"plotly\"], function(Plotly) { window.PLOTLYENV=window.PLOTLYENV || {};window.PLOTLYENV.BASE_URL=\"https://plot.ly\";Plotly.newPlot(\"89a0b3f3-6928-4101-b601-af19fca8f93b\", [{\"y\": [0.1442, 0.1399, 0.1369, 0.1336, 0.1315, 0.1305, 0.1299, 0.1299, 0.1288, 0.1291], \"x\": [0, 1, 2, 3, 4, 5, 6, 7, 8, 9, 10], \"type\": \"scatter\", \"name\": \"Batch Size 64 neurone 9\"}, {\"y\": [0.1409, 0.1374, 0.1345, 0.1319, 0.1307, 0.1298, 0.1283, 0.1275, 0.1267, 0.1267], \"x\": [0, 1, 2, 3, 4, 5, 6, 7, 8, 9, 10], \"type\": \"scatter\", \"name\": \"Batch Size 28 neurone 9\"}, {\"y\": [0.137, 0.1336, 0.1306, 0.1288, 0.1269, 0.1268, 0.1263, 0.1258, 0.1254, 0.1243], \"x\": [0, 1, 2, 3, 4, 5, 6, 7, 8, 9, 10], \"type\": \"scatter\", \"name\": \"Batch Size 6 neurone 9\"}], {}, {\"linkText\": \"Export to plot.ly\", \"showLink\": true})});</script>"
      ],
      "text/vnd.plotly.v1+html": [
       "<div id=\"89a0b3f3-6928-4101-b601-af19fca8f93b\" style=\"height: 525px; width: 100%;\" class=\"plotly-graph-div\"></div><script type=\"text/javascript\">require([\"plotly\"], function(Plotly) { window.PLOTLYENV=window.PLOTLYENV || {};window.PLOTLYENV.BASE_URL=\"https://plot.ly\";Plotly.newPlot(\"89a0b3f3-6928-4101-b601-af19fca8f93b\", [{\"y\": [0.1442, 0.1399, 0.1369, 0.1336, 0.1315, 0.1305, 0.1299, 0.1299, 0.1288, 0.1291], \"x\": [0, 1, 2, 3, 4, 5, 6, 7, 8, 9, 10], \"type\": \"scatter\", \"name\": \"Batch Size 64 neurone 9\"}, {\"y\": [0.1409, 0.1374, 0.1345, 0.1319, 0.1307, 0.1298, 0.1283, 0.1275, 0.1267, 0.1267], \"x\": [0, 1, 2, 3, 4, 5, 6, 7, 8, 9, 10], \"type\": \"scatter\", \"name\": \"Batch Size 28 neurone 9\"}, {\"y\": [0.137, 0.1336, 0.1306, 0.1288, 0.1269, 0.1268, 0.1263, 0.1258, 0.1254, 0.1243], \"x\": [0, 1, 2, 3, 4, 5, 6, 7, 8, 9, 10], \"type\": \"scatter\", \"name\": \"Batch Size 6 neurone 9\"}], {}, {\"linkText\": \"Export to plot.ly\", \"showLink\": true})});</script>"
      ]
     },
     "metadata": {},
     "output_type": "display_data"
    }
   ],
   "source": [
    "import plotly.offline as py\n",
    "py.init_notebook_mode(connected=True)\n",
    "import plotly.graph_objs as go\n",
    "\n",
    "\n",
    "trace1 = go.Scatter(\n",
    "    y=[0.1442,0.1399,0.1369,0.1336,0.1315,0.1305,0.1299,0.1299,0.1288,0.1291],\n",
    "    x=[0, 1, 2, 3, 4, 5, 6, 7, 8, 9, 10],\n",
    "    name='Batch Size 64 neurone 9'\n",
    ")\n",
    "trace2 = go.Scatter(\n",
    "    x=[0, 1, 2, 3, 4, 5, 6, 7, 8, 9, 10],\n",
    "    y=[0.1409,0.1374,0.1345,0.1319,0.1307,0.1298,0.1283,0.1275,0.1267,0.1267],\n",
    "    name='Batch Size 28 neurone 9'\n",
    ")\n",
    "\n",
    "trace3 = go.Scatter(\n",
    "    x=[0, 1, 2, 3, 4, 5, 6, 7, 8, 9, 10],\n",
    "    y=[0.1370,0.1336,0.1306,0.1288,0.1269,0.1268,0.1263,0.1258,0.1254,0.1243],\n",
    "    name='Batch Size 6 neurone 9'\n",
    ")\n",
    "data = [trace1, trace2,trace3]\n",
    "layout = go.Layout(\n",
    "    title='Plot Title',\n",
    "    xaxis=dict(\n",
    "        title='x Axis',\n",
    "        titlefont=dict(\n",
    "            family='Courier New, monospace',\n",
    "            size=18,\n",
    "            color='#7f7f7f'\n",
    "        )\n",
    "    ),\n",
    "    yaxis=dict(\n",
    "        title='y Axis',\n",
    "        titlefont=dict(\n",
    "            family='Courier New, monospace',\n",
    "            size=18,\n",
    "            color='#7f7f7f'\n",
    "        )\n",
    "    )\n",
    ")\n",
    "fig = go.Figure(data=data, layout=layout)\n",
    "py.iplot(data, filename='Evaluation Dataset Validation Loss')\n"
   ]
  },
  {
   "cell_type": "markdown",
   "metadata": {},
   "source": [
    "On remarque que plus la taille du batch size est petite meilleur sera le loss pendant l'entrainement sur le dataset validation. Mais ATTENTION le temps d'éxecution augmente !!\n"
   ]
  },
  {
   "cell_type": "markdown",
   "metadata": {},
   "source": [
    "# dense_1 (Dense) (None, 18) \n",
    "# dense_2 (Dense) (None, 6) \n",
    "# dense_3 (Dense) (None, 17) "
   ]
  },
  {
   "cell_type": "code",
   "execution_count": 49,
   "metadata": {},
   "outputs": [
    {
     "data": {
      "application/vnd.plotly.v1+json": {
       "data": [
        {
         "name": "Batch Size 64 neurone 6",
         "type": "scatter",
         "x": [
          0,
          1,
          2,
          3,
          4,
          5,
          6,
          7,
          8,
          9,
          10
         ],
         "y": [
          0.1433,
          0.1382,
          0.1359,
          0.1351,
          0.1333,
          0.1347,
          0.1321,
          0.1316,
          0.1312,
          0.1309
         ]
        },
        {
         "name": "Batch Size 28 neurone 6",
         "type": "scatter",
         "x": [
          0,
          1,
          2,
          3,
          4,
          5,
          6,
          7,
          8,
          9,
          10
         ],
         "y": [
          0.1461,
          0.1373,
          0.1343,
          0.1327,
          0.1314,
          0.1304,
          0.1291,
          0.1283,
          0.1304,
          0.1275
         ]
        },
        {
         "name": "Batch Size 6 neurone 6",
         "type": "scatter",
         "x": [
          0,
          1,
          2,
          3,
          4,
          5,
          6,
          7,
          8,
          9,
          10
         ],
         "y": [
          0.1398,
          0.1365,
          0.1334,
          0.1319,
          0.1302,
          0.1292,
          0.128,
          0.1271,
          0.1279,
          0.1267
         ]
        }
       ],
       "layout": {}
      },
      "text/html": [
       "<div id=\"e40e6cf0-f801-4b0f-ac4d-f3366bdec2bf\" style=\"height: 525px; width: 100%;\" class=\"plotly-graph-div\"></div><script type=\"text/javascript\">require([\"plotly\"], function(Plotly) { window.PLOTLYENV=window.PLOTLYENV || {};window.PLOTLYENV.BASE_URL=\"https://plot.ly\";Plotly.newPlot(\"e40e6cf0-f801-4b0f-ac4d-f3366bdec2bf\", [{\"y\": [0.1433, 0.1382, 0.1359, 0.1351, 0.1333, 0.1347, 0.1321, 0.1316, 0.1312, 0.1309], \"x\": [0, 1, 2, 3, 4, 5, 6, 7, 8, 9, 10], \"type\": \"scatter\", \"name\": \"Batch Size 64 neurone 6\"}, {\"y\": [0.1461, 0.1373, 0.1343, 0.1327, 0.1314, 0.1304, 0.1291, 0.1283, 0.1304, 0.1275], \"x\": [0, 1, 2, 3, 4, 5, 6, 7, 8, 9, 10], \"type\": \"scatter\", \"name\": \"Batch Size 28 neurone 6\"}, {\"y\": [0.1398, 0.1365, 0.1334, 0.1319, 0.1302, 0.1292, 0.128, 0.1271, 0.1279, 0.1267], \"x\": [0, 1, 2, 3, 4, 5, 6, 7, 8, 9, 10], \"type\": \"scatter\", \"name\": \"Batch Size 6 neurone 6\"}], {}, {\"linkText\": \"Export to plot.ly\", \"showLink\": true})});</script>"
      ],
      "text/vnd.plotly.v1+html": [
       "<div id=\"e40e6cf0-f801-4b0f-ac4d-f3366bdec2bf\" style=\"height: 525px; width: 100%;\" class=\"plotly-graph-div\"></div><script type=\"text/javascript\">require([\"plotly\"], function(Plotly) { window.PLOTLYENV=window.PLOTLYENV || {};window.PLOTLYENV.BASE_URL=\"https://plot.ly\";Plotly.newPlot(\"e40e6cf0-f801-4b0f-ac4d-f3366bdec2bf\", [{\"y\": [0.1433, 0.1382, 0.1359, 0.1351, 0.1333, 0.1347, 0.1321, 0.1316, 0.1312, 0.1309], \"x\": [0, 1, 2, 3, 4, 5, 6, 7, 8, 9, 10], \"type\": \"scatter\", \"name\": \"Batch Size 64 neurone 6\"}, {\"y\": [0.1461, 0.1373, 0.1343, 0.1327, 0.1314, 0.1304, 0.1291, 0.1283, 0.1304, 0.1275], \"x\": [0, 1, 2, 3, 4, 5, 6, 7, 8, 9, 10], \"type\": \"scatter\", \"name\": \"Batch Size 28 neurone 6\"}, {\"y\": [0.1398, 0.1365, 0.1334, 0.1319, 0.1302, 0.1292, 0.128, 0.1271, 0.1279, 0.1267], \"x\": [0, 1, 2, 3, 4, 5, 6, 7, 8, 9, 10], \"type\": \"scatter\", \"name\": \"Batch Size 6 neurone 6\"}], {}, {\"linkText\": \"Export to plot.ly\", \"showLink\": true})});</script>"
      ]
     },
     "metadata": {},
     "output_type": "display_data"
    }
   ],
   "source": [
    "trace4 = go.Scatter(\n",
    "    y=[0.1433,0.1382,0.1359,0.1351,0.1333,0.1347,0.1321,0.1316,0.1312,0.1309],\n",
    "    x=[0, 1, 2, 3, 4, 5, 6, 7, 8, 9, 10],\n",
    "    name='Batch Size 64 neurone 6'\n",
    ")\n",
    "trace5 = go.Scatter(\n",
    "    x=[0, 1, 2, 3, 4, 5, 6, 7, 8, 9, 10],\n",
    "    y=[0.1461,0.1373,0.1343,0.1327,0.1314,0.1304,0.1291,0.1283,0.1304,0.1275],\n",
    "    name='Batch Size 28 neurone 6'\n",
    ")\n",
    "trace51 = go.Scatter(\n",
    "    x=[0, 1, 2, 3, 4, 5, 6, 7, 8, 9, 10],\n",
    "    y=[0.1398,0.1365,0.1334,0.1319,0.1302,0.1292,0.1280,0.1271,0.1279,0.1267],\n",
    "    name='Batch Size 6 neurone 6'\n",
    ")\n",
    "\n",
    "data = [trace4, trace5,trace51]\n",
    "layout = go.Layout(\n",
    "    title='Plot Title',\n",
    "    xaxis=dict(\n",
    "        title='x Axis',\n",
    "        titlefont=dict(\n",
    "            family='Courier New, monospace',\n",
    "            size=18,\n",
    "            color='#7f7f7f'\n",
    "        )\n",
    "    ),\n",
    "    yaxis=dict(\n",
    "        title='y Axis',\n",
    "        titlefont=dict(\n",
    "            family='Courier New, monospace',\n",
    "            size=18,\n",
    "            color='#7f7f7f'\n",
    "        )\n",
    "    )\n",
    ")\n",
    "fig = go.Figure(data=data, layout=layout)\n",
    "py.iplot(data, filename='Evaluation Dataset Validation Loss')"
   ]
  },
  {
   "cell_type": "markdown",
   "metadata": {},
   "source": [
    "On remarque que plus la taille du batch size est petite meilleur sera le loss pendant l'entrainement sur le dataset validation. Mais ATTENTION le temps d'éxecution augmente !!\n"
   ]
  },
  {
   "cell_type": "markdown",
   "metadata": {},
   "source": [
    "# dense_1 (Dense) (None, 18) \n",
    "# dense_2 (Dense) (None, 29) \n",
    "# dense_3 (Dense) (None, 17) "
   ]
  },
  {
   "cell_type": "code",
   "execution_count": 52,
   "metadata": {},
   "outputs": [
    {
     "data": {
      "application/vnd.plotly.v1+json": {
       "data": [
        {
         "name": "Batch Size 64 neurone 29",
         "type": "scatter",
         "x": [
          0,
          1,
          2,
          3,
          4,
          5,
          6,
          7,
          8,
          9,
          10
         ],
         "y": [
          0.1404,
          0.1359,
          0.133,
          0.1319,
          0.1313,
          0.1295,
          0.1294,
          0.1282,
          0.1272,
          0.127
         ]
        },
        {
         "name": "Batch Size 28 neurone 29",
         "type": "scatter",
         "x": [
          0,
          1,
          2,
          3,
          4,
          5,
          6,
          7,
          8,
          9,
          10
         ],
         "y": [
          0.1397,
          0.1352,
          0.1322,
          0.1309,
          0.1293,
          0.1276,
          0.1261,
          0.1267,
          0.125,
          0.1248
         ]
        },
        {
         "name": "Batch Size 6 neurone 29",
         "type": "scatter",
         "x": [
          0,
          1,
          2,
          3,
          4,
          5,
          6,
          7,
          8,
          9,
          10
         ],
         "y": [
          0.1367,
          0.1283,
          0.1273,
          0.1258,
          0.1243,
          0.1211,
          0.1213,
          0.1219,
          0.1199,
          0.1177
         ]
        }
       ],
       "layout": {}
      },
      "text/html": [
       "<div id=\"c988d96c-6839-4710-87a1-f404c338b13c\" style=\"height: 525px; width: 100%;\" class=\"plotly-graph-div\"></div><script type=\"text/javascript\">require([\"plotly\"], function(Plotly) { window.PLOTLYENV=window.PLOTLYENV || {};window.PLOTLYENV.BASE_URL=\"https://plot.ly\";Plotly.newPlot(\"c988d96c-6839-4710-87a1-f404c338b13c\", [{\"y\": [0.1404, 0.1359, 0.133, 0.1319, 0.1313, 0.1295, 0.1294, 0.1282, 0.1272, 0.127], \"x\": [0, 1, 2, 3, 4, 5, 6, 7, 8, 9, 10], \"type\": \"scatter\", \"name\": \"Batch Size 64 neurone 29\"}, {\"y\": [0.1397, 0.1352, 0.1322, 0.1309, 0.1293, 0.1276, 0.1261, 0.1267, 0.125, 0.1248], \"x\": [0, 1, 2, 3, 4, 5, 6, 7, 8, 9, 10], \"type\": \"scatter\", \"name\": \"Batch Size 28 neurone 29\"}, {\"y\": [0.1367, 0.1283, 0.1273, 0.1258, 0.1243, 0.1211, 0.1213, 0.1219, 0.1199, 0.1177], \"x\": [0, 1, 2, 3, 4, 5, 6, 7, 8, 9, 10], \"type\": \"scatter\", \"name\": \"Batch Size 6 neurone 29\"}], {}, {\"linkText\": \"Export to plot.ly\", \"showLink\": true})});</script>"
      ],
      "text/vnd.plotly.v1+html": [
       "<div id=\"c988d96c-6839-4710-87a1-f404c338b13c\" style=\"height: 525px; width: 100%;\" class=\"plotly-graph-div\"></div><script type=\"text/javascript\">require([\"plotly\"], function(Plotly) { window.PLOTLYENV=window.PLOTLYENV || {};window.PLOTLYENV.BASE_URL=\"https://plot.ly\";Plotly.newPlot(\"c988d96c-6839-4710-87a1-f404c338b13c\", [{\"y\": [0.1404, 0.1359, 0.133, 0.1319, 0.1313, 0.1295, 0.1294, 0.1282, 0.1272, 0.127], \"x\": [0, 1, 2, 3, 4, 5, 6, 7, 8, 9, 10], \"type\": \"scatter\", \"name\": \"Batch Size 64 neurone 29\"}, {\"y\": [0.1397, 0.1352, 0.1322, 0.1309, 0.1293, 0.1276, 0.1261, 0.1267, 0.125, 0.1248], \"x\": [0, 1, 2, 3, 4, 5, 6, 7, 8, 9, 10], \"type\": \"scatter\", \"name\": \"Batch Size 28 neurone 29\"}, {\"y\": [0.1367, 0.1283, 0.1273, 0.1258, 0.1243, 0.1211, 0.1213, 0.1219, 0.1199, 0.1177], \"x\": [0, 1, 2, 3, 4, 5, 6, 7, 8, 9, 10], \"type\": \"scatter\", \"name\": \"Batch Size 6 neurone 29\"}], {}, {\"linkText\": \"Export to plot.ly\", \"showLink\": true})});</script>"
      ]
     },
     "metadata": {},
     "output_type": "display_data"
    }
   ],
   "source": [
    "trace6 = go.Scatter(\n",
    "    y=[0.1404,0.1359,0.1330,0.1319,0.1313,0.1295,0.1294,0.1282,0.1272,0.1270],\n",
    "    x=[0, 1, 2, 3, 4, 5, 6, 7, 8, 9, 10],\n",
    "    name='Batch Size 64 neurone 29'\n",
    ")\n",
    "trace7 = go.Scatter(\n",
    "    x=[0, 1, 2, 3, 4, 5, 6, 7, 8, 9, 10],\n",
    "    y=[0.1397,0.1352,0.1322,0.1309,0.1293,0.1276,0.1261,0.1267,0.1250,0.1248],\n",
    "    name='Batch Size 28 neurone 29'\n",
    ")\n",
    "\n",
    "trace71 = go.Scatter(\n",
    "    x=[0, 1, 2, 3, 4, 5, 6, 7, 8, 9, 10],\n",
    "    y=[0.1367,0.1283,0.1273,0.1258,0.1243,0.1211,0.1213,0.1219,0.1199,0.1177],\n",
    "    name='Batch Size 6 neurone 29'\n",
    ")\n",
    "\n",
    "data = [trace6, trace7,trace71]\n",
    "layout = go.Layout(\n",
    "    title='Plot Title',\n",
    "    xaxis=dict(\n",
    "        title='x Axis',\n",
    "        titlefont=dict(\n",
    "            family='Courier New, monospace',\n",
    "            size=18,\n",
    "            color='#7f7f7f'\n",
    "        )\n",
    "    ),\n",
    "    yaxis=dict(\n",
    "        title='y Axis',\n",
    "        titlefont=dict(\n",
    "            family='Courier New, monospace',\n",
    "            size=18,\n",
    "            color='#7f7f7f'\n",
    "        )\n",
    "    )\n",
    ")\n",
    "fig = go.Figure(data=data, layout=layout)\n",
    "py.iplot(data, filename='Evaluation Dataset Validation Loss')"
   ]
  },
  {
   "cell_type": "markdown",
   "metadata": {},
   "source": [
    "On remarque que plus la taille du batch size est petite meilleur sera le loss pendant l'entrainement sur le dataset validation. Mais ATTENTION le temps d'éxecution augmente !!\n"
   ]
  },
  {
   "cell_type": "code",
   "execution_count": 53,
   "metadata": {},
   "outputs": [
    {
     "data": {
      "application/vnd.plotly.v1+json": {
       "data": [
        {
         "name": "Batch Size 64 neurone 9",
         "type": "scatter",
         "x": [
          0,
          1,
          2,
          3,
          4,
          5,
          6,
          7,
          8,
          9,
          10
         ],
         "y": [
          0.1442,
          0.1399,
          0.1369,
          0.1336,
          0.1315,
          0.1305,
          0.1299,
          0.1299,
          0.1288,
          0.1291
         ]
        },
        {
         "name": "Batch Size 28 neurone 9",
         "type": "scatter",
         "x": [
          0,
          1,
          2,
          3,
          4,
          5,
          6,
          7,
          8,
          9,
          10
         ],
         "y": [
          0.1409,
          0.1374,
          0.1345,
          0.1319,
          0.1307,
          0.1298,
          0.1283,
          0.1275,
          0.1267,
          0.1267
         ]
        },
        {
         "name": "Batch Size 6 neurone 9",
         "type": "scatter",
         "x": [
          0,
          1,
          2,
          3,
          4,
          5,
          6,
          7,
          8,
          9,
          10
         ],
         "y": [
          0.137,
          0.1336,
          0.1306,
          0.1288,
          0.1269,
          0.1268,
          0.1263,
          0.1258,
          0.1254,
          0.1243
         ]
        },
        {
         "name": "Batch Size 64 neurone 6",
         "type": "scatter",
         "x": [
          0,
          1,
          2,
          3,
          4,
          5,
          6,
          7,
          8,
          9,
          10
         ],
         "y": [
          0.1433,
          0.1382,
          0.1359,
          0.1351,
          0.1333,
          0.1347,
          0.1321,
          0.1316,
          0.1312,
          0.1309
         ]
        },
        {
         "name": "Batch Size 28 neurone 6",
         "type": "scatter",
         "x": [
          0,
          1,
          2,
          3,
          4,
          5,
          6,
          7,
          8,
          9,
          10
         ],
         "y": [
          0.1461,
          0.1373,
          0.1343,
          0.1327,
          0.1314,
          0.1304,
          0.1291,
          0.1283,
          0.1304,
          0.1275
         ]
        },
        {
         "name": "Batch Size 6 neurone 6",
         "type": "scatter",
         "x": [
          0,
          1,
          2,
          3,
          4,
          5,
          6,
          7,
          8,
          9,
          10
         ],
         "y": [
          0.1398,
          0.1365,
          0.1334,
          0.1319,
          0.1302,
          0.1292,
          0.128,
          0.1271,
          0.1279,
          0.1267
         ]
        },
        {
         "name": "Batch Size 64 neurone 29",
         "type": "scatter",
         "x": [
          0,
          1,
          2,
          3,
          4,
          5,
          6,
          7,
          8,
          9,
          10
         ],
         "y": [
          0.1404,
          0.1359,
          0.133,
          0.1319,
          0.1313,
          0.1295,
          0.1294,
          0.1282,
          0.1272,
          0.127
         ]
        },
        {
         "name": "Batch Size 28 neurone 29",
         "type": "scatter",
         "x": [
          0,
          1,
          2,
          3,
          4,
          5,
          6,
          7,
          8,
          9,
          10
         ],
         "y": [
          0.1397,
          0.1352,
          0.1322,
          0.1309,
          0.1293,
          0.1276,
          0.1261,
          0.1267,
          0.125,
          0.1248
         ]
        },
        {
         "name": "Batch Size 6 neurone 29",
         "type": "scatter",
         "x": [
          0,
          1,
          2,
          3,
          4,
          5,
          6,
          7,
          8,
          9,
          10
         ],
         "y": [
          0.1367,
          0.1283,
          0.1273,
          0.1258,
          0.1243,
          0.1211,
          0.1213,
          0.1219,
          0.1199,
          0.1177
         ]
        }
       ],
       "layout": {}
      },
      "text/html": [
       "<div id=\"39f027ad-89ec-494a-9098-ef5d072f3c5c\" style=\"height: 525px; width: 100%;\" class=\"plotly-graph-div\"></div><script type=\"text/javascript\">require([\"plotly\"], function(Plotly) { window.PLOTLYENV=window.PLOTLYENV || {};window.PLOTLYENV.BASE_URL=\"https://plot.ly\";Plotly.newPlot(\"39f027ad-89ec-494a-9098-ef5d072f3c5c\", [{\"y\": [0.1442, 0.1399, 0.1369, 0.1336, 0.1315, 0.1305, 0.1299, 0.1299, 0.1288, 0.1291], \"x\": [0, 1, 2, 3, 4, 5, 6, 7, 8, 9, 10], \"type\": \"scatter\", \"name\": \"Batch Size 64 neurone 9\"}, {\"y\": [0.1409, 0.1374, 0.1345, 0.1319, 0.1307, 0.1298, 0.1283, 0.1275, 0.1267, 0.1267], \"x\": [0, 1, 2, 3, 4, 5, 6, 7, 8, 9, 10], \"type\": \"scatter\", \"name\": \"Batch Size 28 neurone 9\"}, {\"y\": [0.137, 0.1336, 0.1306, 0.1288, 0.1269, 0.1268, 0.1263, 0.1258, 0.1254, 0.1243], \"x\": [0, 1, 2, 3, 4, 5, 6, 7, 8, 9, 10], \"type\": \"scatter\", \"name\": \"Batch Size 6 neurone 9\"}, {\"y\": [0.1433, 0.1382, 0.1359, 0.1351, 0.1333, 0.1347, 0.1321, 0.1316, 0.1312, 0.1309], \"x\": [0, 1, 2, 3, 4, 5, 6, 7, 8, 9, 10], \"type\": \"scatter\", \"name\": \"Batch Size 64 neurone 6\"}, {\"y\": [0.1461, 0.1373, 0.1343, 0.1327, 0.1314, 0.1304, 0.1291, 0.1283, 0.1304, 0.1275], \"x\": [0, 1, 2, 3, 4, 5, 6, 7, 8, 9, 10], \"type\": \"scatter\", \"name\": \"Batch Size 28 neurone 6\"}, {\"y\": [0.1398, 0.1365, 0.1334, 0.1319, 0.1302, 0.1292, 0.128, 0.1271, 0.1279, 0.1267], \"x\": [0, 1, 2, 3, 4, 5, 6, 7, 8, 9, 10], \"type\": \"scatter\", \"name\": \"Batch Size 6 neurone 6\"}, {\"y\": [0.1404, 0.1359, 0.133, 0.1319, 0.1313, 0.1295, 0.1294, 0.1282, 0.1272, 0.127], \"x\": [0, 1, 2, 3, 4, 5, 6, 7, 8, 9, 10], \"type\": \"scatter\", \"name\": \"Batch Size 64 neurone 29\"}, {\"y\": [0.1397, 0.1352, 0.1322, 0.1309, 0.1293, 0.1276, 0.1261, 0.1267, 0.125, 0.1248], \"x\": [0, 1, 2, 3, 4, 5, 6, 7, 8, 9, 10], \"type\": \"scatter\", \"name\": \"Batch Size 28 neurone 29\"}, {\"y\": [0.1367, 0.1283, 0.1273, 0.1258, 0.1243, 0.1211, 0.1213, 0.1219, 0.1199, 0.1177], \"x\": [0, 1, 2, 3, 4, 5, 6, 7, 8, 9, 10], \"type\": \"scatter\", \"name\": \"Batch Size 6 neurone 29\"}], {}, {\"linkText\": \"Export to plot.ly\", \"showLink\": true})});</script>"
      ],
      "text/vnd.plotly.v1+html": [
       "<div id=\"39f027ad-89ec-494a-9098-ef5d072f3c5c\" style=\"height: 525px; width: 100%;\" class=\"plotly-graph-div\"></div><script type=\"text/javascript\">require([\"plotly\"], function(Plotly) { window.PLOTLYENV=window.PLOTLYENV || {};window.PLOTLYENV.BASE_URL=\"https://plot.ly\";Plotly.newPlot(\"39f027ad-89ec-494a-9098-ef5d072f3c5c\", [{\"y\": [0.1442, 0.1399, 0.1369, 0.1336, 0.1315, 0.1305, 0.1299, 0.1299, 0.1288, 0.1291], \"x\": [0, 1, 2, 3, 4, 5, 6, 7, 8, 9, 10], \"type\": \"scatter\", \"name\": \"Batch Size 64 neurone 9\"}, {\"y\": [0.1409, 0.1374, 0.1345, 0.1319, 0.1307, 0.1298, 0.1283, 0.1275, 0.1267, 0.1267], \"x\": [0, 1, 2, 3, 4, 5, 6, 7, 8, 9, 10], \"type\": \"scatter\", \"name\": \"Batch Size 28 neurone 9\"}, {\"y\": [0.137, 0.1336, 0.1306, 0.1288, 0.1269, 0.1268, 0.1263, 0.1258, 0.1254, 0.1243], \"x\": [0, 1, 2, 3, 4, 5, 6, 7, 8, 9, 10], \"type\": \"scatter\", \"name\": \"Batch Size 6 neurone 9\"}, {\"y\": [0.1433, 0.1382, 0.1359, 0.1351, 0.1333, 0.1347, 0.1321, 0.1316, 0.1312, 0.1309], \"x\": [0, 1, 2, 3, 4, 5, 6, 7, 8, 9, 10], \"type\": \"scatter\", \"name\": \"Batch Size 64 neurone 6\"}, {\"y\": [0.1461, 0.1373, 0.1343, 0.1327, 0.1314, 0.1304, 0.1291, 0.1283, 0.1304, 0.1275], \"x\": [0, 1, 2, 3, 4, 5, 6, 7, 8, 9, 10], \"type\": \"scatter\", \"name\": \"Batch Size 28 neurone 6\"}, {\"y\": [0.1398, 0.1365, 0.1334, 0.1319, 0.1302, 0.1292, 0.128, 0.1271, 0.1279, 0.1267], \"x\": [0, 1, 2, 3, 4, 5, 6, 7, 8, 9, 10], \"type\": \"scatter\", \"name\": \"Batch Size 6 neurone 6\"}, {\"y\": [0.1404, 0.1359, 0.133, 0.1319, 0.1313, 0.1295, 0.1294, 0.1282, 0.1272, 0.127], \"x\": [0, 1, 2, 3, 4, 5, 6, 7, 8, 9, 10], \"type\": \"scatter\", \"name\": \"Batch Size 64 neurone 29\"}, {\"y\": [0.1397, 0.1352, 0.1322, 0.1309, 0.1293, 0.1276, 0.1261, 0.1267, 0.125, 0.1248], \"x\": [0, 1, 2, 3, 4, 5, 6, 7, 8, 9, 10], \"type\": \"scatter\", \"name\": \"Batch Size 28 neurone 29\"}, {\"y\": [0.1367, 0.1283, 0.1273, 0.1258, 0.1243, 0.1211, 0.1213, 0.1219, 0.1199, 0.1177], \"x\": [0, 1, 2, 3, 4, 5, 6, 7, 8, 9, 10], \"type\": \"scatter\", \"name\": \"Batch Size 6 neurone 29\"}], {}, {\"linkText\": \"Export to plot.ly\", \"showLink\": true})});</script>"
      ]
     },
     "metadata": {},
     "output_type": "display_data"
    }
   ],
   "source": [
    "data = [trace1,trace2,trace3,trace4,trace5,trace51,trace6, trace7,trace71]\n",
    "layout = go.Layout(\n",
    "    title='Plot Title',\n",
    "    xaxis=dict(\n",
    "        title='x Axis',\n",
    "        titlefont=dict(\n",
    "            family='Courier New, monospace',\n",
    "            size=18,\n",
    "            color='#7f7f7f'\n",
    "        )\n",
    "    ),\n",
    "    yaxis=dict(\n",
    "        title='y Axis',\n",
    "        titlefont=dict(\n",
    "            family='Courier New, monospace',\n",
    "            size=18,\n",
    "            color='#7f7f7f'\n",
    "        )\n",
    "    )\n",
    ")\n",
    "fig = go.Figure(data=data, layout=layout)\n",
    "py.iplot(data, filename='Evaluation Dataset Validation Loss')"
   ]
  },
  {
   "cell_type": "markdown",
   "metadata": {},
   "source": []
  },
  {
   "cell_type": "code",
   "execution_count": 56,
   "metadata": {},
   "outputs": [
    {
     "data": {
      "application/vnd.plotly.v1+json": {
       "data": [
        {
         "name": "Batch Size 64, 28, 6 neurone 9",
         "type": "scatter",
         "x": [
          10,
          11,
          12
         ],
         "y": [
          0.12871576176078744,
          0.1261186502860532,
          0.12479437814108296
         ]
        },
        {
         "name": "Batch Size 64, 28, 6 neurone 6",
         "type": "scatter",
         "x": [
          10,
          11,
          12
         ],
         "y": [
          0.13028293257773133,
          0.12719025994965297,
          0.12694291766399038
         ]
        },
        {
         "name": "Batch Size 64, 28, 6 neurone 29",
         "type": "scatter",
         "x": [
          10,
          11,
          12
         ],
         "y": [
          0.12692572418769865,
          0.12445688578504065,
          0.11802132466403158
         ]
        }
       ],
       "layout": {}
      },
      "text/html": [
       "<div id=\"2b0bc8e2-a300-460b-949c-d233d8c80992\" style=\"height: 525px; width: 100%;\" class=\"plotly-graph-div\"></div><script type=\"text/javascript\">require([\"plotly\"], function(Plotly) { window.PLOTLYENV=window.PLOTLYENV || {};window.PLOTLYENV.BASE_URL=\"https://plot.ly\";Plotly.newPlot(\"2b0bc8e2-a300-460b-949c-d233d8c80992\", [{\"y\": [0.12871576176078744, 0.1261186502860532, 0.12479437814108296], \"x\": [10, 11, 12], \"type\": \"scatter\", \"name\": \"Batch Size 64, 28, 6 neurone 9\"}, {\"y\": [0.13028293257773133, 0.12719025994965297, 0.12694291766399038], \"x\": [10, 11, 12], \"type\": \"scatter\", \"name\": \"Batch Size 64, 28, 6 neurone 6\"}, {\"y\": [0.12692572418769865, 0.12445688578504065, 0.11802132466403158], \"x\": [10, 11, 12], \"type\": \"scatter\", \"name\": \"Batch Size 64, 28, 6 neurone 29\"}], {}, {\"linkText\": \"Export to plot.ly\", \"showLink\": true})});</script>"
      ],
      "text/vnd.plotly.v1+html": [
       "<div id=\"2b0bc8e2-a300-460b-949c-d233d8c80992\" style=\"height: 525px; width: 100%;\" class=\"plotly-graph-div\"></div><script type=\"text/javascript\">require([\"plotly\"], function(Plotly) { window.PLOTLYENV=window.PLOTLYENV || {};window.PLOTLYENV.BASE_URL=\"https://plot.ly\";Plotly.newPlot(\"2b0bc8e2-a300-460b-949c-d233d8c80992\", [{\"y\": [0.12871576176078744, 0.1261186502860532, 0.12479437814108296], \"x\": [10, 11, 12], \"type\": \"scatter\", \"name\": \"Batch Size 64, 28, 6 neurone 9\"}, {\"y\": [0.13028293257773133, 0.12719025994965297, 0.12694291766399038], \"x\": [10, 11, 12], \"type\": \"scatter\", \"name\": \"Batch Size 64, 28, 6 neurone 6\"}, {\"y\": [0.12692572418769865, 0.12445688578504065, 0.11802132466403158], \"x\": [10, 11, 12], \"type\": \"scatter\", \"name\": \"Batch Size 64, 28, 6 neurone 29\"}], {}, {\"linkText\": \"Export to plot.ly\", \"showLink\": true})});</script>"
      ]
     },
     "metadata": {},
     "output_type": "display_data"
    }
   ],
   "source": [
    "trace8 = go.Scatter(\n",
    "    y=[0.12871576176078744,0.12611865028605321,0.12479437814108296],\n",
    "    x=[10,11,12],\n",
    "    name='Batch Size 64, 28, 6 neurone 9'\n",
    ")\n",
    "trace9 = go.Scatter(\n",
    "    y=[0.13028293257773133,0.12719025994965297,0.12694291766399038],\n",
    "    x=[10,11,12],\n",
    "    name='Batch Size 64, 28, 6 neurone 6'\n",
    ")\n",
    "trace10 = go.Scatter(\n",
    "    y=[0.12692572418769865, 0.12445688578504065,0.11802132466403158],\n",
    "    x=[10,11,12],\n",
    "    name='Batch Size 64, 28, 6 neurone 29'\n",
    ")\n",
    "\n",
    "\n",
    "data = [trace8, trace9,trace10]\n",
    "layout = go.Layout(\n",
    "    title='Plot Title',\n",
    "    xaxis=dict(\n",
    "        title='x Axis',\n",
    "        titlefont=dict(\n",
    "            family='Courier New, monospace',\n",
    "            size=18,\n",
    "            color='#7f7f7f'\n",
    "        )\n",
    "    ),\n",
    "    yaxis=dict(\n",
    "        title='y Axis',\n",
    "        titlefont=dict(\n",
    "            family='Courier New, monospace',\n",
    "            size=18,\n",
    "            color='#7f7f7f'\n",
    "        )\n",
    "    )\n",
    ")\n",
    "fig = go.Figure(data=data, layout=layout)\n",
    "py.iplot(data, filename='Evaluation Dataset Test Loss')"
   ]
  },
  {
   "cell_type": "code",
   "execution_count": 58,
   "metadata": {},
   "outputs": [
    {
     "data": {
      "application/vnd.plotly.v1+json": {
       "data": [
        {
         "name": "Batch Size 64 neurone 9",
         "type": "scatter",
         "x": [
          0,
          1,
          2,
          3,
          4,
          5,
          6,
          7,
          8,
          9,
          10
         ],
         "y": [
          0.1442,
          0.1399,
          0.1369,
          0.1336,
          0.1315,
          0.1305,
          0.1299,
          0.1299,
          0.1288,
          0.1291
         ]
        },
        {
         "name": "Batch Size 28 neurone 9",
         "type": "scatter",
         "x": [
          0,
          1,
          2,
          3,
          4,
          5,
          6,
          7,
          8,
          9,
          10
         ],
         "y": [
          0.1409,
          0.1374,
          0.1345,
          0.1319,
          0.1307,
          0.1298,
          0.1283,
          0.1275,
          0.1267,
          0.1267
         ]
        },
        {
         "name": "Batch Size 6 neurone 9",
         "type": "scatter",
         "x": [
          0,
          1,
          2,
          3,
          4,
          5,
          6,
          7,
          8,
          9,
          10
         ],
         "y": [
          0.137,
          0.1336,
          0.1306,
          0.1288,
          0.1269,
          0.1268,
          0.1263,
          0.1258,
          0.1254,
          0.1243
         ]
        },
        {
         "name": "Batch Size 64 neurone 6",
         "type": "scatter",
         "x": [
          0,
          1,
          2,
          3,
          4,
          5,
          6,
          7,
          8,
          9,
          10
         ],
         "y": [
          0.1433,
          0.1382,
          0.1359,
          0.1351,
          0.1333,
          0.1347,
          0.1321,
          0.1316,
          0.1312,
          0.1309
         ]
        },
        {
         "name": "Batch Size 28 neurone 6",
         "type": "scatter",
         "x": [
          0,
          1,
          2,
          3,
          4,
          5,
          6,
          7,
          8,
          9,
          10
         ],
         "y": [
          0.1461,
          0.1373,
          0.1343,
          0.1327,
          0.1314,
          0.1304,
          0.1291,
          0.1283,
          0.1304,
          0.1275
         ]
        },
        {
         "name": "Batch Size 6 neurone 6",
         "type": "scatter",
         "x": [
          0,
          1,
          2,
          3,
          4,
          5,
          6,
          7,
          8,
          9,
          10
         ],
         "y": [
          0.1398,
          0.1365,
          0.1334,
          0.1319,
          0.1302,
          0.1292,
          0.128,
          0.1271,
          0.1279,
          0.1267
         ]
        },
        {
         "name": "Batch Size 64 neurone 29",
         "type": "scatter",
         "x": [
          0,
          1,
          2,
          3,
          4,
          5,
          6,
          7,
          8,
          9,
          10
         ],
         "y": [
          0.1404,
          0.1359,
          0.133,
          0.1319,
          0.1313,
          0.1295,
          0.1294,
          0.1282,
          0.1272,
          0.127
         ]
        },
        {
         "name": "Batch Size 28 neurone 29",
         "type": "scatter",
         "x": [
          0,
          1,
          2,
          3,
          4,
          5,
          6,
          7,
          8,
          9,
          10
         ],
         "y": [
          0.1397,
          0.1352,
          0.1322,
          0.1309,
          0.1293,
          0.1276,
          0.1261,
          0.1267,
          0.125,
          0.1248
         ]
        },
        {
         "name": "Batch Size 6 neurone 29",
         "type": "scatter",
         "x": [
          0,
          1,
          2,
          3,
          4,
          5,
          6,
          7,
          8,
          9,
          10
         ],
         "y": [
          0.1367,
          0.1283,
          0.1273,
          0.1258,
          0.1243,
          0.1211,
          0.1213,
          0.1219,
          0.1199,
          0.1177
         ]
        },
        {
         "name": "Batch Size 64, 28, 6 neurone 9",
         "type": "scatter",
         "x": [
          10,
          11,
          12
         ],
         "y": [
          0.12871576176078744,
          0.1261186502860532,
          0.12479437814108296
         ]
        },
        {
         "name": "Batch Size 64, 28, 6 neurone 6",
         "type": "scatter",
         "x": [
          10,
          11,
          12
         ],
         "y": [
          0.13028293257773133,
          0.12719025994965297,
          0.12694291766399038
         ]
        },
        {
         "name": "Batch Size 64, 28, 6 neurone 29",
         "type": "scatter",
         "x": [
          10,
          11,
          12
         ],
         "y": [
          0.12692572418769865,
          0.12445688578504065,
          0.11802132466403158
         ]
        }
       ],
       "layout": {}
      },
      "text/html": [
       "<div id=\"e26e987d-1b41-435d-a626-38a0390a9a76\" style=\"height: 525px; width: 100%;\" class=\"plotly-graph-div\"></div><script type=\"text/javascript\">require([\"plotly\"], function(Plotly) { window.PLOTLYENV=window.PLOTLYENV || {};window.PLOTLYENV.BASE_URL=\"https://plot.ly\";Plotly.newPlot(\"e26e987d-1b41-435d-a626-38a0390a9a76\", [{\"y\": [0.1442, 0.1399, 0.1369, 0.1336, 0.1315, 0.1305, 0.1299, 0.1299, 0.1288, 0.1291], \"x\": [0, 1, 2, 3, 4, 5, 6, 7, 8, 9, 10], \"type\": \"scatter\", \"name\": \"Batch Size 64 neurone 9\"}, {\"y\": [0.1409, 0.1374, 0.1345, 0.1319, 0.1307, 0.1298, 0.1283, 0.1275, 0.1267, 0.1267], \"x\": [0, 1, 2, 3, 4, 5, 6, 7, 8, 9, 10], \"type\": \"scatter\", \"name\": \"Batch Size 28 neurone 9\"}, {\"y\": [0.137, 0.1336, 0.1306, 0.1288, 0.1269, 0.1268, 0.1263, 0.1258, 0.1254, 0.1243], \"x\": [0, 1, 2, 3, 4, 5, 6, 7, 8, 9, 10], \"type\": \"scatter\", \"name\": \"Batch Size 6 neurone 9\"}, {\"y\": [0.1433, 0.1382, 0.1359, 0.1351, 0.1333, 0.1347, 0.1321, 0.1316, 0.1312, 0.1309], \"x\": [0, 1, 2, 3, 4, 5, 6, 7, 8, 9, 10], \"type\": \"scatter\", \"name\": \"Batch Size 64 neurone 6\"}, {\"y\": [0.1461, 0.1373, 0.1343, 0.1327, 0.1314, 0.1304, 0.1291, 0.1283, 0.1304, 0.1275], \"x\": [0, 1, 2, 3, 4, 5, 6, 7, 8, 9, 10], \"type\": \"scatter\", \"name\": \"Batch Size 28 neurone 6\"}, {\"y\": [0.1398, 0.1365, 0.1334, 0.1319, 0.1302, 0.1292, 0.128, 0.1271, 0.1279, 0.1267], \"x\": [0, 1, 2, 3, 4, 5, 6, 7, 8, 9, 10], \"type\": \"scatter\", \"name\": \"Batch Size 6 neurone 6\"}, {\"y\": [0.1404, 0.1359, 0.133, 0.1319, 0.1313, 0.1295, 0.1294, 0.1282, 0.1272, 0.127], \"x\": [0, 1, 2, 3, 4, 5, 6, 7, 8, 9, 10], \"type\": \"scatter\", \"name\": \"Batch Size 64 neurone 29\"}, {\"y\": [0.1397, 0.1352, 0.1322, 0.1309, 0.1293, 0.1276, 0.1261, 0.1267, 0.125, 0.1248], \"x\": [0, 1, 2, 3, 4, 5, 6, 7, 8, 9, 10], \"type\": \"scatter\", \"name\": \"Batch Size 28 neurone 29\"}, {\"y\": [0.1367, 0.1283, 0.1273, 0.1258, 0.1243, 0.1211, 0.1213, 0.1219, 0.1199, 0.1177], \"x\": [0, 1, 2, 3, 4, 5, 6, 7, 8, 9, 10], \"type\": \"scatter\", \"name\": \"Batch Size 6 neurone 29\"}, {\"y\": [0.12871576176078744, 0.1261186502860532, 0.12479437814108296], \"x\": [10, 11, 12], \"type\": \"scatter\", \"name\": \"Batch Size 64, 28, 6 neurone 9\"}, {\"y\": [0.13028293257773133, 0.12719025994965297, 0.12694291766399038], \"x\": [10, 11, 12], \"type\": \"scatter\", \"name\": \"Batch Size 64, 28, 6 neurone 6\"}, {\"y\": [0.12692572418769865, 0.12445688578504065, 0.11802132466403158], \"x\": [10, 11, 12], \"type\": \"scatter\", \"name\": \"Batch Size 64, 28, 6 neurone 29\"}], {}, {\"linkText\": \"Export to plot.ly\", \"showLink\": true})});</script>"
      ],
      "text/vnd.plotly.v1+html": [
       "<div id=\"e26e987d-1b41-435d-a626-38a0390a9a76\" style=\"height: 525px; width: 100%;\" class=\"plotly-graph-div\"></div><script type=\"text/javascript\">require([\"plotly\"], function(Plotly) { window.PLOTLYENV=window.PLOTLYENV || {};window.PLOTLYENV.BASE_URL=\"https://plot.ly\";Plotly.newPlot(\"e26e987d-1b41-435d-a626-38a0390a9a76\", [{\"y\": [0.1442, 0.1399, 0.1369, 0.1336, 0.1315, 0.1305, 0.1299, 0.1299, 0.1288, 0.1291], \"x\": [0, 1, 2, 3, 4, 5, 6, 7, 8, 9, 10], \"type\": \"scatter\", \"name\": \"Batch Size 64 neurone 9\"}, {\"y\": [0.1409, 0.1374, 0.1345, 0.1319, 0.1307, 0.1298, 0.1283, 0.1275, 0.1267, 0.1267], \"x\": [0, 1, 2, 3, 4, 5, 6, 7, 8, 9, 10], \"type\": \"scatter\", \"name\": \"Batch Size 28 neurone 9\"}, {\"y\": [0.137, 0.1336, 0.1306, 0.1288, 0.1269, 0.1268, 0.1263, 0.1258, 0.1254, 0.1243], \"x\": [0, 1, 2, 3, 4, 5, 6, 7, 8, 9, 10], \"type\": \"scatter\", \"name\": \"Batch Size 6 neurone 9\"}, {\"y\": [0.1433, 0.1382, 0.1359, 0.1351, 0.1333, 0.1347, 0.1321, 0.1316, 0.1312, 0.1309], \"x\": [0, 1, 2, 3, 4, 5, 6, 7, 8, 9, 10], \"type\": \"scatter\", \"name\": \"Batch Size 64 neurone 6\"}, {\"y\": [0.1461, 0.1373, 0.1343, 0.1327, 0.1314, 0.1304, 0.1291, 0.1283, 0.1304, 0.1275], \"x\": [0, 1, 2, 3, 4, 5, 6, 7, 8, 9, 10], \"type\": \"scatter\", \"name\": \"Batch Size 28 neurone 6\"}, {\"y\": [0.1398, 0.1365, 0.1334, 0.1319, 0.1302, 0.1292, 0.128, 0.1271, 0.1279, 0.1267], \"x\": [0, 1, 2, 3, 4, 5, 6, 7, 8, 9, 10], \"type\": \"scatter\", \"name\": \"Batch Size 6 neurone 6\"}, {\"y\": [0.1404, 0.1359, 0.133, 0.1319, 0.1313, 0.1295, 0.1294, 0.1282, 0.1272, 0.127], \"x\": [0, 1, 2, 3, 4, 5, 6, 7, 8, 9, 10], \"type\": \"scatter\", \"name\": \"Batch Size 64 neurone 29\"}, {\"y\": [0.1397, 0.1352, 0.1322, 0.1309, 0.1293, 0.1276, 0.1261, 0.1267, 0.125, 0.1248], \"x\": [0, 1, 2, 3, 4, 5, 6, 7, 8, 9, 10], \"type\": \"scatter\", \"name\": \"Batch Size 28 neurone 29\"}, {\"y\": [0.1367, 0.1283, 0.1273, 0.1258, 0.1243, 0.1211, 0.1213, 0.1219, 0.1199, 0.1177], \"x\": [0, 1, 2, 3, 4, 5, 6, 7, 8, 9, 10], \"type\": \"scatter\", \"name\": \"Batch Size 6 neurone 29\"}, {\"y\": [0.12871576176078744, 0.1261186502860532, 0.12479437814108296], \"x\": [10, 11, 12], \"type\": \"scatter\", \"name\": \"Batch Size 64, 28, 6 neurone 9\"}, {\"y\": [0.13028293257773133, 0.12719025994965297, 0.12694291766399038], \"x\": [10, 11, 12], \"type\": \"scatter\", \"name\": \"Batch Size 64, 28, 6 neurone 6\"}, {\"y\": [0.12692572418769865, 0.12445688578504065, 0.11802132466403158], \"x\": [10, 11, 12], \"type\": \"scatter\", \"name\": \"Batch Size 64, 28, 6 neurone 29\"}], {}, {\"linkText\": \"Export to plot.ly\", \"showLink\": true})});</script>"
      ]
     },
     "metadata": {},
     "output_type": "display_data"
    }
   ],
   "source": [
    "data = [trace1,trace2,trace3,trace4,trace5,trace51, trace6, trace7,trace71,trace8,trace9,trace10]\n",
    "layout = go.Layout(\n",
    "    title='Plot Title',\n",
    "    xaxis=dict(\n",
    "        title='x Axis',\n",
    "        titlefont=dict(\n",
    "            family='Courier New, monospace',\n",
    "            size=18,\n",
    "            color='#7f7f7f'\n",
    "        )\n",
    "    ),\n",
    "    yaxis=dict(\n",
    "        title='y Axis',\n",
    "        titlefont=dict(\n",
    "            family='Courier New, monospace',\n",
    "            size=18,\n",
    "            color='#7f7f7f'\n",
    "        )\n",
    "    )\n",
    ")\n",
    "fig = go.Figure(data=data, layout=layout)\n",
    "py.iplot(data, filename='Evaluation Dataset Validation Loss')"
   ]
  },
  {
   "cell_type": "markdown",
   "metadata": {},
   "source": [
    "# Batch Size 6 neurone 29 Le meilleur "
   ]
  },
  {
   "cell_type": "markdown",
   "metadata": {},
   "source": [
    "# dense_1 (Dense)              (None, 18)                342       \n",
    "_________________________________________________________________\n",
    "# dense_2 (Dense)              (None, 29)                551       \n",
    "_________________________________________________________________\n",
    "# dense_3 (Dense)              (None, 29)                870       \n",
    "_________________________________________________________________\n",
    "# dense_4 (Dense)              (None, 17)                510     "
   ]
  },
  {
   "cell_type": "code",
   "execution_count": 3,
   "metadata": {},
   "outputs": [
    {
     "data": {
      "text/html": [
       "<script>requirejs.config({paths: { 'plotly': ['https://cdn.plot.ly/plotly-latest.min']},});if(!window.Plotly) {{require(['plotly'],function(plotly) {window.Plotly=plotly;});}}</script>"
      ],
      "text/vnd.plotly.v1+html": [
       "<script>requirejs.config({paths: { 'plotly': ['https://cdn.plot.ly/plotly-latest.min']},});if(!window.Plotly) {{require(['plotly'],function(plotly) {window.Plotly=plotly;});}}</script>"
      ]
     },
     "metadata": {},
     "output_type": "display_data"
    },
    {
     "data": {
      "application/vnd.plotly.v1+json": {
       "data": [
        {
         "name": "Batch Size 64 2 hidden layer",
         "type": "scatter",
         "x": [
          0,
          1,
          2,
          3,
          4,
          5,
          6,
          7,
          8,
          9,
          10
         ],
         "y": [
          0.1442,
          0.1399,
          0.1369,
          0.1336,
          0.1315,
          0.1305,
          0.1299,
          0.1299,
          0.1288,
          0.1291
         ]
        },
        {
         "name": "Batch Size 28 2 hidden layer",
         "type": "scatter",
         "x": [
          0,
          1,
          2,
          3,
          4,
          5,
          6,
          7,
          8,
          9,
          10
         ],
         "y": [
          0.1328,
          0.1274,
          0.1277,
          0.122,
          0.1203,
          0.1192,
          0.1178,
          0.1172,
          0.1167,
          0.1171
         ]
        }
       ],
       "layout": {}
      },
      "text/html": [
       "<div id=\"a5da4d89-fde9-43e4-b247-52bee5ada7a3\" style=\"height: 525px; width: 100%;\" class=\"plotly-graph-div\"></div><script type=\"text/javascript\">require([\"plotly\"], function(Plotly) { window.PLOTLYENV=window.PLOTLYENV || {};window.PLOTLYENV.BASE_URL=\"https://plot.ly\";Plotly.newPlot(\"a5da4d89-fde9-43e4-b247-52bee5ada7a3\", [{\"y\": [0.1442, 0.1399, 0.1369, 0.1336, 0.1315, 0.1305, 0.1299, 0.1299, 0.1288, 0.1291], \"x\": [0, 1, 2, 3, 4, 5, 6, 7, 8, 9, 10], \"type\": \"scatter\", \"name\": \"Batch Size 64 2 hidden layer\"}, {\"y\": [0.1328, 0.1274, 0.1277, 0.122, 0.1203, 0.1192, 0.1178, 0.1172, 0.1167, 0.1171], \"x\": [0, 1, 2, 3, 4, 5, 6, 7, 8, 9, 10], \"type\": \"scatter\", \"name\": \"Batch Size 28 2 hidden layer\"}], {}, {\"linkText\": \"Export to plot.ly\", \"showLink\": true})});</script>"
      ],
      "text/vnd.plotly.v1+html": [
       "<div id=\"a5da4d89-fde9-43e4-b247-52bee5ada7a3\" style=\"height: 525px; width: 100%;\" class=\"plotly-graph-div\"></div><script type=\"text/javascript\">require([\"plotly\"], function(Plotly) { window.PLOTLYENV=window.PLOTLYENV || {};window.PLOTLYENV.BASE_URL=\"https://plot.ly\";Plotly.newPlot(\"a5da4d89-fde9-43e4-b247-52bee5ada7a3\", [{\"y\": [0.1442, 0.1399, 0.1369, 0.1336, 0.1315, 0.1305, 0.1299, 0.1299, 0.1288, 0.1291], \"x\": [0, 1, 2, 3, 4, 5, 6, 7, 8, 9, 10], \"type\": \"scatter\", \"name\": \"Batch Size 64 2 hidden layer\"}, {\"y\": [0.1328, 0.1274, 0.1277, 0.122, 0.1203, 0.1192, 0.1178, 0.1172, 0.1167, 0.1171], \"x\": [0, 1, 2, 3, 4, 5, 6, 7, 8, 9, 10], \"type\": \"scatter\", \"name\": \"Batch Size 28 2 hidden layer\"}], {}, {\"linkText\": \"Export to plot.ly\", \"showLink\": true})});</script>"
      ]
     },
     "metadata": {},
     "output_type": "display_data"
    }
   ],
   "source": [
    "import plotly.offline as py\n",
    "py.init_notebook_mode(connected=True)\n",
    "import plotly.graph_objs as go\n",
    "\n",
    "\n",
    "trace11 = go.Scatter(\n",
    "    y=[0.1442,0.1399,0.1369,0.1336,0.1315,0.1305,0.1299,0.1299,0.1288,0.1291],\n",
    "    x=[0, 1, 2, 3, 4, 5, 6, 7, 8, 9, 10],\n",
    "    name='Batch Size 64 2 hidden layer'\n",
    ")\n",
    "trace12 = go.Scatter(\n",
    "    x=[0, 1, 2, 3, 4, 5, 6, 7, 8, 9, 10],\n",
    "    y=[0.1328,0.1274,0.1277,0.1220,0.1203,0.1192,0.1178,0.1172,0.1167,0.1171],\n",
    "    name='Batch Size 28 2 hidden layer'\n",
    ")\n",
    "\n",
    "data = [trace11, trace12]\n",
    "layout = go.Layout(\n",
    "    title='Plot Title',\n",
    "    xaxis=dict(\n",
    "        title='x Axis',\n",
    "        titlefont=dict(\n",
    "            family='Courier New, monospace',\n",
    "            size=18,\n",
    "            color='#7f7f7f'\n",
    "        )\n",
    "    ),\n",
    "    yaxis=dict(\n",
    "        title='y Axis',\n",
    "        titlefont=dict(\n",
    "            family='Courier New, monospace',\n",
    "            size=18,\n",
    "            color='#7f7f7f'\n",
    "        )\n",
    "    )\n",
    ")\n",
    "fig = go.Figure(data=data, layout=layout)\n",
    "py.iplot(data, filename='Evaluation Dataset Validation Loss')\n"
   ]
  },
  {
   "cell_type": "markdown",
   "metadata": {},
   "source": [
    "# dense_6 (Dense)              (None, 18)                342       \n",
    "_________________________________________________________________\n",
    "# dense_7 (Dense)              (None, 29)                551       \n",
    "_________________________________________________________________\n",
    "# dense_8 (Dense)              (None, 29)                870       \n",
    "_________________________________________________________________\n",
    "# dense_9 (Dense)              (None, 29)                870       \n",
    "_________________________________________________________________\n",
    "# dense_10 (Dense)             (None, 17)                510      "
   ]
  },
  {
   "cell_type": "code",
   "execution_count": 4,
   "metadata": {},
   "outputs": [
    {
     "data": {
      "text/html": [
       "<script>requirejs.config({paths: { 'plotly': ['https://cdn.plot.ly/plotly-latest.min']},});if(!window.Plotly) {{require(['plotly'],function(plotly) {window.Plotly=plotly;});}}</script>"
      ],
      "text/vnd.plotly.v1+html": [
       "<script>requirejs.config({paths: { 'plotly': ['https://cdn.plot.ly/plotly-latest.min']},});if(!window.Plotly) {{require(['plotly'],function(plotly) {window.Plotly=plotly;});}}</script>"
      ]
     },
     "metadata": {},
     "output_type": "display_data"
    },
    {
     "data": {
      "application/vnd.plotly.v1+json": {
       "data": [
        {
         "name": "Batch Size 64 3 hidden layer",
         "type": "scatter",
         "x": [
          0,
          1,
          2,
          3,
          4,
          5,
          6,
          7,
          8,
          9,
          10
         ],
         "y": [
          0.1341,
          0.1289,
          0.128,
          0.125,
          0.124,
          0.1218,
          0.1217,
          0.1215,
          0.1195,
          0.1184
         ]
        },
        {
         "name": "Batch Size 28 3 hidden layer",
         "type": "scatter",
         "x": [
          0,
          1,
          2,
          3,
          4,
          5,
          6,
          7,
          8,
          9,
          10
         ],
         "y": [
          0.1342,
          0.1286,
          0.1248,
          0.1219,
          0.1216,
          0.1206,
          0.1197,
          0.1165,
          0.1214,
          0.1189
         ]
        }
       ],
       "layout": {}
      },
      "text/html": [
       "<div id=\"a282846e-6eb1-4144-bfa1-05f372ffa5c3\" style=\"height: 525px; width: 100%;\" class=\"plotly-graph-div\"></div><script type=\"text/javascript\">require([\"plotly\"], function(Plotly) { window.PLOTLYENV=window.PLOTLYENV || {};window.PLOTLYENV.BASE_URL=\"https://plot.ly\";Plotly.newPlot(\"a282846e-6eb1-4144-bfa1-05f372ffa5c3\", [{\"y\": [0.1341, 0.1289, 0.128, 0.125, 0.124, 0.1218, 0.1217, 0.1215, 0.1195, 0.1184], \"x\": [0, 1, 2, 3, 4, 5, 6, 7, 8, 9, 10], \"type\": \"scatter\", \"name\": \"Batch Size 64 3 hidden layer\"}, {\"y\": [0.1342, 0.1286, 0.1248, 0.1219, 0.1216, 0.1206, 0.1197, 0.1165, 0.1214, 0.1189], \"x\": [0, 1, 2, 3, 4, 5, 6, 7, 8, 9, 10], \"type\": \"scatter\", \"name\": \"Batch Size 28 3 hidden layer\"}], {}, {\"linkText\": \"Export to plot.ly\", \"showLink\": true})});</script>"
      ],
      "text/vnd.plotly.v1+html": [
       "<div id=\"a282846e-6eb1-4144-bfa1-05f372ffa5c3\" style=\"height: 525px; width: 100%;\" class=\"plotly-graph-div\"></div><script type=\"text/javascript\">require([\"plotly\"], function(Plotly) { window.PLOTLYENV=window.PLOTLYENV || {};window.PLOTLYENV.BASE_URL=\"https://plot.ly\";Plotly.newPlot(\"a282846e-6eb1-4144-bfa1-05f372ffa5c3\", [{\"y\": [0.1341, 0.1289, 0.128, 0.125, 0.124, 0.1218, 0.1217, 0.1215, 0.1195, 0.1184], \"x\": [0, 1, 2, 3, 4, 5, 6, 7, 8, 9, 10], \"type\": \"scatter\", \"name\": \"Batch Size 64 3 hidden layer\"}, {\"y\": [0.1342, 0.1286, 0.1248, 0.1219, 0.1216, 0.1206, 0.1197, 0.1165, 0.1214, 0.1189], \"x\": [0, 1, 2, 3, 4, 5, 6, 7, 8, 9, 10], \"type\": \"scatter\", \"name\": \"Batch Size 28 3 hidden layer\"}], {}, {\"linkText\": \"Export to plot.ly\", \"showLink\": true})});</script>"
      ]
     },
     "metadata": {},
     "output_type": "display_data"
    }
   ],
   "source": [
    "import plotly.offline as py\n",
    "py.init_notebook_mode(connected=True)\n",
    "import plotly.graph_objs as go\n",
    "\n",
    "\n",
    "trace13 = go.Scatter(\n",
    "    y=[0.1341,0.1289,0.1280,0.1250,0.1240,0.1218,0.1217,0.1215,0.1195,0.1184],\n",
    "    x=[0, 1, 2, 3, 4, 5, 6, 7, 8, 9, 10],\n",
    "    name='Batch Size 64 3 hidden layer'\n",
    ")\n",
    "trace14 = go.Scatter(\n",
    "    x=[0, 1, 2, 3, 4, 5, 6, 7, 8, 9, 10],\n",
    "    y=[0.1342,0.1286,0.1248,0.1219,0.1216,0.1206,0.1197,0.1165,0.1214,0.1189],\n",
    "    name='Batch Size 28 3 hidden layer'\n",
    ")\n",
    "\n",
    "data = [trace13, trace14]\n",
    "layout = go.Layout(\n",
    "    title='Plot Title',\n",
    "    xaxis=dict(\n",
    "        title='x Axis',\n",
    "        titlefont=dict(\n",
    "            family='Courier New, monospace',\n",
    "            size=18,\n",
    "            color='#7f7f7f'\n",
    "        )\n",
    "    ),\n",
    "    yaxis=dict(\n",
    "        title='y Axis',\n",
    "        titlefont=dict(\n",
    "            family='Courier New, monospace',\n",
    "            size=18,\n",
    "            color='#7f7f7f'\n",
    "        )\n",
    "    )\n",
    ")\n",
    "fig = go.Figure(data=data, layout=layout)\n",
    "py.iplot(data, filename='Evaluation Dataset Validation Loss')\n"
   ]
  },
  {
   "cell_type": "code",
   "execution_count": 5,
   "metadata": {},
   "outputs": [
    {
     "data": {
      "application/vnd.plotly.v1+json": {
       "data": [
        {
         "name": "Batch Size 64 2 hidden layer",
         "type": "scatter",
         "x": [
          0,
          1,
          2,
          3,
          4,
          5,
          6,
          7,
          8,
          9,
          10
         ],
         "y": [
          0.1442,
          0.1399,
          0.1369,
          0.1336,
          0.1315,
          0.1305,
          0.1299,
          0.1299,
          0.1288,
          0.1291
         ]
        },
        {
         "name": "Batch Size 28 2 hidden layer",
         "type": "scatter",
         "x": [
          0,
          1,
          2,
          3,
          4,
          5,
          6,
          7,
          8,
          9,
          10
         ],
         "y": [
          0.1328,
          0.1274,
          0.1277,
          0.122,
          0.1203,
          0.1192,
          0.1178,
          0.1172,
          0.1167,
          0.1171
         ]
        },
        {
         "name": "Batch Size 64 3 hidden layer",
         "type": "scatter",
         "x": [
          0,
          1,
          2,
          3,
          4,
          5,
          6,
          7,
          8,
          9,
          10
         ],
         "y": [
          0.1341,
          0.1289,
          0.128,
          0.125,
          0.124,
          0.1218,
          0.1217,
          0.1215,
          0.1195,
          0.1184
         ]
        },
        {
         "name": "Batch Size 28 3 hidden layer",
         "type": "scatter",
         "x": [
          0,
          1,
          2,
          3,
          4,
          5,
          6,
          7,
          8,
          9,
          10
         ],
         "y": [
          0.1342,
          0.1286,
          0.1248,
          0.1219,
          0.1216,
          0.1206,
          0.1197,
          0.1165,
          0.1214,
          0.1189
         ]
        }
       ],
       "layout": {}
      },
      "text/html": [
       "<div id=\"2f4b93a3-ee49-44a5-af65-d79bae45c8af\" style=\"height: 525px; width: 100%;\" class=\"plotly-graph-div\"></div><script type=\"text/javascript\">require([\"plotly\"], function(Plotly) { window.PLOTLYENV=window.PLOTLYENV || {};window.PLOTLYENV.BASE_URL=\"https://plot.ly\";Plotly.newPlot(\"2f4b93a3-ee49-44a5-af65-d79bae45c8af\", [{\"y\": [0.1442, 0.1399, 0.1369, 0.1336, 0.1315, 0.1305, 0.1299, 0.1299, 0.1288, 0.1291], \"x\": [0, 1, 2, 3, 4, 5, 6, 7, 8, 9, 10], \"type\": \"scatter\", \"name\": \"Batch Size 64 2 hidden layer\"}, {\"y\": [0.1328, 0.1274, 0.1277, 0.122, 0.1203, 0.1192, 0.1178, 0.1172, 0.1167, 0.1171], \"x\": [0, 1, 2, 3, 4, 5, 6, 7, 8, 9, 10], \"type\": \"scatter\", \"name\": \"Batch Size 28 2 hidden layer\"}, {\"y\": [0.1341, 0.1289, 0.128, 0.125, 0.124, 0.1218, 0.1217, 0.1215, 0.1195, 0.1184], \"x\": [0, 1, 2, 3, 4, 5, 6, 7, 8, 9, 10], \"type\": \"scatter\", \"name\": \"Batch Size 64 3 hidden layer\"}, {\"y\": [0.1342, 0.1286, 0.1248, 0.1219, 0.1216, 0.1206, 0.1197, 0.1165, 0.1214, 0.1189], \"x\": [0, 1, 2, 3, 4, 5, 6, 7, 8, 9, 10], \"type\": \"scatter\", \"name\": \"Batch Size 28 3 hidden layer\"}], {}, {\"linkText\": \"Export to plot.ly\", \"showLink\": true})});</script>"
      ],
      "text/vnd.plotly.v1+html": [
       "<div id=\"2f4b93a3-ee49-44a5-af65-d79bae45c8af\" style=\"height: 525px; width: 100%;\" class=\"plotly-graph-div\"></div><script type=\"text/javascript\">require([\"plotly\"], function(Plotly) { window.PLOTLYENV=window.PLOTLYENV || {};window.PLOTLYENV.BASE_URL=\"https://plot.ly\";Plotly.newPlot(\"2f4b93a3-ee49-44a5-af65-d79bae45c8af\", [{\"y\": [0.1442, 0.1399, 0.1369, 0.1336, 0.1315, 0.1305, 0.1299, 0.1299, 0.1288, 0.1291], \"x\": [0, 1, 2, 3, 4, 5, 6, 7, 8, 9, 10], \"type\": \"scatter\", \"name\": \"Batch Size 64 2 hidden layer\"}, {\"y\": [0.1328, 0.1274, 0.1277, 0.122, 0.1203, 0.1192, 0.1178, 0.1172, 0.1167, 0.1171], \"x\": [0, 1, 2, 3, 4, 5, 6, 7, 8, 9, 10], \"type\": \"scatter\", \"name\": \"Batch Size 28 2 hidden layer\"}, {\"y\": [0.1341, 0.1289, 0.128, 0.125, 0.124, 0.1218, 0.1217, 0.1215, 0.1195, 0.1184], \"x\": [0, 1, 2, 3, 4, 5, 6, 7, 8, 9, 10], \"type\": \"scatter\", \"name\": \"Batch Size 64 3 hidden layer\"}, {\"y\": [0.1342, 0.1286, 0.1248, 0.1219, 0.1216, 0.1206, 0.1197, 0.1165, 0.1214, 0.1189], \"x\": [0, 1, 2, 3, 4, 5, 6, 7, 8, 9, 10], \"type\": \"scatter\", \"name\": \"Batch Size 28 3 hidden layer\"}], {}, {\"linkText\": \"Export to plot.ly\", \"showLink\": true})});</script>"
      ]
     },
     "metadata": {},
     "output_type": "display_data"
    }
   ],
   "source": [
    "data = [trace11, trace12,trace13, trace14]\n",
    "layout = go.Layout(\n",
    "    title='Plot Title',\n",
    "    xaxis=dict(\n",
    "        title='x Axis',\n",
    "        titlefont=dict(\n",
    "            family='Courier New, monospace',\n",
    "            size=18,\n",
    "            color='#7f7f7f'\n",
    "        )\n",
    "    ),\n",
    "    yaxis=dict(\n",
    "        title='y Axis',\n",
    "        titlefont=dict(\n",
    "            family='Courier New, monospace',\n",
    "            size=18,\n",
    "            color='#7f7f7f'\n",
    "        )\n",
    "    )\n",
    ")\n",
    "fig = go.Figure(data=data, layout=layout)\n",
    "py.iplot(data, filename='Evaluation Dataset Validation Loss')"
   ]
  },
  {
   "cell_type": "code",
   "execution_count": null,
   "metadata": {},
   "outputs": [],
   "source": []
  }
 ],
 "metadata": {
  "kernelspec": {
   "display_name": "Python 2",
   "language": "python",
   "name": "python2"
  },
  "language_info": {
   "codemirror_mode": {
    "name": "ipython",
    "version": 2
   },
   "file_extension": ".py",
   "mimetype": "text/x-python",
   "name": "python",
   "nbconvert_exporter": "python",
   "pygments_lexer": "ipython2",
   "version": "2.7.12"
  }
 },
 "nbformat": 4,
 "nbformat_minor": 2
}
