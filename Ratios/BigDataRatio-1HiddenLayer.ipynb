{
 "cells": [
  {
   "cell_type": "markdown",
   "metadata": {},
   "source": [
    "# 1 couche cachée, 9 neurones"
   ]
  },
  {
   "cell_type": "code",
   "execution_count": 1,
   "metadata": {},
   "outputs": [
    {
     "name": "stderr",
     "output_type": "stream",
     "text": [
      "/usr/local/lib/python3.6/site-packages/h5py/__init__.py:36: FutureWarning: Conversion of the second argument of issubdtype from `float` to `np.floating` is deprecated. In future, it will be treated as `np.float64 == np.dtype(float).type`.\n",
      "  from ._conv import register_converters as _register_converters\n",
      "Using TensorFlow backend.\n"
     ]
    }
   ],
   "source": [
    "import json\n",
    "import os\n",
    "import numpy as np\n",
    "from sklearn.model_selection import train_test_split\n",
    "from keras.models import Sequential\n",
    "from keras.layers import Dense\n",
    "from keras.utils import to_categorical\n",
    "import h5py\n"
   ]
  },
  {
   "cell_type": "code",
   "execution_count": 2,
   "metadata": {},
   "outputs": [],
   "source": [
    "features = []\n",
    "features_label = []\n",
    "\n",
    "path_save = \"../json/features_labelise/\"\n",
    "dirs = os.listdir(path_save)\n",
    "\n",
    "for f in dirs:\n",
    "    #print (\"computing data in : \" + path_save + f)\n",
    "    with open(path_save + f, 'r') as file:\n",
    "        feature = json.load(file)\n",
    "    temp = []\n",
    "    temp.append(feature[\"Ratio_band1_0_band2_1_scale_1\"])\n",
    "    temp.append(feature[\"Ratio_band1_0_band2_1_scale_2\"])\n",
    "    temp.append(feature[\"Ratio_band1_0_band2_2_scale_4\"])\n",
    "    temp.append(feature[\"Ratio_band1_0_band2_1_scale_4\"])\n",
    "    temp.append(feature[\"Ratio_band1_0_band2_2_scale_2\"])\n",
    "    temp.append(feature[\"Ratio_band1_0_band2_2_scale_1\"])\n",
    "    temp.append(feature[\"Ratio_band1_1_band2_3_scale_2\"])\n",
    "    temp.append(feature[\"Ratio_band1_1_band2_3_scale_1\"])\n",
    "    temp.append(feature[\"Ratio_band1_1_band2_3_scale_4\"])\n",
    "    temp.append(feature[\"Ratio_band1_0_band2_3_scale_4\"])\n",
    "    temp.append(feature[\"Ratio_band1_0_band2_3_scale_2\"])\n",
    "    temp.append(feature[\"Ratio_band1_2_band2_3_scale_4\"])\n",
    "    temp.append(feature[\"Ratio_band1_0_band2_3_scale_1\"])\n",
    "    temp.append(feature[\"Ratio_band1_1_band2_2_scale_4\"])\n",
    "    temp.append(feature[\"Ratio_band1_1_band2_2_scale_2\"])\n",
    "    temp.append(feature[\"Ratio_band1_1_band2_2_scale_1\"])\n",
    "    temp.append(feature[\"Ratio_band1_2_band2_3_scale_1\"])\n",
    "    temp.append(feature[\"Ratio_band1_2_band2_3_scale_2\"])\n",
    "    features.append(temp)\n",
    "    features_label.append(feature[\"Label\"])\n",
    "    file.close()"
   ]
  },
  {
   "cell_type": "markdown",
   "metadata": {},
   "source": [
    "# On fait sur le dataset 80% de train et 20% de test \n",
    "# Sur le dataset train on refait 80% de train et 20% de validation\n"
   ]
  },
  {
   "cell_type": "code",
   "execution_count": 3,
   "metadata": {},
   "outputs": [
    {
     "name": "stdout",
     "output_type": "stream",
     "text": [
      "Taille dataset test  (30102, 18)\n",
      "Taille dataset train , (96326, 18)\n",
      "Taille dataset validation , (24082, 18)\n"
     ]
    }
   ],
   "source": [
    "features = np.array(features)\n",
    "features_label = np.array(features_label)\n",
    "\n",
    "x_train, x_test, y_train, y_test = train_test_split(features, features_label, test_size=0.20)\n",
    "\n",
    "print(\"Taille dataset test \", x_test.shape)\n",
    "\n",
    "x_train, x_valid, y_train, y_valid = train_test_split(x_train, y_train, test_size=0.20)\n",
    "\n",
    "print(\"Taille dataset train ,\", x_train.shape)\n",
    "print(\"Taille dataset validation ,\", x_valid.shape)\n",
    "\n",
    "y_train = to_categorical(y_train, 17)\n",
    "y_valid = to_categorical(y_valid, 17)\n",
    "y_test = to_categorical(y_test, 17)"
   ]
  },
  {
   "cell_type": "code",
   "execution_count": 4,
   "metadata": {},
   "outputs": [
    {
     "name": "stdout",
     "output_type": "stream",
     "text": [
      "_________________________________________________________________\n",
      "Layer (type)                 Output Shape              Param #   \n",
      "=================================================================\n",
      "dense_1 (Dense)              (None, 18)                342       \n",
      "_________________________________________________________________\n",
      "dense_2 (Dense)              (None, 9)                 171       \n",
      "_________________________________________________________________\n",
      "dense_3 (Dense)              (None, 17)                170       \n",
      "=================================================================\n",
      "Total params: 683\n",
      "Trainable params: 683\n",
      "Non-trainable params: 0\n",
      "_________________________________________________________________\n"
     ]
    }
   ],
   "source": [
    "model = Sequential()\n",
    "model.add(Dense(18, input_shape=(18,), activation='relu'))\n",
    "model.add(Dense(9, activation='relu'))\n",
    "model.add(Dense(17, activation='softmax'))\n",
    "\n",
    "model.compile(loss='binary_crossentropy', optimizer='adam', metrics=['accuracy'])\n",
    "\n",
    "model.save_weights('model.h5')\n",
    "\n",
    "model.summary()"
   ]
  },
  {
   "cell_type": "markdown",
   "metadata": {},
   "source": [
    "# Batch size = 64"
   ]
  },
  {
   "cell_type": "code",
   "execution_count": 5,
   "metadata": {},
   "outputs": [
    {
     "name": "stdout",
     "output_type": "stream",
     "text": [
      "Train on 96326 samples, validate on 24082 samples\n",
      "Epoch 1/10\n",
      "96326/96326 [==============================] - 6s 58us/step - loss: 0.1601 - acc: 0.9457 - val_loss: 0.1421 - val_acc: 0.9482\n",
      "Epoch 2/10\n",
      "96326/96326 [==============================] - 5s 57us/step - loss: 0.1402 - acc: 0.9485 - val_loss: 0.1376 - val_acc: 0.9485\n",
      "Epoch 3/10\n",
      "96326/96326 [==============================] - 5s 51us/step - loss: 0.1373 - acc: 0.9488 - val_loss: 0.1352 - val_acc: 0.9489\n",
      "Epoch 4/10\n",
      "96326/96326 [==============================] - 5s 52us/step - loss: 0.1354 - acc: 0.9491 - val_loss: 0.1342 - val_acc: 0.9497\n",
      "Epoch 5/10\n",
      "96326/96326 [==============================] - 5s 53us/step - loss: 0.1337 - acc: 0.9494 - val_loss: 0.1328 - val_acc: 0.9490\n",
      "Epoch 6/10\n",
      "96326/96326 [==============================] - 5s 53us/step - loss: 0.1320 - acc: 0.9496 - val_loss: 0.1306 - val_acc: 0.9497\n",
      "Epoch 7/10\n",
      "96326/96326 [==============================] - 5s 50us/step - loss: 0.1309 - acc: 0.9498 - val_loss: 0.1299 - val_acc: 0.9499\n",
      "Epoch 8/10\n",
      "96326/96326 [==============================] - 5s 50us/step - loss: 0.1301 - acc: 0.9500 - val_loss: 0.1290 - val_acc: 0.9501\n",
      "Epoch 9/10\n",
      "96326/96326 [==============================] - 5s 50us/step - loss: 0.1295 - acc: 0.9502 - val_loss: 0.1293 - val_acc: 0.9500\n",
      "Epoch 10/10\n",
      "96326/96326 [==============================] - 5s 51us/step - loss: 0.1290 - acc: 0.9504 - val_loss: 0.1294 - val_acc: 0.9502\n"
     ]
    },
    {
     "data": {
      "text/plain": [
       "<keras.callbacks.History at 0x111c7ada0>"
      ]
     },
     "execution_count": 5,
     "metadata": {},
     "output_type": "execute_result"
    }
   ],
   "source": [
    "model.fit(x_train,y_train, epochs=10, batch_size=64,  validation_data=(x_valid, y_valid))"
   ]
  },
  {
   "cell_type": "code",
   "execution_count": 6,
   "metadata": {},
   "outputs": [
    {
     "name": "stdout",
     "output_type": "stream",
     "text": [
      "30102/30102 [==============================] - 1s 44us/step\n",
      "Test loss: 0.13018994423067695\n",
      "Test accuracy: 0.9504136696589539\n"
     ]
    }
   ],
   "source": [
    "score = model.evaluate(x=x_test, y=y_test)\n",
    "print('Test loss:', score[0])\n",
    "print('Test accuracy:', score[1])"
   ]
  },
  {
   "cell_type": "markdown",
   "metadata": {},
   "source": [
    "# Batch size = 28"
   ]
  },
  {
   "cell_type": "code",
   "execution_count": 7,
   "metadata": {},
   "outputs": [
    {
     "name": "stdout",
     "output_type": "stream",
     "text": [
      "Train on 96326 samples, validate on 24082 samples\n",
      "Epoch 1/10\n",
      "96326/96326 [==============================] - 9s 89us/step - loss: 0.1547 - acc: 0.9468 - val_loss: 0.1419 - val_acc: 0.9486\n",
      "Epoch 2/10\n",
      "96326/96326 [==============================] - 9s 91us/step - loss: 0.1399 - acc: 0.9488 - val_loss: 0.1371 - val_acc: 0.9491\n",
      "Epoch 3/10\n",
      "96326/96326 [==============================] - 9s 91us/step - loss: 0.1370 - acc: 0.9492 - val_loss: 0.1345 - val_acc: 0.9495\n",
      "Epoch 4/10\n",
      "96326/96326 [==============================] - 9s 92us/step - loss: 0.1348 - acc: 0.9496 - val_loss: 0.1334 - val_acc: 0.9496\n",
      "Epoch 5/10\n",
      "96326/96326 [==============================] - 9s 94us/step - loss: 0.1332 - acc: 0.9498 - val_loss: 0.1323 - val_acc: 0.9502\n",
      "Epoch 6/10\n",
      "96326/96326 [==============================] - 9s 90us/step - loss: 0.1321 - acc: 0.9499 - val_loss: 0.1310 - val_acc: 0.9498\n",
      "Epoch 7/10\n",
      "96326/96326 [==============================] - 9s 93us/step - loss: 0.1314 - acc: 0.9500 - val_loss: 0.1308 - val_acc: 0.9499\n",
      "Epoch 8/10\n",
      "96326/96326 [==============================] - 9s 95us/step - loss: 0.1308 - acc: 0.9502 - val_loss: 0.1302 - val_acc: 0.9505\n",
      "Epoch 9/10\n",
      "96326/96326 [==============================] - 9s 94us/step - loss: 0.1304 - acc: 0.9504 - val_loss: 0.1300 - val_acc: 0.9502\n",
      "Epoch 10/10\n",
      "96326/96326 [==============================] - 9s 94us/step - loss: 0.1300 - acc: 0.9504 - val_loss: 0.1283 - val_acc: 0.9504\n"
     ]
    },
    {
     "data": {
      "text/plain": [
       "<keras.callbacks.History at 0x1122abe48>"
      ]
     },
     "execution_count": 7,
     "metadata": {},
     "output_type": "execute_result"
    }
   ],
   "source": [
    "model.load_weights('model.h5')\n",
    "model.fit(x_train,y_train, epochs=10, batch_size=28,  validation_data=(x_valid, y_valid))"
   ]
  },
  {
   "cell_type": "code",
   "execution_count": 8,
   "metadata": {},
   "outputs": [
    {
     "name": "stdout",
     "output_type": "stream",
     "text": [
      "30102/30102 [==============================] - 1s 46us/step\n",
      "Test loss: 0.12942018555532334\n",
      "Test accuracy: 0.9504038998434515\n"
     ]
    }
   ],
   "source": [
    "score = model.evaluate(x=x_test, y=y_test)\n",
    "print('Test loss:', score[0])\n",
    "print('Test accuracy:', score[1])"
   ]
  },
  {
   "cell_type": "markdown",
   "metadata": {},
   "source": [
    "# Batch size = 6"
   ]
  },
  {
   "cell_type": "code",
   "execution_count": 9,
   "metadata": {},
   "outputs": [
    {
     "name": "stdout",
     "output_type": "stream",
     "text": [
      "Train on 96326 samples, validate on 24082 samples\n",
      "Epoch 1/10\n",
      "96326/96326 [==============================] - 30s 307us/step - loss: 0.1473 - acc: 0.9479 - val_loss: 0.1374 - val_acc: 0.9490\n",
      "Epoch 2/10\n",
      "96326/96326 [==============================] - 31s 325us/step - loss: 0.1362 - acc: 0.9495 - val_loss: 0.1320 - val_acc: 0.9505\n",
      "Epoch 3/10\n",
      "96326/96326 [==============================] - 33s 339us/step - loss: 0.1320 - acc: 0.9504 - val_loss: 0.1300 - val_acc: 0.9501\n",
      "Epoch 4/10\n",
      "96326/96326 [==============================] - 33s 339us/step - loss: 0.1301 - acc: 0.9507 - val_loss: 0.1294 - val_acc: 0.9503\n",
      "Epoch 5/10\n",
      "96326/96326 [==============================] - 31s 317us/step - loss: 0.1293 - acc: 0.9510 - val_loss: 0.1283 - val_acc: 0.9513\n",
      "Epoch 6/10\n",
      "96326/96326 [==============================] - 29s 306us/step - loss: 0.1286 - acc: 0.9511 - val_loss: 0.1270 - val_acc: 0.9513\n",
      "Epoch 7/10\n",
      "96326/96326 [==============================] - 30s 313us/step - loss: 0.1281 - acc: 0.9511 - val_loss: 0.1258 - val_acc: 0.9517\n",
      "Epoch 8/10\n",
      "96326/96326 [==============================] - 30s 309us/step - loss: 0.1275 - acc: 0.9513 - val_loss: 0.1265 - val_acc: 0.9518\n",
      "Epoch 9/10\n",
      "96326/96326 [==============================] - 31s 325us/step - loss: 0.1271 - acc: 0.9513 - val_loss: 0.1316 - val_acc: 0.9495\n",
      "Epoch 10/10\n",
      "96326/96326 [==============================] - 31s 319us/step - loss: 0.1267 - acc: 0.9515 - val_loss: 0.1279 - val_acc: 0.9514\n"
     ]
    },
    {
     "data": {
      "text/plain": [
       "<keras.callbacks.History at 0x1122bbac8>"
      ]
     },
     "execution_count": 9,
     "metadata": {},
     "output_type": "execute_result"
    }
   ],
   "source": [
    "model.load_weights('model.h5')\n",
    "model.fit(x_train,y_train, epochs=10, batch_size=6,  validation_data=(x_valid, y_valid))"
   ]
  },
  {
   "cell_type": "code",
   "execution_count": 10,
   "metadata": {},
   "outputs": [
    {
     "name": "stdout",
     "output_type": "stream",
     "text": [
      "30102/30102 [==============================] - 1s 43us/step\n",
      "Test loss: 0.12910938562229934\n",
      "Test accuracy: 0.9512480858884914\n"
     ]
    }
   ],
   "source": [
    "score = model.evaluate(x=x_test, y=y_test)\n",
    "print('Test loss:', score[0])\n",
    "print('Test accuracy:', score[1])"
   ]
  },
  {
   "cell_type": "markdown",
   "metadata": {},
   "source": [
    "# Le model est meilleur avec un batch size de 6, les résultats avec un btach size de 28 sont très proches et le temps d'execution est largement diminué."
   ]
  }
 ],
 "metadata": {
  "kernelspec": {
   "display_name": "Python 3",
   "language": "python",
   "name": "python3"
  },
  "language_info": {
   "codemirror_mode": {
    "name": "ipython",
    "version": 3
   },
   "file_extension": ".py",
   "mimetype": "text/x-python",
   "name": "python",
   "nbconvert_exporter": "python",
   "pygments_lexer": "ipython3",
   "version": "3.6.4"
  }
 },
 "nbformat": 4,
 "nbformat_minor": 2
}
