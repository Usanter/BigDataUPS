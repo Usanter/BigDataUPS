{
 "cells": [
  {
   "cell_type": "code",
   "execution_count": 2,
   "metadata": {
    "collapsed": true
   },
   "outputs": [],
   "source": [
    "import json\n",
    "import os\n",
    "import numpy as np"
   ]
  },
  {
   "cell_type": "markdown",
   "metadata": {},
   "source": [
    "# Nous avons 18 ratios et 17 classes"
   ]
  },
  {
   "cell_type": "code",
   "execution_count": 3,
   "metadata": {
    "collapsed": true
   },
   "outputs": [],
   "source": [
    "features = []\n",
    "features_label = []\n",
    "\n",
    "path_save = \"../json/features_labelise/\"\n",
    "dirs = os.listdir(path_save)\n",
    "\n",
    "for f in dirs:\n",
    "    #print (\"computing data in : \" + path_save + f)\n",
    "    with open(path_save + f, 'r') as file:\n",
    "        feature = json.load(file)\n",
    "    temp = []\n",
    "    temp.append(feature[\"Ratio_band1_0_band2_1_scale_1\"])\n",
    "    temp.append(feature[\"Ratio_band1_0_band2_1_scale_2\"])\n",
    "    temp.append(feature[\"Ratio_band1_0_band2_2_scale_4\"])\n",
    "    temp.append(feature[\"Ratio_band1_0_band2_1_scale_4\"])\n",
    "    temp.append(feature[\"Ratio_band1_0_band2_2_scale_2\"])\n",
    "    temp.append(feature[\"Ratio_band1_0_band2_2_scale_1\"])\n",
    "    temp.append(feature[\"Ratio_band1_1_band2_3_scale_2\"])\n",
    "    temp.append(feature[\"Ratio_band1_1_band2_3_scale_1\"])\n",
    "    temp.append(feature[\"Ratio_band1_1_band2_3_scale_4\"])\n",
    "    temp.append(feature[\"Ratio_band1_0_band2_3_scale_4\"])\n",
    "    temp.append(feature[\"Ratio_band1_0_band2_3_scale_2\"])\n",
    "    temp.append(feature[\"Ratio_band1_2_band2_3_scale_4\"])\n",
    "    temp.append(feature[\"Ratio_band1_0_band2_3_scale_1\"])\n",
    "    temp.append(feature[\"Ratio_band1_1_band2_2_scale_4\"])\n",
    "    temp.append(feature[\"Ratio_band1_1_band2_2_scale_2\"])\n",
    "    temp.append(feature[\"Ratio_band1_1_band2_2_scale_1\"])\n",
    "    temp.append(feature[\"Ratio_band1_2_band2_3_scale_1\"])\n",
    "    temp.append(feature[\"Ratio_band1_2_band2_3_scale_2\"])\n",
    "    features.append(temp)\n",
    "    features_label.append(feature[\"Label\"])\n",
    "    file.close()\n",
    "    \n",
    "\n"
   ]
  },
  {
   "cell_type": "code",
   "execution_count": 4,
   "metadata": {},
   "outputs": [
    {
     "name": "stdout",
     "output_type": "stream",
     "text": [
      "(150510, 18)\n",
      "(150510,)\n"
     ]
    }
   ],
   "source": [
    "features = np.array(features)\n",
    "features_label = np.array(features_label)\n",
    "print(features.shape)\n",
    "print(features_label.shape)"
   ]
  },
  {
   "cell_type": "markdown",
   "metadata": {},
   "source": [
    "# On fait sur le dataset 80% de train et 20% de test "
   ]
  },
  {
   "cell_type": "code",
   "execution_count": 5,
   "metadata": {},
   "outputs": [
    {
     "name": "stdout",
     "output_type": "stream",
     "text": [
      "Taille dataset test  (30102, 18)\n"
     ]
    }
   ],
   "source": [
    "from sklearn.model_selection import train_test_split\n",
    "x_train, x_test, y_train, y_test = train_test_split(features, features_label, test_size=0.20, random_state=42)\n",
    "\n",
    "print(\"Taille dataset test \", x_test.shape)"
   ]
  },
  {
   "cell_type": "markdown",
   "metadata": {},
   "source": [
    "# Sur le dataset train on refait 80% de train et 20% de validation"
   ]
  },
  {
   "cell_type": "code",
   "execution_count": 6,
   "metadata": {},
   "outputs": [
    {
     "name": "stdout",
     "output_type": "stream",
     "text": [
      "Taille dataset train , (96326, 18)\n",
      "Taille dataset validation , (24082, 18)\n"
     ]
    }
   ],
   "source": [
    "x_train, x_valid, y_train, y_valid = train_test_split(x_train, y_train, test_size=0.20, random_state=42)\n",
    "\n",
    "print(\"Taille dataset train ,\", x_train.shape)\n",
    "print(\"Taille dataset validation ,\", x_valid.shape)"
   ]
  },
  {
   "cell_type": "markdown",
   "metadata": {},
   "source": [
    "# Vecteur de classe"
   ]
  },
  {
   "cell_type": "code",
   "execution_count": 7,
   "metadata": {},
   "outputs": [
    {
     "name": "stderr",
     "output_type": "stream",
     "text": [
      "Using Theano backend.\n"
     ]
    },
    {
     "name": "stdout",
     "output_type": "stream",
     "text": [
      "(96326, 17)\n"
     ]
    }
   ],
   "source": [
    "from keras.utils.np_utils import to_categorical\n",
    "\n",
    "y_train = to_categorical(y_train, 17)\n",
    "y_valid = to_categorical(y_valid, 17)\n",
    "y_test = to_categorical(y_test, 17)\n",
    "print(y_train.shape)"
   ]
  },
  {
   "cell_type": "markdown",
   "metadata": {},
   "source": [
    "# Deux couches cachées"
   ]
  },
  {
   "cell_type": "code",
   "execution_count": 8,
   "metadata": {},
   "outputs": [
    {
     "name": "stdout",
     "output_type": "stream",
     "text": [
      "_________________________________________________________________\n",
      "Layer (type)                 Output Shape              Param #   \n",
      "=================================================================\n",
      "dense_1 (Dense)              (None, 12)                228       \n",
      "_________________________________________________________________\n",
      "dense_2 (Dense)              (None, 9)                 117       \n",
      "_________________________________________________________________\n",
      "dense_3 (Dense)              (None, 17)                170       \n",
      "=================================================================\n",
      "Total params: 515\n",
      "Trainable params: 515\n",
      "Non-trainable params: 0\n",
      "_________________________________________________________________\n"
     ]
    }
   ],
   "source": [
    "from keras.models import Sequential\n",
    "from keras.layers import Dense\n",
    "\n",
    "\n",
    "model = Sequential()\n",
    "model.add(Dense(12, input_shape=(18,), activation='relu'))\n",
    "model.add(Dense(9, activation='relu'))\n",
    "model.add(Dense(17, activation='softmax'))\n",
    "\n",
    "model.compile(loss='binary_crossentropy', optimizer='adam', metrics=['accuracy'])\n",
    "\n",
    "model.summary()\n"
   ]
  },
  {
   "cell_type": "markdown",
   "metadata": {},
   "source": [
    "### Fit sur batch_size=64"
   ]
  },
  {
   "cell_type": "code",
   "execution_count": 9,
   "metadata": {},
   "outputs": [
    {
     "name": "stdout",
     "output_type": "stream",
     "text": [
      "Train on 96326 samples, validate on 24082 samples\n",
      "Epoch 1/10\n",
      "96326/96326 [==============================] - 2s 16us/step - loss: 0.1608 - acc: 0.9465 - val_loss: 0.1450 - val_acc: 0.9481\n",
      "Epoch 2/10\n",
      "96326/96326 [==============================] - 2s 16us/step - loss: 0.1423 - acc: 0.9484 - val_loss: 0.1409 - val_acc: 0.9484\n",
      "Epoch 3/10\n",
      "96326/96326 [==============================] - 2s 16us/step - loss: 0.1392 - acc: 0.9486 - val_loss: 0.1385 - val_acc: 0.9487\n",
      "Epoch 4/10\n",
      "96326/96326 [==============================] - 2s 17us/step - loss: 0.1373 - acc: 0.9488 - val_loss: 0.1372 - val_acc: 0.9489\n",
      "Epoch 5/10\n",
      "96326/96326 [==============================] - 2s 16us/step - loss: 0.1359 - acc: 0.9490 - val_loss: 0.1356 - val_acc: 0.9489\n",
      "Epoch 6/10\n",
      "96326/96326 [==============================] - 2s 16us/step - loss: 0.1347 - acc: 0.9492 - val_loss: 0.1345 - val_acc: 0.9492\n",
      "Epoch 7/10\n",
      "96326/96326 [==============================] - 2s 17us/step - loss: 0.1337 - acc: 0.9493 - val_loss: 0.1346 - val_acc: 0.9495\n",
      "Epoch 8/10\n",
      "96326/96326 [==============================] - 2s 17us/step - loss: 0.1329 - acc: 0.9494 - val_loss: 0.1332 - val_acc: 0.9497\n",
      "Epoch 9/10\n",
      "96326/96326 [==============================] - 2s 18us/step - loss: 0.1322 - acc: 0.9496 - val_loss: 0.1326 - val_acc: 0.9495\n",
      "Epoch 10/10\n",
      "96326/96326 [==============================] - 2s 19us/step - loss: 0.1316 - acc: 0.9496 - val_loss: 0.1320 - val_acc: 0.9498\n"
     ]
    },
    {
     "data": {
      "text/plain": [
       "<keras.callbacks.History at 0x7f924406f710>"
      ]
     },
     "execution_count": 9,
     "metadata": {},
     "output_type": "execute_result"
    }
   ],
   "source": [
    "\n",
    "model.fit(x_train,y_train, epochs=10, batch_size=64,  validation_data=(x_valid, y_valid))\n"
   ]
  },
  {
   "cell_type": "markdown",
   "metadata": {},
   "source": [
    "# Pas de couche cachée (Perceptron)"
   ]
  },
  {
   "cell_type": "code",
   "execution_count": 10,
   "metadata": {},
   "outputs": [
    {
     "name": "stdout",
     "output_type": "stream",
     "text": [
      "_________________________________________________________________\n",
      "Layer (type)                 Output Shape              Param #   \n",
      "=================================================================\n",
      "dense_4 (Dense)              (None, 17)                323       \n",
      "=================================================================\n",
      "Total params: 323\n",
      "Trainable params: 323\n",
      "Non-trainable params: 0\n",
      "_________________________________________________________________\n"
     ]
    }
   ],
   "source": [
    "from keras.models import Sequential\n",
    "from keras.layers import Dense\n",
    "\n",
    "\n",
    "model2 = Sequential()\n",
    "model2.add(Dense(17, input_shape=(18,), activation='softmax'))\n",
    "\n",
    "model2.compile(loss='binary_crossentropy', optimizer='adam', metrics=['accuracy'])\n",
    "\n",
    "model2.summary()"
   ]
  },
  {
   "cell_type": "markdown",
   "metadata": {},
   "source": [
    "### Fit sur batch_size=64"
   ]
  },
  {
   "cell_type": "code",
   "execution_count": 11,
   "metadata": {},
   "outputs": [
    {
     "name": "stdout",
     "output_type": "stream",
     "text": [
      "Train on 96326 samples, validate on 24082 samples\n",
      "Epoch 1/10\n",
      "96326/96326 [==============================] - 2s 22us/step - loss: 0.1742 - acc: 0.9432 - val_loss: 0.1588 - val_acc: 0.9439\n",
      "Epoch 2/10\n",
      "96326/96326 [==============================] - 2s 16us/step - loss: 0.1547 - acc: 0.9459 - val_loss: 0.1519 - val_acc: 0.9477\n",
      "Epoch 3/10\n",
      "96326/96326 [==============================] - 2s 16us/step - loss: 0.1501 - acc: 0.9479 - val_loss: 0.1488 - val_acc: 0.9478\n",
      "Epoch 4/10\n",
      "96326/96326 [==============================] - 1s 15us/step - loss: 0.1477 - acc: 0.9480 - val_loss: 0.1471 - val_acc: 0.9480\n",
      "Epoch 5/10\n",
      "96326/96326 [==============================] - 1s 15us/step - loss: 0.1462 - acc: 0.9481 - val_loss: 0.1459 - val_acc: 0.9479\n",
      "Epoch 6/10\n",
      "96326/96326 [==============================] - 1s 15us/step - loss: 0.1452 - acc: 0.9482 - val_loss: 0.1451 - val_acc: 0.9482\n",
      "Epoch 7/10\n",
      "96326/96326 [==============================] - 1s 15us/step - loss: 0.1444 - acc: 0.9482 - val_loss: 0.1442 - val_acc: 0.9482\n",
      "Epoch 8/10\n",
      "96326/96326 [==============================] - 1s 15us/step - loss: 0.1437 - acc: 0.9483 - val_loss: 0.1437 - val_acc: 0.9483\n",
      "Epoch 9/10\n",
      "96326/96326 [==============================] - 1s 15us/step - loss: 0.1432 - acc: 0.9483 - val_loss: 0.1432 - val_acc: 0.9483\n",
      "Epoch 10/10\n",
      "96326/96326 [==============================] - 1s 15us/step - loss: 0.1427 - acc: 0.9483 - val_loss: 0.1428 - val_acc: 0.9483\n"
     ]
    },
    {
     "data": {
      "text/plain": [
       "<keras.callbacks.History at 0x7f92483e3eb8>"
      ]
     },
     "execution_count": 11,
     "metadata": {},
     "output_type": "execute_result"
    }
   ],
   "source": [
    "\n",
    "model2.fit(x_train,y_train, epochs=10, batch_size=64,  validation_data=(x_valid, y_valid))\n"
   ]
  },
  {
   "cell_type": "code",
   "execution_count": 12,
   "metadata": {},
   "outputs": [
    {
     "name": "stdout",
     "output_type": "stream",
     "text": [
      "30102/30102 [==============================] - 0s 11us/step\n",
      "Test loss: 0.142131815693\n",
      "Test accuracy: 0.948228957712\n"
     ]
    }
   ],
   "source": [
    "score = model2.evaluate(x_test, y_test)\n",
    "print('Test loss:', score[0])\n",
    "print('Test accuracy:', score[1])"
   ]
  },
  {
   "cell_type": "code",
   "execution_count": null,
   "metadata": {
    "collapsed": true
   },
   "outputs": [],
   "source": []
  }
 ],
 "metadata": {
  "kernelspec": {
   "display_name": "Python 3",
   "language": "python",
   "name": "python3"
  },
  "language_info": {
   "codemirror_mode": {
    "name": "ipython",
    "version": 3
   },
   "file_extension": ".py",
   "mimetype": "text/x-python",
   "name": "python",
   "nbconvert_exporter": "python",
   "pygments_lexer": "ipython3",
   "version": "3.6.3"
  }
 },
 "nbformat": 4,
 "nbformat_minor": 2
}
