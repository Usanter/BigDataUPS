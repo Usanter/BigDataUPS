{
 "cells": [
  {
   "cell_type": "markdown",
   "metadata": {},
   "source": [
    "## Import Utils"
   ]
  },
  {
   "cell_type": "code",
   "execution_count": 1,
   "metadata": {},
   "outputs": [
    {
     "name": "stdout",
     "output_type": "stream",
     "text": [
      "Requirement already satisfied: keras in /usr/lib64/python2.7/site-packages\r\n",
      "Requirement already satisfied: pyyaml in /usr/lib64/python2.7/site-packages (from keras)\r\n",
      "Requirement already satisfied: six>=1.9.0 in /usr/lib/python2.7/site-packages (from keras)\r\n",
      "Requirement already satisfied: scipy>=0.14 in /usr/lib64/python2.7/site-packages (from keras)\r\n",
      "Requirement already satisfied: numpy>=1.9.1 in /usr/lib64/python2.7/site-packages (from keras)\r\n"
     ]
    }
   ],
   "source": [
    "!pip install keras"
   ]
  },
  {
   "cell_type": "code",
   "execution_count": 2,
   "metadata": {},
   "outputs": [
    {
     "name": "stderr",
     "output_type": "stream",
     "text": [
      "/usr/lib64/python3.6/site-packages/h5py/__init__.py:36: FutureWarning: Conversion of the second argument of issubdtype from `float` to `np.floating` is deprecated. In future, it will be treated as `np.float64 == np.dtype(float).type`.\n",
      "  from ._conv import register_converters as _register_converters\n",
      "Using TensorFlow backend.\n"
     ]
    }
   ],
   "source": [
    "import keras\n",
    "import h5py as h5\n",
    "import numpy as np\n",
    "\n",
    "PATH_DATA = 'data/train/eightieth.h5'\n",
    "PATH_PREDICT_WITHOUT_GT = 'data/pred_students/pred_eighties_from_half_1_without_gt.h5'\n",
    "PATH_SUBMIT = 'test.h5'\n",
    "PATH_PREDICT_WITH_GT = 'data/pred_teachers/pred_eighties_from_half_1.h5'"
   ]
  },
  {
   "cell_type": "code",
   "execution_count": 3,
   "metadata": {},
   "outputs": [
    {
     "name": "stdout",
     "output_type": "stream",
     "text": [
      "[    0 10988 29178 39369 15017 60779     6     0     0     0   814    66\n",
      " 50944     0    40     0     0     2     0     6 26791     0]\n"
     ]
    }
   ],
   "source": [
    "f = h5.File(PATH_DATA, 'r')\n",
    "PATH_DATA_AUG = 'data/train/eightieth_aug_v4.h5'\n",
    "repre, bins = np.histogram(f['TOP_LANDCOVER'], bins=range(23))\n",
    "print(repre)"
   ]
  },
  {
   "cell_type": "code",
   "execution_count": 4,
   "metadata": {},
   "outputs": [
    {
     "name": "stdout",
     "output_type": "stream",
     "text": [
      "[    0 76852 15049 42539  5211 51730     1     0     0     0  1802   216\n",
      " 43097     0   307     0     0  2204    64   237  2391     0]\n"
     ]
    }
   ],
   "source": [
    "f2 = h5.File(PATH_PREDICT_WITH_GT, 'r')\n",
    "repre_cible, bins = np.histogram(f2['TOP_LANDCOVER'], bins=range(23))\n",
    "print(repre_cible)"
   ]
  },
  {
   "cell_type": "code",
   "execution_count": 5,
   "metadata": {},
   "outputs": [
    {
     "name": "stdout",
     "output_type": "stream",
     "text": [
      "current step : 233999/234000 creating 3 patch of classes 1    \r"
     ]
    }
   ],
   "source": [
    "f_res = h5.File(PATH_DATA_AUG, 'w')\n",
    "data = []\n",
    "label = []\n",
    "nb_max = repre[np.argmax(repre)]\n",
    "#parcour data\n",
    "for i in range(len(f['S2'])):\n",
    "    #print('current step : '+str(i)+'/'+str(len(f['S2']))+ ' adding patch of classes '+str(int(f['TOP_LANDCOVER'][i]))+'             ', end='\\r')\n",
    "    #data.append(f['S2'][i])\n",
    "    #label.append(f['TOP_LANDCOVER'][i])\n",
    "    ### test 1 ####\n",
    "    # si on est pas dans la classe majoritaire\n",
    "    #nb_patch_to_create = int((nb_max - repre[int(f['TOP_LANDCOVER'][i])]) / 50)\n",
    "    #if repre[int(f['TOP_LANDCOVER'][i])] < nb_max and nb_patch_to_create > 0:\n",
    "        # créer des patch bruités\n",
    "    #    tmp = f['S2'][i]\n",
    "    \n",
    "    #### test 2 ####\n",
    "    #if repre[int(f['TOP_LANDCOVER'][i])] < repre_cible[int(f['TOP_LANDCOVER'][i])]:\n",
    "        #nb_patch_to_create =1 + int((repre_cible[int(f['TOP_LANDCOVER'][i])] - repre[int(f['TOP_LANDCOVER'][i])]) / repre[int(f['TOP_LANDCOVER'][i])])\n",
    "    #### test 3 #### \n",
    "    \n",
    "    print('current step : '+str(i)+'/'+str(len(f['S2']))+ ' creating 3 patch of classes '+str(int(f['TOP_LANDCOVER'][i]))+'   ', end='\\r')\n",
    "    tmp = f['S2'][i]\n",
    "    data.append(tmp)\n",
    "    label.append(f['TOP_LANDCOVER'][i])\n",
    "    for j in range(3):\n",
    "        #noise = np.random.normal(0,10,(16,16,4))\n",
    "        tmp = np.transpose(tmp, (1, 0, 2))\n",
    "        data.append(tmp)\n",
    "        label.append(f['TOP_LANDCOVER'][i])\n",
    "            \n",
    "    \n",
    "top_data = f_res.create_dataset('S2', data=data)\n",
    "\n",
    "top_landcover = f_res.create_dataset('TOP_LANDCOVER', data=label)"
   ]
  },
  {
   "cell_type": "code",
   "execution_count": 6,
   "metadata": {},
   "outputs": [
    {
     "name": "stdout",
     "output_type": "stream",
     "text": [
      "[    0 10988 29178 39369 15017 60779     6     0     0     0   814    66\n",
      " 50944     0    40     0     0     2     0     6 26791     0]\n",
      "[     0  43952 116712 157476  60068 243116     24      0      0      0\n",
      "   3256    264 203776      0    160      0      0      8      0     24\n",
      " 107164      0]\n",
      "[    0 76852 15049 42539  5211 51730     1     0     0     0  1802   216\n",
      " 43097     0   307     0     0  2204    64   237  2391     0]\n"
     ]
    }
   ],
   "source": [
    "repre_aug, bins = np.histogram(f_res['TOP_LANDCOVER'], bins=range(23))\n",
    "print(repre)\n",
    "print(repre_aug)\n",
    "print(repre_cible)\n"
   ]
  },
  {
   "cell_type": "markdown",
   "metadata": {},
   "source": [
    "# Vérification"
   ]
  },
  {
   "cell_type": "code",
   "execution_count": 8,
   "metadata": {},
   "outputs": [
    {
     "name": "stderr",
     "output_type": "stream",
     "text": [
      "/usr/lib64/python3.6/site-packages/matplotlib/figure.py:459: UserWarning: matplotlib is currently using a non-GUI backend, so cannot show the figure\n",
      "  \"matplotlib is currently using a non-GUI backend, \"\n"
     ]
    },
    {
     "data": {
      "image/png": "[encoded data removed]",
      "text/plain": [
       "<Figure size 432x288 with 3 Axes>"
      ]
     },
     "metadata": {},
     "output_type": "display_data"
    }
   ],
   "source": [
    "import matplotlib.pyplot as plt\n",
    "\n",
    "x = range(len(repre))\n",
    "plt.subplot(131)\n",
    "plt.bar(x, repre, color=\"blue\")\n",
    "plt.subplot(132)\n",
    "plt.bar(x, repre_aug, color=\"red\")\n",
    "plt.subplot(133)\n",
    "plt.bar(x, repre_cible, color=\"green\")\n",
    "\n",
    "fig = plt.gcf()\n",
    "fig.show()"
   ]
  },
  {
   "cell_type": "code",
   "execution_count": null,
   "metadata": {},
   "outputs": [],
   "source": []
  },
  {
   "cell_type": "code",
   "execution_count": null,
   "metadata": {},
   "outputs": [],
   "source": []
  }
 ],
 "metadata": {
  "kernelspec": {
   "display_name": "Python 3",
   "language": "python",
   "name": "python3"
  },
  "language_info": {
   "codemirror_mode": {
    "name": "ipython",
    "version": 3
   },
   "file_extension": ".py",
   "mimetype": "text/x-python",
   "name": "python",
   "nbconvert_exporter": "python",
   "pygments_lexer": "ipython3",
   "version": "3.6.4"
  },
  "widgets": {
   "state": {},
   "version": "1.1.2"
  }
 },
 "nbformat": 4,
 "nbformat_minor": 2
}
