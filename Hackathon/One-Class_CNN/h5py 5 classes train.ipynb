{
 "cells": [
  {
   "cell_type": "markdown",
   "metadata": {},
   "source": [
    "# Création d'un fichier h5py pour chaque classes 1 à 5 du dossier train"
   ]
  },
  {
   "cell_type": "code",
   "execution_count": 1,
   "metadata": {},
   "outputs": [
    {
     "name": "stderr",
     "output_type": "stream",
     "text": [
      "Using TensorFlow backend.\n"
     ]
    }
   ],
   "source": [
    "import h5py as h5\n",
    "import numpy as np\n",
    "\n",
    "PATH_DATA = 'F:/DlHackaton/HACKATHON/hackathon_small/data/train/eightieth.h5'\n"
   ]
  },
  {
   "cell_type": "code",
   "execution_count": 3,
   "metadata": {},
   "outputs": [
    {
     "name": "stdout",
     "output_type": "stream",
     "text": [
      "(234000, 1)\n",
      "(234000, 16, 16, 4)\n"
     ]
    }
   ],
   "source": [
    "data = h5.File(PATH_DATA,'r')\n",
    "print (data[\"TOP_LANDCOVER\"].shape)\n",
    "print (data[\"S2\"].shape)\n"
   ]
  },
  {
   "cell_type": "code",
   "execution_count": 9,
   "metadata": {},
   "outputs": [],
   "source": [
    "import os\n",
    "\n",
    "if os.path.exists('F:/DlHackaton/HACKATHON/hackathon_small/data/test/c1.h5'):\n",
    "    os.remove('F:/DlHackaton/HACKATHON/hackathon_small/data/test/c1.h5')\n",
    "f1 = h5.File('F:/DlHackaton/HACKATHON/hackathon_small/data/test/c1.h5', 'w')\n",
    "\n",
    "if os.path.exists('F:/DlHackaton/HACKATHON/hackathon_small/data/test/c2.h5'):\n",
    "    os.remove('F:/DlHackaton/HACKATHON/hackathon_small/data/test/c2.h5')\n",
    "f2 = h5.File('F:/DlHackaton/HACKATHON/hackathon_small/data/test/c2.h5', 'w')\n",
    "\n",
    "if os.path.exists('F:/DlHackaton/HACKATHON/hackathon_small/data/test/c3.h5'):\n",
    "    os.remove('F:/DlHackaton/HACKATHON/hackathon_small/data/test/c3.h5')\n",
    "f3 = h5.File('F:/DlHackaton/HACKATHON/hackathon_small/data/test/c3.h5', 'w')\n",
    "\n",
    "if os.path.exists('F:/DlHackaton/HACKATHON/hackathon_small/data/test/c4.h5'):\n",
    "    os.remove('F:/DlHackaton/HACKATHON/hackathon_small/data/test/c4.h5')\n",
    "f4 = h5.File('F:/DlHackaton/HACKATHON/hackathon_small/data/test/c4.h5', 'w')\n",
    "\n",
    "if os.path.exists('F:/DlHackaton/HACKATHON/hackathon_small/data/test/c5.h5'):\n",
    "    os.remove('F:/DlHackaton/HACKATHON/hackathon_small/data/test/c5.h5')\n",
    "f5 = h5.File('F:/DlHackaton/HACKATHON/hackathon_small/data/test/c5.h5', 'w')"
   ]
  },
  {
   "cell_type": "code",
   "execution_count": 10,
   "metadata": {},
   "outputs": [],
   "source": [
    "c1_data = []\n",
    "c2_data = []\n",
    "c3_data = []\n",
    "c4_data = []\n",
    "c5_data = []\n",
    "\n",
    "c1_label = []\n",
    "c2_label = []\n",
    "c3_label = []\n",
    "c4_label = []\n",
    "c5_label = []\n",
    "\n",
    "for i in range(0,234000) :\n",
    "    #print (data[\"TOP_LANDCOVER\"][i])\n",
    "    if data[\"TOP_LANDCOVER\"][i] == 1 :\n",
    "        c1_data.append(data[\"S2\"][i])\n",
    "        c1_label.append(data[\"TOP_LANDCOVER\"][i])\n",
    "    if data[\"TOP_LANDCOVER\"][i] == 2 :\n",
    "        c2_data.append(data[\"S2\"][i])\n",
    "        c2_label.append(data[\"TOP_LANDCOVER\"][i])\n",
    "    if data[\"TOP_LANDCOVER\"][i] == 3 :\n",
    "        c3_data.append(data[\"S2\"][i])\n",
    "        c3_label.append(data[\"TOP_LANDCOVER\"][i])\n",
    "    if data[\"TOP_LANDCOVER\"][i] == 4 :\n",
    "        c4_data.append(data[\"S2\"][i])\n",
    "        c4_label.append(data[\"TOP_LANDCOVER\"][i])\n",
    "    if data[\"TOP_LANDCOVER\"][i] == 5 :\n",
    "        c5_data.append(data[\"S2\"][i])\n",
    "        c5_label.append(data[\"TOP_LANDCOVER\"][i])"
   ]
  },
  {
   "cell_type": "code",
   "execution_count": 20,
   "metadata": {},
   "outputs": [
    {
     "ename": "OSError",
     "evalue": "Can't prepare for writing data (src and dest data spaces have different sizes)",
     "output_type": "error",
     "traceback": [
      "\u001b[1;31m---------------------------------------------------------------------------\u001b[0m",
      "\u001b[1;31mOSError\u001b[0m                                   Traceback (most recent call last)",
      "\u001b[1;32m<ipython-input-20-1ae4e0dd92da>\u001b[0m in \u001b[0;36m<module>\u001b[1;34m()\u001b[0m\n\u001b[0;32m      3\u001b[0m \u001b[1;33m\u001b[0m\u001b[0m\n\u001b[0;32m      4\u001b[0m \u001b[0mtop_landcover_submit1\u001b[0m \u001b[1;33m=\u001b[0m \u001b[0mf1\u001b[0m\u001b[1;33m.\u001b[0m\u001b[0mcreate_dataset\u001b[0m\u001b[1;33m(\u001b[0m\u001b[1;34m\"TOP_LANDCOVER\"\u001b[0m\u001b[1;33m,\u001b[0m \u001b[1;33m(\u001b[0m\u001b[0mlen\u001b[0m\u001b[1;33m(\u001b[0m\u001b[0mc1_label\u001b[0m\u001b[1;33m)\u001b[0m\u001b[1;33m,\u001b[0m \u001b[1;36m1\u001b[0m\u001b[1;33m)\u001b[0m\u001b[1;33m)\u001b[0m\u001b[1;33m\u001b[0m\u001b[0m\n\u001b[1;32m----> 5\u001b[1;33m \u001b[0mtop_landcover_submit1\u001b[0m\u001b[1;33m[\u001b[0m\u001b[1;33m:\u001b[0m\u001b[1;33m,\u001b[0m \u001b[1;36m0\u001b[0m\u001b[1;33m]\u001b[0m \u001b[1;33m=\u001b[0m \u001b[0mc1_label\u001b[0m\u001b[1;33m[\u001b[0m\u001b[1;33m:\u001b[0m\u001b[1;33m]\u001b[0m\u001b[1;33m\u001b[0m\u001b[0m\n\u001b[0m",
      "\u001b[1;32mh5py\\_objects.pyx\u001b[0m in \u001b[0;36mh5py._objects.with_phil.wrapper\u001b[1;34m()\u001b[0m\n",
      "\u001b[1;32mh5py\\_objects.pyx\u001b[0m in \u001b[0;36mh5py._objects.with_phil.wrapper\u001b[1;34m()\u001b[0m\n",
      "\u001b[1;32mc:\\users\\kiki\\anaconda3\\envs\\tensorflow-gpu\\lib\\site-packages\\h5py\\_hl\\dataset.py\u001b[0m in \u001b[0;36m__setitem__\u001b[1;34m(self, args, val)\u001b[0m\n\u001b[0;32m    630\u001b[0m         \u001b[0mmspace\u001b[0m \u001b[1;33m=\u001b[0m \u001b[0mh5s\u001b[0m\u001b[1;33m.\u001b[0m\u001b[0mcreate_simple\u001b[0m\u001b[1;33m(\u001b[0m\u001b[0mmshape_pad\u001b[0m\u001b[1;33m,\u001b[0m \u001b[1;33m(\u001b[0m\u001b[0mh5s\u001b[0m\u001b[1;33m.\u001b[0m\u001b[0mUNLIMITED\u001b[0m\u001b[1;33m,\u001b[0m\u001b[1;33m)\u001b[0m\u001b[1;33m*\u001b[0m\u001b[0mlen\u001b[0m\u001b[1;33m(\u001b[0m\u001b[0mmshape_pad\u001b[0m\u001b[1;33m)\u001b[0m\u001b[1;33m)\u001b[0m\u001b[1;33m\u001b[0m\u001b[0m\n\u001b[0;32m    631\u001b[0m         \u001b[1;32mfor\u001b[0m \u001b[0mfspace\u001b[0m \u001b[1;32min\u001b[0m \u001b[0mselection\u001b[0m\u001b[1;33m.\u001b[0m\u001b[0mbroadcast\u001b[0m\u001b[1;33m(\u001b[0m\u001b[0mmshape\u001b[0m\u001b[1;33m)\u001b[0m\u001b[1;33m:\u001b[0m\u001b[1;33m\u001b[0m\u001b[0m\n\u001b[1;32m--> 632\u001b[1;33m             \u001b[0mself\u001b[0m\u001b[1;33m.\u001b[0m\u001b[0mid\u001b[0m\u001b[1;33m.\u001b[0m\u001b[0mwrite\u001b[0m\u001b[1;33m(\u001b[0m\u001b[0mmspace\u001b[0m\u001b[1;33m,\u001b[0m \u001b[0mfspace\u001b[0m\u001b[1;33m,\u001b[0m \u001b[0mval\u001b[0m\u001b[1;33m,\u001b[0m \u001b[0mmtype\u001b[0m\u001b[1;33m,\u001b[0m \u001b[0mdxpl\u001b[0m\u001b[1;33m=\u001b[0m\u001b[0mself\u001b[0m\u001b[1;33m.\u001b[0m\u001b[0m_dxpl\u001b[0m\u001b[1;33m)\u001b[0m\u001b[1;33m\u001b[0m\u001b[0m\n\u001b[0m\u001b[0;32m    633\u001b[0m \u001b[1;33m\u001b[0m\u001b[0m\n\u001b[0;32m    634\u001b[0m     \u001b[1;32mdef\u001b[0m \u001b[0mread_direct\u001b[0m\u001b[1;33m(\u001b[0m\u001b[0mself\u001b[0m\u001b[1;33m,\u001b[0m \u001b[0mdest\u001b[0m\u001b[1;33m,\u001b[0m \u001b[0msource_sel\u001b[0m\u001b[1;33m=\u001b[0m\u001b[1;32mNone\u001b[0m\u001b[1;33m,\u001b[0m \u001b[0mdest_sel\u001b[0m\u001b[1;33m=\u001b[0m\u001b[1;32mNone\u001b[0m\u001b[1;33m)\u001b[0m\u001b[1;33m:\u001b[0m\u001b[1;33m\u001b[0m\u001b[0m\n",
      "\u001b[1;32mh5py\\_objects.pyx\u001b[0m in \u001b[0;36mh5py._objects.with_phil.wrapper\u001b[1;34m()\u001b[0m\n",
      "\u001b[1;32mh5py\\_objects.pyx\u001b[0m in \u001b[0;36mh5py._objects.with_phil.wrapper\u001b[1;34m()\u001b[0m\n",
      "\u001b[1;32mh5py\\h5d.pyx\u001b[0m in \u001b[0;36mh5py.h5d.DatasetID.write\u001b[1;34m()\u001b[0m\n",
      "\u001b[1;32mh5py\\_proxy.pyx\u001b[0m in \u001b[0;36mh5py._proxy.dset_rw\u001b[1;34m()\u001b[0m\n",
      "\u001b[1;32mh5py\\_proxy.pyx\u001b[0m in \u001b[0;36mh5py._proxy.H5PY_H5Dwrite\u001b[1;34m()\u001b[0m\n",
      "\u001b[1;31mOSError\u001b[0m: Can't prepare for writing data (src and dest data spaces have different sizes)"
     ]
    }
   ],
   "source": [
    "top_data_submit1 = f1.create_dataset(\"S2\", (len(c1_data), 16, 16, 4))\n",
    "top_data_submit1[:,:,:,:] = c1_data[:]\n"
   ]
  },
  {
   "cell_type": "code",
   "execution_count": 24,
   "metadata": {},
   "outputs": [],
   "source": [
    "top_data_submit2 = f2.create_dataset(\"S2\", (len(c2_data), 16, 16, 4))\n",
    "top_data_submit2[:,:,:,:] = c2_data[:]\n",
    "\n"
   ]
  },
  {
   "cell_type": "code",
   "execution_count": 25,
   "metadata": {},
   "outputs": [],
   "source": [
    "top_data_submit3 = f3.create_dataset(\"S2\", (len(c3_data), 16, 16, 4))\n",
    "top_data_submit3[:,:,:,:] = c3_data[:]\n",
    "\n"
   ]
  },
  {
   "cell_type": "code",
   "execution_count": 26,
   "metadata": {},
   "outputs": [],
   "source": [
    "top_data_submit4 = f4.create_dataset(\"S2\", (len(c4_data), 16, 16, 4))\n",
    "top_data_submit4[:,:,:,:] = c4_data[:]\n",
    "\n"
   ]
  },
  {
   "cell_type": "code",
   "execution_count": 27,
   "metadata": {},
   "outputs": [],
   "source": [
    "top_data_submit5 = f5.create_dataset(\"S2\", (len(c5_data), 16, 16, 4))\n",
    "top_data_submit5[:,:,:,:] = c5_data[:]\n",
    "\n"
   ]
  }
 ],
 "metadata": {
  "kernelspec": {
   "display_name": "Python 3",
   "language": "python",
   "name": "python3"
  },
  "language_info": {
   "codemirror_mode": {
    "name": "ipython",
    "version": 3
   },
   "file_extension": ".py",
   "mimetype": "text/x-python",
   "name": "python",
   "nbconvert_exporter": "python",
   "pygments_lexer": "ipython3",
   "version": "3.5.4"
  }
 },
 "nbformat": 4,
 "nbformat_minor": 2
}
