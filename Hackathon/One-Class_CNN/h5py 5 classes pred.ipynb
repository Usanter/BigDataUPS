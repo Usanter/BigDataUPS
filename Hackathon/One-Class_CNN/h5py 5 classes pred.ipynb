{
 "cells": [
  {
   "cell_type": "markdown",
   "metadata": {},
   "source": [
    "# Création d'un fichier prédiction contenant les GT des classes 1 à 5 du dossier pred_teachers"
   ]
  },
  {
   "cell_type": "code",
   "execution_count": 1,
   "metadata": {},
   "outputs": [
    {
     "name": "stderr",
     "output_type": "stream",
     "text": [
      "Using TensorFlow backend.\n"
     ]
    }
   ],
   "source": [
    "import h5py as h5\n",
    "import numpy as np\n",
    "\n",
    "PATH_PREDICT_WITH_GT = 'F:/DlHackaton/HACKATHON/hackathon_small/data/pred_teachers/pred_eighties_from_half_1.h5'"
   ]
  },
  {
   "cell_type": "code",
   "execution_count": 2,
   "metadata": {},
   "outputs": [
    {
     "name": "stdout",
     "output_type": "stream",
     "text": [
      "(241700, 1)\n",
      "(241700, 16, 16, 4)\n"
     ]
    }
   ],
   "source": [
    "data = h5.File(PATH_PREDICT_WITH_GT,'r')\n",
    "print (data[\"TOP_LANDCOVER\"].shape)\n",
    "print (data[\"S2\"].shape)\n"
   ]
  },
  {
   "cell_type": "code",
   "execution_count": 3,
   "metadata": {},
   "outputs": [],
   "source": [
    "c1_data = []\n",
    "\n",
    "c1_label = []\n",
    "\n",
    "\n",
    "for i in range(0,241700) :\n",
    "    if data[\"TOP_LANDCOVER\"][i] == 1 or   data[\"TOP_LANDCOVER\"][i] == 2 or   data[\"TOP_LANDCOVER\"][i] == 3 or   data[\"TOP_LANDCOVER\"][i] == 4 or   data[\"TOP_LANDCOVER\"][i] == 5:\n",
    "        c1_data.append(data[\"S2\"][i])\n",
    "        c1_label.append(data[\"TOP_LANDCOVER\"][i])\n",
    "   "
   ]
  },
  {
   "cell_type": "code",
   "execution_count": 5,
   "metadata": {},
   "outputs": [],
   "source": [
    "import os\n",
    "\n",
    "if os.path.exists('F:/DlHackaton/HACKATHON/hackathon_small/data/test/pred.h5'):\n",
    "    os.remove('F:/DlHackaton/HACKATHON/hackathon_small/data/test/pred.h5')\n",
    "f = h5.File('F:/DlHackaton/HACKATHON/hackathon_small/data/test/pred.h5', 'w')\n"
   ]
  },
  {
   "cell_type": "code",
   "execution_count": 6,
   "metadata": {},
   "outputs": [],
   "source": [
    "top_data_submit5 = f.create_dataset(\"S2\", (len(c1_data), 16, 16, 4))\n",
    "top_data_submit5[:,:,:,:] = c1_data[:]\n",
    "\n",
    "top_landcover_submit1 = f.create_dataset(\"TOP_LANDCOVER\", (len(c1_label), 1))\n",
    "top_landcover_submit1[:] = c1_label[:]"
   ]
  },
  {
   "cell_type": "code",
   "execution_count": null,
   "metadata": {},
   "outputs": [],
   "source": []
  }
 ],
 "metadata": {
  "kernelspec": {
   "display_name": "Python 3",
   "language": "python",
   "name": "python3"
  },
  "language_info": {
   "codemirror_mode": {
    "name": "ipython",
    "version": 3
   },
   "file_extension": ".py",
   "mimetype": "text/x-python",
   "name": "python",
   "nbconvert_exporter": "python",
   "pygments_lexer": "ipython3",
   "version": "3.5.4"
  }
 },
 "nbformat": 4,
 "nbformat_minor": 2
}
