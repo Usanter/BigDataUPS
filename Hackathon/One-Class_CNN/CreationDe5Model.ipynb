{
 "cells": [
  {
   "cell_type": "markdown",
   "metadata": {},
   "source": [
    "# Réalisation d'un modèle par classe. Dans ce cas précis je ne prend que les classes 1 à 5 qui comportent le plus de données."
   ]
  },
  {
   "cell_type": "code",
   "execution_count": 1,
   "metadata": {},
   "outputs": [
    {
     "name": "stderr",
     "output_type": "stream",
     "text": [
      "Using TensorFlow backend.\n"
     ]
    }
   ],
   "source": [
    "import keras\n",
    "import h5py as h5\n",
    "import numpy as np\n",
    "\n",
    "PATH_DATA_1 = 'F:/DlHackaton/HACKATHON/hackathon_small/data/test/c1.h5'\n",
    "PATH_DATA_2 = 'F:/DlHackaton/HACKATHON/hackathon_small/data/test/c2.h5'\n",
    "PATH_DATA_3 = 'F:/DlHackaton/HACKATHON/hackathon_small/data/test/c3.h5'\n",
    "PATH_DATA_4 = 'F:/DlHackaton/HACKATHON/hackathon_small/data/test/c4.h5'\n",
    "PATH_DATA_5 = 'F:/DlHackaton/HACKATHON/hackathon_small/data/test/c5.h5'\n",
    "\n",
    "\n",
    "PATH_PREDICT_WITH_GT = 'F:/DlHackaton/HACKATHON/hackathon_small/data/test/pred.h5'"
   ]
  },
  {
   "cell_type": "code",
   "execution_count": 2,
   "metadata": {},
   "outputs": [],
   "source": [
    "from keras.models import Sequential\n",
    "from keras.layers import Dense, Flatten, Conv2D, BatchNormalization, Activation, MaxPooling2D, Dropout\n",
    "import keras.layers.normalization \n",
    "from keras.callbacks import Callback\n"
   ]
  },
  {
   "cell_type": "code",
   "execution_count": 3,
   "metadata": {},
   "outputs": [],
   "source": [
    "data = h5.File(PATH_DATA_1,'r')\n",
    "\n",
    "x_train = []\n",
    "y_train = []\n",
    "\n",
    "for i in range(0,10988) :\n",
    "    x_train.append(data[\"S2\"][i])\n",
    "    y_train.append([1])"
   ]
  },
  {
   "cell_type": "code",
   "execution_count": 4,
   "metadata": {},
   "outputs": [
    {
     "name": "stdout",
     "output_type": "stream",
     "text": [
      "(10988, 16, 16, 4)\n",
      "(10988, 1)\n"
     ]
    }
   ],
   "source": [
    "y_train = np.array(y_train)\n",
    "x_train = np.array(x_train)\n",
    "\n",
    "print (x_train.shape)\n",
    "print (y_train.shape)"
   ]
  },
  {
   "cell_type": "code",
   "execution_count": 5,
   "metadata": {},
   "outputs": [],
   "source": [
    "input_shape = (16,16,4)\n",
    "model1 = Sequential()\n",
    "model1.add(BatchNormalization(input_shape=input_shape))\n",
    "model1.add(Flatten())\n",
    "model1.add(Dense(1))\n",
    "model1.add(Activation('sigmoid'))"
   ]
  },
  {
   "cell_type": "code",
   "execution_count": 6,
   "metadata": {},
   "outputs": [
    {
     "name": "stdout",
     "output_type": "stream",
     "text": [
      "_________________________________________________________________\n",
      "Layer (type)                 Output Shape              Param #   \n",
      "=================================================================\n",
      "batch_normalization_1 (Batch (None, 16, 16, 4)         16        \n",
      "_________________________________________________________________\n",
      "flatten_1 (Flatten)          (None, 1024)              0         \n",
      "_________________________________________________________________\n",
      "dense_1 (Dense)              (None, 1)                 1025      \n",
      "_________________________________________________________________\n",
      "activation_1 (Activation)    (None, 1)                 0         \n",
      "=================================================================\n",
      "Total params: 1,041\n",
      "Trainable params: 1,033\n",
      "Non-trainable params: 8\n",
      "_________________________________________________________________\n"
     ]
    }
   ],
   "source": [
    "model1.summary()"
   ]
  },
  {
   "cell_type": "code",
   "execution_count": 7,
   "metadata": {},
   "outputs": [],
   "source": [
    "x_train, x_valid, y_train, y_valid = x_train[:8790], x_train[8791:], y_train[:8790], y_train[8791:]"
   ]
  },
  {
   "cell_type": "code",
   "execution_count": 8,
   "metadata": {},
   "outputs": [
    {
     "name": "stdout",
     "output_type": "stream",
     "text": [
      "(8790, 16, 16, 4)\n",
      "(8790, 1)\n",
      "(2197, 16, 16, 4)\n",
      "(2197, 1)\n"
     ]
    }
   ],
   "source": [
    "\n",
    "print (x_train.shape)\n",
    "print (y_train.shape)\n",
    "\n",
    "\n",
    "print (x_valid.shape)\n",
    "print (y_valid.shape)"
   ]
  },
  {
   "cell_type": "code",
   "execution_count": 9,
   "metadata": {},
   "outputs": [
    {
     "name": "stdout",
     "output_type": "stream",
     "text": [
      "Train on 8790 samples, validate on 2197 samples\n",
      "Epoch 1/10\n",
      "8790/8790 [==============================] - 2s - loss: 0.4787 - binary_accuracy: 0.7727 - val_loss: 0.1007 - val_binary_accuracy: 0.9654\n",
      "Epoch 2/10\n",
      "8790/8790 [==============================] - 0s - loss: 0.0532 - binary_accuracy: 0.9858 - val_loss: 0.0254 - val_binary_accuracy: 0.9909\n",
      "Epoch 3/10\n",
      "8790/8790 [==============================] - 0s - loss: 0.0141 - binary_accuracy: 0.9972 - val_loss: 0.0101 - val_binary_accuracy: 0.9982\n",
      "Epoch 4/10\n",
      "8790/8790 [==============================] - 0s - loss: 0.0061 - binary_accuracy: 0.9991 - val_loss: 0.0051 - val_binary_accuracy: 0.9995\n",
      "Epoch 5/10\n",
      "8790/8790 [==============================] - 0s - loss: 0.0032 - binary_accuracy: 0.9994 - val_loss: 0.0030 - val_binary_accuracy: 1.0000\n",
      "Epoch 6/10\n",
      "8790/8790 [==============================] - 0s - loss: 0.0022 - binary_accuracy: 0.9994 - val_loss: 0.0018 - val_binary_accuracy: 1.0000\n",
      "Epoch 7/10\n",
      "8790/8790 [==============================] - 0s - loss: 0.0013 - binary_accuracy: 0.9999 - val_loss: 0.0012 - val_binary_accuracy: 1.0000\n",
      "Epoch 8/10\n",
      "8790/8790 [==============================] - 0s - loss: 9.7419e-04 - binary_accuracy: 0.9999 - val_loss: 8.6598e-04 - val_binary_accuracy: 1.0000\n",
      "Epoch 9/10\n",
      "8790/8790 [==============================] - 0s - loss: 6.1396e-04 - binary_accuracy: 1.0000 - val_loss: 6.7210e-04 - val_binary_accuracy: 1.0000\n",
      "Epoch 10/10\n",
      "8790/8790 [==============================] - 0s - loss: 5.6631e-04 - binary_accuracy: 0.9999 - val_loss: 5.0312e-04 - val_binary_accuracy: 1.0000\n"
     ]
    },
    {
     "data": {
      "text/plain": [
       "<keras.callbacks.History at 0x212e7018be0>"
      ]
     },
     "execution_count": 9,
     "metadata": {},
     "output_type": "execute_result"
    }
   ],
   "source": [
    "from math import floor\n",
    "\n",
    "model1.compile(optimizer='adam',\n",
    "              loss='binary_crossentropy',\n",
    "              metrics=['binary_accuracy'])\n",
    "model1.fit(x_train, y_train,\n",
    "          batch_size=64,\n",
    "          epochs=10,\n",
    "          verbose=1,\n",
    "          validation_data=(x_valid, y_valid))\n",
    "#history = model1.fit_generator(train_gen, steps_per_epoch=floor(train_batch_count / BATCH_SIZE ), epochs=10, verbose=1, validation_data=val_gen, validation_steps= floor(val_batch_count / BATCH_SIZE ))"
   ]
  },
  {
   "cell_type": "code",
   "execution_count": 20,
   "metadata": {},
   "outputs": [
    {
     "data": {
      "text/plain": [
       "(29178, 16, 16, 4)"
      ]
     },
     "execution_count": 20,
     "metadata": {},
     "output_type": "execute_result"
    }
   ],
   "source": [
    "data2 = h5.File(PATH_DATA_2,'r')\n",
    "\n",
    "(data2[\"S2\"].shape)"
   ]
  },
  {
   "cell_type": "code",
   "execution_count": 21,
   "metadata": {},
   "outputs": [],
   "source": [
    "x_train = []\n",
    "y_train = []\n",
    "\n",
    "for i in range(0,29178) :\n",
    "    x_train.append(data2[\"S2\"][i])\n",
    "    y_train.append([1])"
   ]
  },
  {
   "cell_type": "code",
   "execution_count": 22,
   "metadata": {},
   "outputs": [
    {
     "name": "stdout",
     "output_type": "stream",
     "text": [
      "(29178, 16, 16, 4)\n",
      "(29178, 1)\n"
     ]
    }
   ],
   "source": [
    "y_train = np.array(y_train)\n",
    "x_train = np.array(x_train)\n",
    "\n",
    "print (x_train.shape)\n",
    "print (y_train.shape)"
   ]
  },
  {
   "cell_type": "code",
   "execution_count": 23,
   "metadata": {},
   "outputs": [],
   "source": [
    "input_shape = (16,16,4)\n",
    "model2 = Sequential()\n",
    "model2.add(BatchNormalization(input_shape=input_shape))\n",
    "model2.add(Flatten())\n",
    "model2.add(Dense(1))\n",
    "model2.add(Activation('sigmoid'))"
   ]
  },
  {
   "cell_type": "code",
   "execution_count": 24,
   "metadata": {},
   "outputs": [],
   "source": [
    "x_train, x_valid, y_train, y_valid = x_train[:23342], x_train[23343:], y_train[:23342], y_train[23343:]"
   ]
  },
  {
   "cell_type": "code",
   "execution_count": 25,
   "metadata": {},
   "outputs": [
    {
     "name": "stdout",
     "output_type": "stream",
     "text": [
      "(23342, 16, 16, 4)\n",
      "(23342, 1)\n",
      "(5835, 16, 16, 4)\n",
      "(5835, 1)\n"
     ]
    }
   ],
   "source": [
    "print (x_train.shape)\n",
    "print (y_train.shape)\n",
    "\n",
    "\n",
    "print (x_valid.shape)\n",
    "print (y_valid.shape)"
   ]
  },
  {
   "cell_type": "code",
   "execution_count": 26,
   "metadata": {},
   "outputs": [
    {
     "name": "stdout",
     "output_type": "stream",
     "text": [
      "Train on 23342 samples, validate on 5835 samples\n",
      "Epoch 1/10\n",
      "23342/23342 [==============================] - 2s - loss: 0.1755 - binary_accuracy: 0.9210 - val_loss: 0.0196 - val_binary_accuracy: 0.9950\n",
      "Epoch 2/10\n",
      "23342/23342 [==============================] - 2s - loss: 0.0068 - binary_accuracy: 0.9988 - val_loss: 0.0040 - val_binary_accuracy: 0.9985\n",
      "Epoch 3/10\n",
      "23342/23342 [==============================] - 2s - loss: 0.0031 - binary_accuracy: 0.9996 - val_loss: 7.3304e-04 - val_binary_accuracy: 0.9998\n",
      "Epoch 4/10\n",
      "23342/23342 [==============================] - 2s - loss: 0.0023 - binary_accuracy: 0.9997 - val_loss: 6.0248e-04 - val_binary_accuracy: 1.0000\n",
      "Epoch 5/10\n",
      "23342/23342 [==============================] - 2s - loss: 0.0018 - binary_accuracy: 0.9999 - val_loss: 1.8172e-04 - val_binary_accuracy: 1.0000\n",
      "Epoch 6/10\n",
      "23342/23342 [==============================] - 2s - loss: 0.0015 - binary_accuracy: 0.9998 - val_loss: 4.0087e-04 - val_binary_accuracy: 1.0000\n",
      "Epoch 7/10\n",
      "23342/23342 [==============================] - 2s - loss: 0.0014 - binary_accuracy: 0.9998 - val_loss: 0.0011 - val_binary_accuracy: 0.9998\n",
      "Epoch 8/10\n",
      "23342/23342 [==============================] - 2s - loss: 0.0014 - binary_accuracy: 0.9997 - val_loss: 5.4841e-04 - val_binary_accuracy: 0.9998\n",
      "Epoch 9/10\n",
      "23342/23342 [==============================] - 2s - loss: 7.0596e-04 - binary_accuracy: 0.9998 - val_loss: 3.5185e-04 - val_binary_accuracy: 0.9998\n",
      "Epoch 10/10\n",
      "23342/23342 [==============================] - 2s - loss: 0.0014 - binary_accuracy: 0.9997 - val_loss: 0.0074 - val_binary_accuracy: 0.9976\n"
     ]
    },
    {
     "data": {
      "text/plain": [
       "<keras.callbacks.History at 0x213eed13a20>"
      ]
     },
     "execution_count": 26,
     "metadata": {},
     "output_type": "execute_result"
    }
   ],
   "source": [
    "model2.compile(optimizer='adam',\n",
    "              loss='binary_crossentropy',\n",
    "              metrics=['binary_accuracy'])\n",
    "model2.fit(x_train, y_train,\n",
    "          batch_size=64,\n",
    "          epochs=10,\n",
    "          verbose=1,\n",
    "          validation_data=(x_valid, y_valid))"
   ]
  },
  {
   "cell_type": "code",
   "execution_count": 27,
   "metadata": {},
   "outputs": [
    {
     "data": {
      "text/plain": [
       "(39369, 16, 16, 4)"
      ]
     },
     "execution_count": 27,
     "metadata": {},
     "output_type": "execute_result"
    }
   ],
   "source": [
    "data3 = h5.File(PATH_DATA_3,'r')\n",
    "\n",
    "(data3[\"S2\"].shape)"
   ]
  },
  {
   "cell_type": "code",
   "execution_count": 28,
   "metadata": {},
   "outputs": [],
   "source": [
    "x_train = []\n",
    "y_train = []\n",
    "\n",
    "for i in range(0,39369) :\n",
    "    x_train.append(data3[\"S2\"][i])\n",
    "    y_train.append([1])"
   ]
  },
  {
   "cell_type": "code",
   "execution_count": 29,
   "metadata": {},
   "outputs": [
    {
     "name": "stdout",
     "output_type": "stream",
     "text": [
      "(39369, 16, 16, 4)\n",
      "(39369, 1)\n"
     ]
    }
   ],
   "source": [
    "y_train = np.array(y_train)\n",
    "x_train = np.array(x_train)\n",
    "\n",
    "print (x_train.shape)\n",
    "print (y_train.shape)"
   ]
  },
  {
   "cell_type": "code",
   "execution_count": 30,
   "metadata": {},
   "outputs": [],
   "source": [
    "input_shape = (16,16,4)\n",
    "model3 = Sequential()\n",
    "model3.add(BatchNormalization(input_shape=input_shape))\n",
    "model3.add(Flatten())\n",
    "model3.add(Dense(1))\n",
    "model3.add(Activation('sigmoid'))"
   ]
  },
  {
   "cell_type": "code",
   "execution_count": 31,
   "metadata": {},
   "outputs": [],
   "source": [
    "x_train, x_valid, y_train, y_valid = x_train[:31495], x_train[31496:], y_train[:31495], y_train[31496:]"
   ]
  },
  {
   "cell_type": "code",
   "execution_count": 32,
   "metadata": {},
   "outputs": [
    {
     "name": "stdout",
     "output_type": "stream",
     "text": [
      "(31495, 16, 16, 4)\n",
      "(31495, 1)\n",
      "(7873, 16, 16, 4)\n",
      "(7873, 1)\n"
     ]
    }
   ],
   "source": [
    "print (x_train.shape)\n",
    "print (y_train.shape)\n",
    "\n",
    "\n",
    "print (x_valid.shape)\n",
    "print (y_valid.shape)"
   ]
  },
  {
   "cell_type": "code",
   "execution_count": 33,
   "metadata": {},
   "outputs": [
    {
     "name": "stdout",
     "output_type": "stream",
     "text": [
      "Train on 31495 samples, validate on 7873 samples\n",
      "Epoch 1/10\n",
      "31495/31495 [==============================] - 3s - loss: 0.1624 - binary_accuracy: 0.9246 - val_loss: 0.0148 - val_binary_accuracy: 0.9967\n",
      "Epoch 2/10\n",
      "31495/31495 [==============================] - 3s - loss: 0.0035 - binary_accuracy: 0.9993 - val_loss: 0.0068 - val_binary_accuracy: 0.9989\n",
      "Epoch 3/10\n",
      "31495/31495 [==============================] - 3s - loss: 0.0011 - binary_accuracy: 0.9997 - val_loss: 0.0035 - val_binary_accuracy: 0.9992\n",
      "Epoch 4/10\n",
      "31495/31495 [==============================] - 3s - loss: 4.6126e-04 - binary_accuracy: 0.9999 - val_loss: 0.0026 - val_binary_accuracy: 0.9994\n",
      "Epoch 5/10\n",
      "31495/31495 [==============================] - 3s - loss: 2.8873e-04 - binary_accuracy: 0.9999 - val_loss: 0.0018 - val_binary_accuracy: 0.9994\n",
      "Epoch 6/10\n",
      "31495/31495 [==============================] - 3s - loss: 1.0681e-04 - binary_accuracy: 1.0000 - val_loss: 0.0023 - val_binary_accuracy: 0.9994\n",
      "Epoch 7/10\n",
      "31495/31495 [==============================] - 3s - loss: 7.2084e-05 - binary_accuracy: 1.0000 - val_loss: 0.0018 - val_binary_accuracy: 0.9994\n",
      "Epoch 8/10\n",
      "31495/31495 [==============================] - 3s - loss: 6.6049e-05 - binary_accuracy: 1.0000 - val_loss: 0.0010 - val_binary_accuracy: 0.9996\n",
      "Epoch 9/10\n",
      "31495/31495 [==============================] - 3s - loss: 3.0260e-05 - binary_accuracy: 1.0000 - val_loss: 0.0010 - val_binary_accuracy: 0.9996\n",
      "Epoch 10/10\n",
      "31495/31495 [==============================] - 3s - loss: 2.4359e-05 - binary_accuracy: 1.0000 - val_loss: 9.0845e-04 - val_binary_accuracy: 0.9999\n"
     ]
    },
    {
     "data": {
      "text/plain": [
       "<keras.callbacks.History at 0x213f7077cf8>"
      ]
     },
     "execution_count": 33,
     "metadata": {},
     "output_type": "execute_result"
    }
   ],
   "source": [
    "model3.compile(optimizer='adam',\n",
    "              loss='binary_crossentropy',\n",
    "              metrics=['binary_accuracy'])\n",
    "model3.fit(x_train, y_train,\n",
    "          batch_size=64,\n",
    "          epochs=10,\n",
    "          verbose=1,\n",
    "          validation_data=(x_valid, y_valid))"
   ]
  },
  {
   "cell_type": "code",
   "execution_count": 34,
   "metadata": {},
   "outputs": [
    {
     "data": {
      "text/plain": [
       "(15017, 16, 16, 4)"
      ]
     },
     "execution_count": 34,
     "metadata": {},
     "output_type": "execute_result"
    }
   ],
   "source": [
    "data4 = h5.File(PATH_DATA_4,'r')\n",
    "\n",
    "(data4[\"S2\"].shape)"
   ]
  },
  {
   "cell_type": "code",
   "execution_count": 35,
   "metadata": {},
   "outputs": [],
   "source": [
    "x_train = []\n",
    "y_train = []\n",
    "\n",
    "for i in range(0,15017) :\n",
    "    x_train.append(data4[\"S2\"][i])\n",
    "    y_train.append([1])"
   ]
  },
  {
   "cell_type": "code",
   "execution_count": 36,
   "metadata": {},
   "outputs": [
    {
     "name": "stdout",
     "output_type": "stream",
     "text": [
      "(15017, 16, 16, 4)\n",
      "(15017, 1)\n"
     ]
    }
   ],
   "source": [
    "y_train = np.array(y_train)\n",
    "x_train = np.array(x_train)\n",
    "\n",
    "print (x_train.shape)\n",
    "print (y_train.shape)"
   ]
  },
  {
   "cell_type": "code",
   "execution_count": 37,
   "metadata": {},
   "outputs": [],
   "source": [
    "input_shape = (16,16,4)\n",
    "model4 = Sequential()\n",
    "model4.add(BatchNormalization(input_shape=input_shape))\n",
    "model4.add(Flatten())\n",
    "model4.add(Dense(1))\n",
    "model4.add(Activation('sigmoid'))"
   ]
  },
  {
   "cell_type": "code",
   "execution_count": 38,
   "metadata": {},
   "outputs": [],
   "source": [
    "x_train, x_valid, y_train, y_valid = x_train[:12013], x_train[12014:], y_train[:12013], y_train[12014:]"
   ]
  },
  {
   "cell_type": "code",
   "execution_count": 39,
   "metadata": {},
   "outputs": [
    {
     "name": "stdout",
     "output_type": "stream",
     "text": [
      "(12013, 16, 16, 4)\n",
      "(12013, 1)\n",
      "(3003, 16, 16, 4)\n",
      "(3003, 1)\n"
     ]
    }
   ],
   "source": [
    "print (x_train.shape)\n",
    "print (y_train.shape)\n",
    "\n",
    "\n",
    "print (x_valid.shape)\n",
    "print (y_valid.shape)"
   ]
  },
  {
   "cell_type": "code",
   "execution_count": 40,
   "metadata": {},
   "outputs": [
    {
     "name": "stdout",
     "output_type": "stream",
     "text": [
      "Train on 12013 samples, validate on 3003 samples\n",
      "Epoch 1/10\n",
      "12013/12013 [==============================] - 1s - loss: 0.3257 - binary_accuracy: 0.8499 - val_loss: 0.1249 - val_binary_accuracy: 0.9780\n",
      "Epoch 2/10\n",
      "12013/12013 [==============================] - 1s - loss: 0.0136 - binary_accuracy: 0.9982 - val_loss: 0.0109 - val_binary_accuracy: 0.9987\n",
      "Epoch 3/10\n",
      "12013/12013 [==============================] - 1s - loss: 0.0042 - binary_accuracy: 0.9997 - val_loss: 0.0055 - val_binary_accuracy: 0.9990\n",
      "Epoch 4/10\n",
      "12013/12013 [==============================] - 1s - loss: 0.0026 - binary_accuracy: 0.9994 - val_loss: 0.0027 - val_binary_accuracy: 0.9993\n",
      "Epoch 5/10\n",
      "12013/12013 [==============================] - 1s - loss: 0.0013 - binary_accuracy: 0.9999 - val_loss: 0.0023 - val_binary_accuracy: 0.9993\n",
      "Epoch 6/10\n",
      "12013/12013 [==============================] - 1s - loss: 9.2449e-04 - binary_accuracy: 0.9998 - val_loss: 0.0024 - val_binary_accuracy: 0.9993\n",
      "Epoch 7/10\n",
      "12013/12013 [==============================] - 1s - loss: 5.5294e-04 - binary_accuracy: 0.9998 - val_loss: 0.0024 - val_binary_accuracy: 0.9993\n",
      "Epoch 8/10\n",
      "12013/12013 [==============================] - 1s - loss: 4.9489e-04 - binary_accuracy: 0.9999 - val_loss: 0.0018 - val_binary_accuracy: 0.9993\n",
      "Epoch 9/10\n",
      "12013/12013 [==============================] - 1s - loss: 4.3275e-04 - binary_accuracy: 0.9999 - val_loss: 0.0023 - val_binary_accuracy: 0.9993\n",
      "Epoch 10/10\n",
      "12013/12013 [==============================] - 1s - loss: 7.5799e-04 - binary_accuracy: 0.9997 - val_loss: 0.0021 - val_binary_accuracy: 0.9990\n"
     ]
    },
    {
     "data": {
      "text/plain": [
       "<keras.callbacks.History at 0x21403f80ac8>"
      ]
     },
     "execution_count": 40,
     "metadata": {},
     "output_type": "execute_result"
    }
   ],
   "source": [
    "model4.compile(optimizer='adam',\n",
    "              loss='binary_crossentropy',\n",
    "              metrics=['binary_accuracy'])\n",
    "model4.fit(x_train, y_train,\n",
    "          batch_size=64,\n",
    "          epochs=10,\n",
    "          verbose=1,\n",
    "          validation_data=(x_valid, y_valid))"
   ]
  },
  {
   "cell_type": "code",
   "execution_count": 41,
   "metadata": {},
   "outputs": [
    {
     "data": {
      "text/plain": [
       "(60779, 16, 16, 4)"
      ]
     },
     "execution_count": 41,
     "metadata": {},
     "output_type": "execute_result"
    }
   ],
   "source": [
    "data5 = h5.File(PATH_DATA_5,'r')\n",
    "\n",
    "(data5[\"S2\"].shape)"
   ]
  },
  {
   "cell_type": "code",
   "execution_count": 42,
   "metadata": {},
   "outputs": [],
   "source": [
    "x_train = []\n",
    "y_train = []\n",
    "\n",
    "for i in range(0,60779) :\n",
    "    x_train.append(data5[\"S2\"][i])\n",
    "    y_train.append([1])"
   ]
  },
  {
   "cell_type": "code",
   "execution_count": 43,
   "metadata": {},
   "outputs": [
    {
     "name": "stdout",
     "output_type": "stream",
     "text": [
      "(60779, 16, 16, 4)\n",
      "(60779, 1)\n"
     ]
    }
   ],
   "source": [
    "y_train = np.array(y_train)\n",
    "x_train = np.array(x_train)\n",
    "\n",
    "print (x_train.shape)\n",
    "print (y_train.shape)"
   ]
  },
  {
   "cell_type": "code",
   "execution_count": 44,
   "metadata": {},
   "outputs": [],
   "source": [
    "input_shape = (16,16,4)\n",
    "model5 = Sequential()\n",
    "model5.add(BatchNormalization(input_shape=input_shape))\n",
    "model5.add(Flatten())\n",
    "model5.add(Dense(1))\n",
    "model5.add(Activation('sigmoid'))"
   ]
  },
  {
   "cell_type": "code",
   "execution_count": 45,
   "metadata": {},
   "outputs": [],
   "source": [
    "x_train, x_valid, y_train, y_valid = x_train[:48623], x_train[48624:], y_train[:48623], y_train[48624:]"
   ]
  },
  {
   "cell_type": "code",
   "execution_count": 46,
   "metadata": {},
   "outputs": [
    {
     "name": "stdout",
     "output_type": "stream",
     "text": [
      "(48623, 16, 16, 4)\n",
      "(48623, 1)\n",
      "(12155, 16, 16, 4)\n",
      "(12155, 1)\n"
     ]
    }
   ],
   "source": [
    "print (x_train.shape)\n",
    "print (y_train.shape)\n",
    "\n",
    "\n",
    "print (x_valid.shape)\n",
    "print (y_valid.shape)"
   ]
  },
  {
   "cell_type": "code",
   "execution_count": 47,
   "metadata": {},
   "outputs": [
    {
     "name": "stdout",
     "output_type": "stream",
     "text": [
      "Train on 48623 samples, validate on 12155 samples\n",
      "Epoch 1/10\n",
      "48623/48623 [==============================] - 5s - loss: 0.1074 - binary_accuracy: 0.9549 - val_loss: 0.0033 - val_binary_accuracy: 0.9991\n",
      "Epoch 2/10\n",
      "48623/48623 [==============================] - 4s - loss: 0.0013 - binary_accuracy: 0.9998 - val_loss: 0.0011 - val_binary_accuracy: 0.9996\n",
      "Epoch 3/10\n",
      "48623/48623 [==============================] - 5s - loss: 3.0404e-04 - binary_accuracy: 1.0000 - val_loss: 5.1217e-04 - val_binary_accuracy: 0.9997\n",
      "Epoch 4/10\n",
      "48623/48623 [==============================] - 4s - loss: 1.7246e-04 - binary_accuracy: 1.0000 - val_loss: 3.8616e-04 - val_binary_accuracy: 0.9998\n",
      "Epoch 5/10\n",
      "48623/48623 [==============================] - 5s - loss: 1.1707e-04 - binary_accuracy: 1.0000 - val_loss: 2.5725e-04 - val_binary_accuracy: 0.9999\n",
      "Epoch 6/10\n",
      "48623/48623 [==============================] - 5s - loss: 2.9052e-05 - binary_accuracy: 1.0000 - val_loss: 1.7665e-04 - val_binary_accuracy: 0.9999\n",
      "Epoch 7/10\n",
      "48623/48623 [==============================] - 5s - loss: 1.6551e-05 - binary_accuracy: 1.0000 - val_loss: 8.5488e-05 - val_binary_accuracy: 1.0000\n",
      "Epoch 8/10\n",
      "48623/48623 [==============================] - 5s - loss: 1.4073e-05 - binary_accuracy: 1.0000 - val_loss: 5.2179e-05 - val_binary_accuracy: 1.0000\n",
      "Epoch 9/10\n",
      "48623/48623 [==============================] - 5s - loss: 7.8548e-06 - binary_accuracy: 1.0000 - val_loss: 6.6060e-05 - val_binary_accuracy: 1.0000\n",
      "Epoch 10/10\n",
      "48623/48623 [==============================] - 4s - loss: 4.7043e-06 - binary_accuracy: 1.0000 - val_loss: 3.0465e-05 - val_binary_accuracy: 1.0000\n"
     ]
    },
    {
     "data": {
      "text/plain": [
       "<keras.callbacks.History at 0x2140f4d49e8>"
      ]
     },
     "execution_count": 47,
     "metadata": {},
     "output_type": "execute_result"
    }
   ],
   "source": [
    "model5.compile(optimizer='adam',\n",
    "              loss='binary_crossentropy',\n",
    "              metrics=['binary_accuracy'])\n",
    "model5.fit(x_train, y_train,\n",
    "          batch_size=64,\n",
    "          epochs=10,\n",
    "          verbose=1,\n",
    "          validation_data=(x_valid, y_valid))"
   ]
  },
  {
   "cell_type": "code",
   "execution_count": 48,
   "metadata": {},
   "outputs": [],
   "source": [
    "model1.save_weights('model1.h5')\n",
    "model2.save_weights('model2.h5')\n",
    "model3.save_weights('model3.h5')\n",
    "model4.save_weights('model4.h5')\n",
    "model5.save_weights('model5.h5')\n"
   ]
  },
  {
   "cell_type": "code",
   "execution_count": 53,
   "metadata": {},
   "outputs": [],
   "source": [
    "model1.save('my_model1.h5')\n",
    "model2.save('my_model2.h5')\n",
    "model3.save('my_model3.h5')\n",
    "model4.save('my_model4.h5')\n",
    "model5.save('my_model5.h5')"
   ]
  },
  {
   "cell_type": "code",
   "execution_count": null,
   "metadata": {},
   "outputs": [],
   "source": []
  }
 ],
 "metadata": {
  "kernelspec": {
   "display_name": "Python 3",
   "language": "python",
   "name": "python3"
  },
  "language_info": {
   "codemirror_mode": {
    "name": "ipython",
    "version": 3
   },
   "file_extension": ".py",
   "mimetype": "text/x-python",
   "name": "python",
   "nbconvert_exporter": "python",
   "pygments_lexer": "ipython3",
   "version": "3.5.4"
  }
 },
 "nbformat": 4,
 "nbformat_minor": 2
}
