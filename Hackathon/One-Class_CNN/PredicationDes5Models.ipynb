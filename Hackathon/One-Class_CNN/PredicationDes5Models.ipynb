{
 "cells": [
  {
   "cell_type": "markdown",
   "metadata": {},
   "source": [
    "# Prédiction finale des 5 modèles. Affichage matrice de confusion"
   ]
  },
  {
   "cell_type": "code",
   "execution_count": 1,
   "metadata": {},
   "outputs": [
    {
     "name": "stderr",
     "output_type": "stream",
     "text": [
      "Using TensorFlow backend.\n"
     ]
    }
   ],
   "source": [
    "import keras\n",
    "import h5py as h5\n",
    "import numpy as np\n",
    "\n",
    "PATH_DATA_1 = 'F:/DlHackaton/HACKATHON/hackathon_small/data/test/c1.h5'\n",
    "PATH_DATA_2 = 'F:/DlHackaton/HACKATHON/hackathon_small/data/test/c2.h5'\n",
    "PATH_DATA_3 = 'F:/DlHackaton/HACKATHON/hackathon_small/data/test/c3.h5'\n",
    "PATH_DATA_4 = 'F:/DlHackaton/HACKATHON/hackathon_small/data/test/c4.h5'\n",
    "PATH_DATA_5 = 'F:/DlHackaton/HACKATHON/hackathon_small/data/test/c5.h5'\n",
    "\n",
    "\n",
    "PATH_PREDICT_WITH_GT = 'F:/DlHackaton/HACKATHON/hackathon_small/data/test/pred.h5'"
   ]
  },
  {
   "cell_type": "code",
   "execution_count": 2,
   "metadata": {},
   "outputs": [],
   "source": [
    "from keras.models import Sequential\n",
    "from keras.layers import Dense, Flatten, Conv2D, BatchNormalization, Activation, MaxPooling2D, Dropout\n",
    "import keras.layers.normalization \n",
    "from keras.callbacks import Callback\n"
   ]
  },
  {
   "cell_type": "code",
   "execution_count": 3,
   "metadata": {},
   "outputs": [
    {
     "name": "stdout",
     "output_type": "stream",
     "text": [
      "(191381, 1)\n",
      "(191381, 16, 16, 4)\n"
     ]
    }
   ],
   "source": [
    "data = h5.File(PATH_PREDICT_WITH_GT,'r')\n",
    "print (data[\"TOP_LANDCOVER\"].shape)\n",
    "print (data[\"S2\"].shape)"
   ]
  },
  {
   "cell_type": "code",
   "execution_count": 5,
   "metadata": {},
   "outputs": [],
   "source": [
    "from keras.models import load_model\n",
    "\n",
    "model1 = load_model('my_model1.h5')\n",
    "model2 = load_model('my_model2.h5')\n",
    "model3 = load_model('my_model3.h5')\n",
    "model4 = load_model('my_model4.h5')\n",
    "model5 = load_model('my_model5.h5')"
   ]
  },
  {
   "cell_type": "code",
   "execution_count": 6,
   "metadata": {},
   "outputs": [],
   "source": [
    "model1.load_weights('model1.h5')\n",
    "model2.load_weights('model2.h5')\n",
    "model3.load_weights('model3.h5')\n",
    "model4.load_weights('model4.h5')\n",
    "model5.load_weights('model5.h5')\n"
   ]
  },
  {
   "cell_type": "code",
   "execution_count": 7,
   "metadata": {},
   "outputs": [
    {
     "name": "stdout",
     "output_type": "stream",
     "text": [
      "(191381, 16, 16, 4)\n",
      "(191381, 1)\n"
     ]
    }
   ],
   "source": [
    "x_train = []\n",
    "y_train = []\n",
    "\n",
    "for i in range(0,191381) :\n",
    "    x_train.append(data[\"S2\"][i])\n",
    "    y_train.append(data[\"TOP_LANDCOVER\"][i])\n",
    "    \n",
    "y_train = np.array(y_train)\n",
    "x_train = np.array(x_train)\n",
    "\n",
    "print (x_train.shape)\n",
    "print (y_train.shape)"
   ]
  },
  {
   "cell_type": "code",
   "execution_count": 41,
   "metadata": {},
   "outputs": [],
   "source": [
    "p_valid1 = model1.predict(x_train)\n",
    "p_valid2 = model2.predict(x_train)\n",
    "p_valid3 = model3.predict(x_train)\n",
    "p_valid4 = model4.predict(x_train)\n",
    "p_valid5 = model5.predict(x_train)"
   ]
  },
  {
   "cell_type": "code",
   "execution_count": 42,
   "metadata": {},
   "outputs": [],
   "source": [
    "pred = []\n"
   ]
  },
  {
   "cell_type": "code",
   "execution_count": 43,
   "metadata": {},
   "outputs": [],
   "source": [
    "for i in range(0,191381) :\n",
    "    temp = []\n",
    "    temp =  [p_valid1[i] , p_valid2[i], p_valid3[i], p_valid4[i], p_valid5[i]]\n",
    "    pred.append(np.argmax(temp))"
   ]
  },
  {
   "cell_type": "code",
   "execution_count": 44,
   "metadata": {},
   "outputs": [
    {
     "data": {
      "text/plain": [
       "array([[19193, 34797,   961, 21320,     0],\n",
       "       [ 6789,  3574,   507,  3659,     0],\n",
       "       [14811, 11633,  1885, 12644,     0],\n",
       "       [ 4126,   199,    96,   316,     0],\n",
       "       [44542,  1533,   595,  1593,     0]], dtype=int64)"
      ]
     },
     "execution_count": 44,
     "metadata": {},
     "output_type": "execute_result"
    }
   ],
   "source": [
    "from sklearn.metrics import confusion_matrix\n",
    "\n",
    "confusion_matrix(y_train, pred, labels=[1,2,3,4,5])"
   ]
  },
  {
   "cell_type": "code",
   "execution_count": 46,
   "metadata": {},
   "outputs": [
    {
     "name": "stdout",
     "output_type": "stream",
     "text": [
      "nombre de prediction : 191381\n",
      "nombre de bonne prédiction : 24968\n",
      "taux de reconnaissance : 0.1304622715943589\n"
     ]
    }
   ],
   "source": [
    "nb_ok = 0\n",
    "for i in range(191381):\n",
    "    if y_train[i] == pred[i]:\n",
    "        nb_ok += 1\n",
    "\n",
    "print(\"nombre de prediction : 191381\")\n",
    "print(\"nombre de bonne prédiction : \" + str(nb_ok))\n",
    "print(\"taux de reconnaissance : \" + str(nb_ok/191381))"
   ]
  },
  {
   "cell_type": "code",
   "execution_count": null,
   "metadata": {},
   "outputs": [],
   "source": []
  }
 ],
 "metadata": {
  "kernelspec": {
   "display_name": "Python 3",
   "language": "python",
   "name": "python3"
  },
  "language_info": {
   "codemirror_mode": {
    "name": "ipython",
    "version": 3
   },
   "file_extension": ".py",
   "mimetype": "text/x-python",
   "name": "python",
   "nbconvert_exporter": "python",
   "pygments_lexer": "ipython3",
   "version": "3.5.4"
  }
 },
 "nbformat": 4,
 "nbformat_minor": 2
}
